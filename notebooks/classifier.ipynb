{
 "cells": [
  {
   "cell_type": "code",
   "execution_count": 1,
   "id": "6d735562",
   "metadata": {},
   "outputs": [],
   "source": [
    "import pandas as pd\n",
    "import numpy as np\n",
    "import matplotlib.pyplot as plt\n",
    "import seaborn as sns\n",
    "import requests\n",
    "from bs4 import BeautifulSoup"
   ]
  },
  {
   "cell_type": "code",
   "execution_count": 2,
   "id": "afb7965d",
   "metadata": {},
   "outputs": [],
   "source": [
    "data = pd.read_json('../raw_data/news_category_data.json', lines=True)"
   ]
  },
  {
   "cell_type": "code",
   "execution_count": 11,
   "id": "e389d812",
   "metadata": {},
   "outputs": [
    {
     "data": {
      "text/plain": [
       "12         The revolution is coming to rural New Brunswick.\n",
       "66        “Together they will influence markets all over...\n",
       "125       We may not realize it, but retailers are condi...\n",
       "193                    Your next boss could be an algorithm\n",
       "286       “People didn’t view me seriously because I was...\n",
       "                                ...                        \n",
       "200762    A local contracting company offered to install...\n",
       "200763    Africa is taking command of its future by tack...\n",
       "200825    Tinkering -- that hands-on, garage-based tradi...\n",
       "200826    It's time we all step up our efforts to ensure...\n",
       "200827    Since Brady started promoting Martinez's cause...\n",
       "Name: short_description, Length: 3459, dtype: object"
      ]
     },
     "execution_count": 11,
     "metadata": {},
     "output_type": "execute_result"
    }
   ],
   "source": [
    "data[data.category == 'IMPACT']"
   ]
  },
  {
   "cell_type": "code",
   "execution_count": 7,
   "id": "42bb19c1",
   "metadata": {
    "scrolled": true
   },
   "outputs": [
    {
     "data": {
      "text/plain": [
       "['CRIME',\n",
       " 'ENTERTAINMENT',\n",
       " 'WORLD NEWS',\n",
       " 'IMPACT',\n",
       " 'POLITICS',\n",
       " 'WEIRD NEWS',\n",
       " 'BLACK VOICES',\n",
       " 'WOMEN',\n",
       " 'COMEDY',\n",
       " 'QUEER VOICES',\n",
       " 'SPORTS',\n",
       " 'BUSINESS',\n",
       " 'TRAVEL',\n",
       " 'MEDIA',\n",
       " 'TECH',\n",
       " 'RELIGION',\n",
       " 'SCIENCE',\n",
       " 'LATINO VOICES',\n",
       " 'EDUCATION',\n",
       " 'COLLEGE',\n",
       " 'PARENTS',\n",
       " 'ARTS & CULTURE',\n",
       " 'STYLE',\n",
       " 'GREEN',\n",
       " 'TASTE',\n",
       " 'HEALTHY LIVING',\n",
       " 'THE WORLDPOST',\n",
       " 'GOOD NEWS',\n",
       " 'WORLDPOST',\n",
       " 'FIFTY',\n",
       " 'ARTS',\n",
       " 'WELLNESS',\n",
       " 'PARENTING',\n",
       " 'HOME & LIVING',\n",
       " 'STYLE & BEAUTY',\n",
       " 'DIVORCE',\n",
       " 'WEDDINGS',\n",
       " 'FOOD & DRINK',\n",
       " 'MONEY',\n",
       " 'ENVIRONMENT',\n",
       " 'CULTURE & ARTS']"
      ]
     },
     "execution_count": 7,
     "metadata": {},
     "output_type": "execute_result"
    }
   ],
   "source": [
    "list(data.category.unique())"
   ]
  },
  {
   "cell_type": "code",
   "execution_count": 46,
   "id": "7dfdf578",
   "metadata": {},
   "outputs": [
    {
     "data": {
      "text/html": [
       "<div>\n",
       "<style scoped>\n",
       "    .dataframe tbody tr th:only-of-type {\n",
       "        vertical-align: middle;\n",
       "    }\n",
       "\n",
       "    .dataframe tbody tr th {\n",
       "        vertical-align: top;\n",
       "    }\n",
       "\n",
       "    .dataframe thead th {\n",
       "        text-align: right;\n",
       "    }\n",
       "</style>\n",
       "<table border=\"1\" class=\"dataframe\">\n",
       "  <thead>\n",
       "    <tr style=\"text-align: right;\">\n",
       "      <th></th>\n",
       "      <th>category</th>\n",
       "      <th>headline</th>\n",
       "      <th>authors</th>\n",
       "      <th>link</th>\n",
       "      <th>short_description</th>\n",
       "      <th>date</th>\n",
       "    </tr>\n",
       "  </thead>\n",
       "  <tbody>\n",
       "    <tr>\n",
       "      <th>125421</th>\n",
       "      <td>ENVIRONMENT</td>\n",
       "      <td>Sky Vets Perform Incredible Rescue To Save Wil...</td>\n",
       "      <td>Brianna Elliott</td>\n",
       "      <td>https://www.huffingtonpost.com/entry/skyvetts-...</td>\n",
       "      <td>Warning: This video contains graphic images of...</td>\n",
       "      <td>2014-04-13</td>\n",
       "    </tr>\n",
       "    <tr>\n",
       "      <th>125422</th>\n",
       "      <td>ENVIRONMENT</td>\n",
       "      <td>Animal Photos Of The Week: Baby Panda Goes For...</td>\n",
       "      <td></td>\n",
       "      <td>https://www.huffingtonpost.com/entry/animal-ph...</td>\n",
       "      <td>This week has been an interesting one in the w...</td>\n",
       "      <td>2014-04-13</td>\n",
       "    </tr>\n",
       "    <tr>\n",
       "      <th>125423</th>\n",
       "      <td>ENVIRONMENT</td>\n",
       "      <td>Washington Mudslide Menacing Fabled Pacific No...</td>\n",
       "      <td>Reuters, Reuters</td>\n",
       "      <td>https://www.huffingtonpost.com/entry/washingto...</td>\n",
       "      <td>The tribe - whose name means \"the river people...</td>\n",
       "      <td>2014-04-13</td>\n",
       "    </tr>\n",
       "    <tr>\n",
       "      <th>125424</th>\n",
       "      <td>ENVIRONMENT</td>\n",
       "      <td>America's Exotic Pet Obsession Is Out Of Contr...</td>\n",
       "      <td>Brianna Elliott</td>\n",
       "      <td>https://www.huffingtonpost.com/entry/americas-...</td>\n",
       "      <td>Nearly two-thirds of Americans own at least on...</td>\n",
       "      <td>2014-04-13</td>\n",
       "    </tr>\n",
       "    <tr>\n",
       "      <th>125494</th>\n",
       "      <td>ENVIRONMENT</td>\n",
       "      <td>Time to Leave Our Bad Carbon Boyfriend</td>\n",
       "      <td>Bob Brinkmann, Contributor\\nProfessor of Geolo...</td>\n",
       "      <td>https://www.huffingtonpost.com/entry/carbon-cl...</td>\n",
       "      <td>But break-ups happen all the time and we find ...</td>\n",
       "      <td>2014-04-12</td>\n",
       "    </tr>\n",
       "    <tr>\n",
       "      <th>...</th>\n",
       "      <td>...</td>\n",
       "      <td>...</td>\n",
       "      <td>...</td>\n",
       "      <td>...</td>\n",
       "      <td>...</td>\n",
       "      <td>...</td>\n",
       "    </tr>\n",
       "    <tr>\n",
       "      <th>200828</th>\n",
       "      <td>ENVIRONMENT</td>\n",
       "      <td>Boxer Puppy And Cows Make Friends During Walk ...</td>\n",
       "      <td></td>\n",
       "      <td>https://www.huffingtonpost.com/entry/boxer-pup...</td>\n",
       "      <td>This bevy of otters were also filmed having a ...</td>\n",
       "      <td>2012-01-28</td>\n",
       "    </tr>\n",
       "    <tr>\n",
       "      <th>200829</th>\n",
       "      <td>ENVIRONMENT</td>\n",
       "      <td>'Black Smoker' Vents: New Species Discovered N...</td>\n",
       "      <td></td>\n",
       "      <td>https://www.huffingtonpost.com/entry/black-smo...</td>\n",
       "      <td>Photos and captions courtesy of University of ...</td>\n",
       "      <td>2012-01-28</td>\n",
       "    </tr>\n",
       "    <tr>\n",
       "      <th>200830</th>\n",
       "      <td>ENVIRONMENT</td>\n",
       "      <td>Green Activists: 50 And Older</td>\n",
       "      <td></td>\n",
       "      <td>https://www.huffingtonpost.com/entry/green-peo...</td>\n",
       "      <td>If you look at some of today's most prominent ...</td>\n",
       "      <td>2012-01-28</td>\n",
       "    </tr>\n",
       "    <tr>\n",
       "      <th>200831</th>\n",
       "      <td>ENVIRONMENT</td>\n",
       "      <td>Winter Weather Photo Contest: Submit Your Own ...</td>\n",
       "      <td></td>\n",
       "      <td>https://www.huffingtonpost.com/entry/winter-we...</td>\n",
       "      <td>While severe winter weather has devastated som...</td>\n",
       "      <td>2012-01-28</td>\n",
       "    </tr>\n",
       "    <tr>\n",
       "      <th>200832</th>\n",
       "      <td>ENVIRONMENT</td>\n",
       "      <td>Insects Top Newly Discovered Species List</td>\n",
       "      <td></td>\n",
       "      <td>https://www.huffingtonpost.com/entry/insects-t...</td>\n",
       "      <td>Species IDs need improvement In addition to th...</td>\n",
       "      <td>2012-01-28</td>\n",
       "    </tr>\n",
       "  </tbody>\n",
       "</table>\n",
       "<p>1323 rows × 6 columns</p>\n",
       "</div>"
      ],
      "text/plain": [
       "           category                                           headline  \\\n",
       "125421  ENVIRONMENT  Sky Vets Perform Incredible Rescue To Save Wil...   \n",
       "125422  ENVIRONMENT  Animal Photos Of The Week: Baby Panda Goes For...   \n",
       "125423  ENVIRONMENT  Washington Mudslide Menacing Fabled Pacific No...   \n",
       "125424  ENVIRONMENT  America's Exotic Pet Obsession Is Out Of Contr...   \n",
       "125494  ENVIRONMENT             Time to Leave Our Bad Carbon Boyfriend   \n",
       "...             ...                                                ...   \n",
       "200828  ENVIRONMENT  Boxer Puppy And Cows Make Friends During Walk ...   \n",
       "200829  ENVIRONMENT  'Black Smoker' Vents: New Species Discovered N...   \n",
       "200830  ENVIRONMENT                      Green Activists: 50 And Older   \n",
       "200831  ENVIRONMENT  Winter Weather Photo Contest: Submit Your Own ...   \n",
       "200832  ENVIRONMENT          Insects Top Newly Discovered Species List   \n",
       "\n",
       "                                                  authors  \\\n",
       "125421                                    Brianna Elliott   \n",
       "125422                                                      \n",
       "125423                                   Reuters, Reuters   \n",
       "125424                                    Brianna Elliott   \n",
       "125494  Bob Brinkmann, Contributor\\nProfessor of Geolo...   \n",
       "...                                                   ...   \n",
       "200828                                                      \n",
       "200829                                                      \n",
       "200830                                                      \n",
       "200831                                                      \n",
       "200832                                                      \n",
       "\n",
       "                                                     link  \\\n",
       "125421  https://www.huffingtonpost.com/entry/skyvetts-...   \n",
       "125422  https://www.huffingtonpost.com/entry/animal-ph...   \n",
       "125423  https://www.huffingtonpost.com/entry/washingto...   \n",
       "125424  https://www.huffingtonpost.com/entry/americas-...   \n",
       "125494  https://www.huffingtonpost.com/entry/carbon-cl...   \n",
       "...                                                   ...   \n",
       "200828  https://www.huffingtonpost.com/entry/boxer-pup...   \n",
       "200829  https://www.huffingtonpost.com/entry/black-smo...   \n",
       "200830  https://www.huffingtonpost.com/entry/green-peo...   \n",
       "200831  https://www.huffingtonpost.com/entry/winter-we...   \n",
       "200832  https://www.huffingtonpost.com/entry/insects-t...   \n",
       "\n",
       "                                        short_description       date  \n",
       "125421  Warning: This video contains graphic images of... 2014-04-13  \n",
       "125422  This week has been an interesting one in the w... 2014-04-13  \n",
       "125423  The tribe - whose name means \"the river people... 2014-04-13  \n",
       "125424  Nearly two-thirds of Americans own at least on... 2014-04-13  \n",
       "125494  But break-ups happen all the time and we find ... 2014-04-12  \n",
       "...                                                   ...        ...  \n",
       "200828  This bevy of otters were also filmed having a ... 2012-01-28  \n",
       "200829  Photos and captions courtesy of University of ... 2012-01-28  \n",
       "200830  If you look at some of today's most prominent ... 2012-01-28  \n",
       "200831  While severe winter weather has devastated som... 2012-01-28  \n",
       "200832  Species IDs need improvement In addition to th... 2012-01-28  \n",
       "\n",
       "[1323 rows x 6 columns]"
      ]
     },
     "execution_count": 46,
     "metadata": {},
     "output_type": "execute_result"
    }
   ],
   "source": [
    "data[data.category == 'ENVIRONMENT']"
   ]
  },
  {
   "cell_type": "code",
   "execution_count": 47,
   "id": "43c5cb04",
   "metadata": {},
   "outputs": [],
   "source": [
    "my_dict = {'CRIME': 'Crime',\n",
    " 'ENTERTAINMENT': 'Entertainment',\n",
    " 'WORLD NEWS': 'World News',\n",
    " 'IMPACT': 'Other',\n",
    " 'POLITICS': 'Politics',\n",
    " 'WEIRD NEWS': 'Other',\n",
    " 'BLACK VOICES': 'Activism',\n",
    " 'WOMEN': 'Entertainment',\n",
    " 'COMEDY': 'Entertainment',\n",
    " 'QUEER VOICES': 'Activism',\n",
    " 'SPORTS': 'Sports',\n",
    " 'BUSINESS': 'Business',\n",
    " 'TRAVEL': 'Culture',\n",
    " 'MEDIA': 'Media',\n",
    " 'TECH': 'Technology',\n",
    " 'RELIGION': 'Religion',\n",
    " 'SCIENCE': 'Science',\n",
    " 'LATINO VOICES': 'Activism',\n",
    " 'EDUCATION': 'Education',\n",
    " 'COLLEGE': 'Education',\n",
    " 'PARENTS': 'Other',\n",
    " 'ARTS & CULTURE': 'Culture',\n",
    " 'STYLE': 'Trends',\n",
    " 'GREEN': 'Activism',\n",
    " 'TASTE': 'Culture',\n",
    " 'HEALTHY LIVING': 'Health',\n",
    " 'THE WORLDPOST': 'World News',\n",
    " 'GOOD NEWS': 'Other',\n",
    " 'WORLDPOST': 'World News',\n",
    " 'FIFTY': 'Other',\n",
    " 'ARTS': 'Culture',\n",
    " 'WELLNESS': 'Health',\n",
    " 'PARENTING': 'Other',\n",
    " 'HOME & LIVING': 'Trends',\n",
    " 'STYLE & BEAUTY': 'Trends',\n",
    " 'DIVORCE': 'Other',\n",
    " 'WEDDINGS': 'Other',\n",
    " 'FOOD & DRINK': 'Culture',\n",
    " 'MONEY': 'Other',\n",
    " 'ENVIRONMENT': 'Activism',\n",
    " 'CULTURE & ARTS': 'Culture'}"
   ]
  },
  {
   "cell_type": "code",
   "execution_count": 48,
   "id": "b21a189e",
   "metadata": {},
   "outputs": [
    {
     "data": {
      "text/plain": [
       "16"
      ]
     },
     "execution_count": 48,
     "metadata": {},
     "output_type": "execute_result"
    }
   ],
   "source": [
    "len(set(my_dict.values()))"
   ]
  },
  {
   "cell_type": "code",
   "execution_count": 49,
   "id": "5db24476",
   "metadata": {},
   "outputs": [],
   "source": [
    "new_data = data.copy()\n",
    "new_data['category'] = data.category.map(lambda x: my_dict[x])"
   ]
  },
  {
   "cell_type": "code",
   "execution_count": 50,
   "id": "2b4e7af3",
   "metadata": {},
   "outputs": [
    {
     "data": {
      "text/plain": [
       "Politics         32739\n",
       "Other            30344\n",
       "Entertainment    24723\n",
       "Health           24521\n",
       "Culture          22087\n",
       "Trends           16098\n",
       "Activism         15916\n",
       "World News        8420\n",
       "Business          5937\n",
       "Sports            4884\n",
       "Crime             3405\n",
       "Media             2815\n",
       "Religion          2556\n",
       "Science           2178\n",
       "Education         2148\n",
       "Technology        2082\n",
       "Name: category, dtype: int64"
      ]
     },
     "execution_count": 50,
     "metadata": {},
     "output_type": "execute_result"
    }
   ],
   "source": [
    "new_data.category.value_counts()"
   ]
  },
  {
   "cell_type": "code",
   "execution_count": 53,
   "id": "afcf6918",
   "metadata": {},
   "outputs": [],
   "source": [
    "new_data.to_csv('../big_picture/data/data_topics.csv')"
   ]
  },
  {
   "cell_type": "code",
   "execution_count": 52,
   "id": "82844b94",
   "metadata": {},
   "outputs": [
    {
     "name": "stdout",
     "output_type": "stream",
     "text": [
      "/Users/josefreitas/code/archifreitas/big_picture/notebooks\r\n"
     ]
    }
   ],
   "source": [
    "!pwd"
   ]
  },
  {
   "cell_type": "code",
   "execution_count": 54,
   "id": "a34a9134",
   "metadata": {},
   "outputs": [],
   "source": [
    "# To complete\n",
    "from tensorflow.keras import models\n",
    "from tensorflow.keras import layers\n",
    "\n",
    "def initialize_model():\n",
    "    \n",
    "    model = models.Sequential()\n",
    "    \n",
    "    model.add(layers.SimpleRNN(20, activation='tanh', input_shape=X[0].shape))\n",
    "    \n",
    "    model.add(layers.Dense(10, activation='relu'))\n",
    "    \n",
    "    model.add(layers.Dense(16, activation='sodftmax'))\n",
    "    \n",
    "    return model"
   ]
  },
  {
   "cell_type": "code",
   "execution_count": null,
   "id": "c6acaf7f",
   "metadata": {},
   "outputs": [],
   "source": []
  }
 ],
 "metadata": {
  "kernelspec": {
   "display_name": "Python 3",
   "language": "python",
   "name": "python3"
  },
  "language_info": {
   "codemirror_mode": {
    "name": "ipython",
    "version": 3
   },
   "file_extension": ".py",
   "mimetype": "text/x-python",
   "name": "python",
   "nbconvert_exporter": "python",
   "pygments_lexer": "ipython3",
   "version": "3.8.6"
  },
  "toc": {
   "base_numbering": 1,
   "nav_menu": {},
   "number_sections": true,
   "sideBar": true,
   "skip_h1_title": false,
   "title_cell": "Table of Contents",
   "title_sidebar": "Contents",
   "toc_cell": false,
   "toc_position": {},
   "toc_section_display": true,
   "toc_window_display": false
  }
 },
 "nbformat": 4,
 "nbformat_minor": 5
}
