{
 "cells": [
  {
   "cell_type": "code",
   "execution_count": 1,
   "id": "6d735562",
   "metadata": {},
   "outputs": [],
   "source": [
    "import pandas as pd\n",
    "import numpy as np\n",
    "import matplotlib.pyplot as plt\n",
    "import seaborn as sns\n",
    "import requests\n",
    "from bs4 import BeautifulSoup"
   ]
  },
  {
   "cell_type": "markdown",
   "id": "815f176d",
   "metadata": {},
   "source": [
    "## Import data"
   ]
  },
  {
   "cell_type": "code",
   "execution_count": 2,
   "id": "afb7965d",
   "metadata": {},
   "outputs": [],
   "source": [
    "data = pd.read_json('../raw_data/news_category_data.json', lines=True)"
   ]
  },
  {
   "cell_type": "code",
   "execution_count": 4,
   "id": "e389d812",
   "metadata": {},
   "outputs": [
    {
     "data": {
      "text/html": [
       "<div>\n",
       "<style scoped>\n",
       "    .dataframe tbody tr th:only-of-type {\n",
       "        vertical-align: middle;\n",
       "    }\n",
       "\n",
       "    .dataframe tbody tr th {\n",
       "        vertical-align: top;\n",
       "    }\n",
       "\n",
       "    .dataframe thead th {\n",
       "        text-align: right;\n",
       "    }\n",
       "</style>\n",
       "<table border=\"1\" class=\"dataframe\">\n",
       "  <thead>\n",
       "    <tr style=\"text-align: right;\">\n",
       "      <th></th>\n",
       "      <th>category</th>\n",
       "      <th>headline</th>\n",
       "      <th>authors</th>\n",
       "      <th>link</th>\n",
       "      <th>short_description</th>\n",
       "      <th>date</th>\n",
       "    </tr>\n",
       "  </thead>\n",
       "  <tbody>\n",
       "    <tr>\n",
       "      <th>12</th>\n",
       "      <td>IMPACT</td>\n",
       "      <td>With Its Way Of Life At Risk, This Remote Oyst...</td>\n",
       "      <td>Karen Pinchin</td>\n",
       "      <td>https://www.huffingtonpost.com/entry/remote-oy...</td>\n",
       "      <td>The revolution is coming to rural New Brunswick.</td>\n",
       "      <td>2018-05-26</td>\n",
       "    </tr>\n",
       "    <tr>\n",
       "      <th>66</th>\n",
       "      <td>IMPACT</td>\n",
       "      <td>Monsanto And Bayer Are Set To Merge. Here's Wh...</td>\n",
       "      <td>Arthur Neslen, On Assignment For HuffPost</td>\n",
       "      <td>https://www.huffingtonpost.com/entry/monsanto-...</td>\n",
       "      <td>“Together they will influence markets all over...</td>\n",
       "      <td>2018-05-25</td>\n",
       "    </tr>\n",
       "    <tr>\n",
       "      <th>125</th>\n",
       "      <td>IMPACT</td>\n",
       "      <td>You're Going To Use That Self-Checkout Machine...</td>\n",
       "      <td>Dave Jamieson</td>\n",
       "      <td>https://www.huffingtonpost.com/entry/youre-goi...</td>\n",
       "      <td>We may not realize it, but retailers are condi...</td>\n",
       "      <td>2018-05-24</td>\n",
       "    </tr>\n",
       "    <tr>\n",
       "      <th>193</th>\n",
       "      <td>IMPACT</td>\n",
       "      <td>Machines Don't Always Steal Our Jobs. Increasi...</td>\n",
       "      <td>Mark Harris, On assignment for HuffPost</td>\n",
       "      <td>https://www.huffingtonpost.com/entry/jobs-robo...</td>\n",
       "      <td>Your next boss could be an algorithm</td>\n",
       "      <td>2018-05-23</td>\n",
       "    </tr>\n",
       "    <tr>\n",
       "      <th>286</th>\n",
       "      <td>IMPACT</td>\n",
       "      <td>She Started A Suicide Prevention Site At Age 1...</td>\n",
       "      <td>Lauren Rearick</td>\n",
       "      <td>https://www.huffingtonpost.com/entry/buddy-pro...</td>\n",
       "      <td>“People didn’t view me seriously because I was...</td>\n",
       "      <td>2018-05-21</td>\n",
       "    </tr>\n",
       "    <tr>\n",
       "      <th>...</th>\n",
       "      <td>...</td>\n",
       "      <td>...</td>\n",
       "      <td>...</td>\n",
       "      <td>...</td>\n",
       "      <td>...</td>\n",
       "      <td>...</td>\n",
       "    </tr>\n",
       "    <tr>\n",
       "      <th>200762</th>\n",
       "      <td>IMPACT</td>\n",
       "      <td>Texana Hollis, 101-Year-Old Evicted Detroit Wo...</td>\n",
       "      <td></td>\n",
       "      <td>https://www.huffingtonpost.com/entry/texana-ho...</td>\n",
       "      <td>A local contracting company offered to install...</td>\n",
       "      <td>2012-01-29</td>\n",
       "    </tr>\n",
       "    <tr>\n",
       "      <th>200763</th>\n",
       "      <td>IMPACT</td>\n",
       "      <td>Malaria's Defeat, Africa's Future</td>\n",
       "      <td>Ellen Johnson-Sirleaf, Contributor\\nPresident ...</td>\n",
       "      <td>https://www.huffingtonpost.com/entry/malarias-...</td>\n",
       "      <td>Africa is taking command of its future by tack...</td>\n",
       "      <td>2012-01-29</td>\n",
       "    </tr>\n",
       "    <tr>\n",
       "      <th>200825</th>\n",
       "      <td>IMPACT</td>\n",
       "      <td>Tinker and Change the World</td>\n",
       "      <td>Larry Bock, Contributor\\nFounder and Organizer...</td>\n",
       "      <td>https://www.huffingtonpost.com/entry/hands-on-...</td>\n",
       "      <td>Tinkering -- that hands-on, garage-based tradi...</td>\n",
       "      <td>2012-01-28</td>\n",
       "    </tr>\n",
       "    <tr>\n",
       "      <th>200826</th>\n",
       "      <td>IMPACT</td>\n",
       "      <td>Pregnant and Displaced: Double the Danger</td>\n",
       "      <td>Sarah Costa, Contributor\\nExecutive Director o...</td>\n",
       "      <td>https://www.huffingtonpost.com/entry/maternal-...</td>\n",
       "      <td>It's time we all step up our efforts to ensure...</td>\n",
       "      <td>2012-01-28</td>\n",
       "    </tr>\n",
       "    <tr>\n",
       "      <th>200827</th>\n",
       "      <td>IMPACT</td>\n",
       "      <td>Tom Brady Helps Mentor, Tom Martinez, Find A K...</td>\n",
       "      <td></td>\n",
       "      <td>https://www.huffingtonpost.com/entry/tom-brady...</td>\n",
       "      <td>Since Brady started promoting Martinez's cause...</td>\n",
       "      <td>2012-01-28</td>\n",
       "    </tr>\n",
       "  </tbody>\n",
       "</table>\n",
       "<p>3459 rows × 6 columns</p>\n",
       "</div>"
      ],
      "text/plain": [
       "       category                                           headline  \\\n",
       "12       IMPACT  With Its Way Of Life At Risk, This Remote Oyst...   \n",
       "66       IMPACT  Monsanto And Bayer Are Set To Merge. Here's Wh...   \n",
       "125      IMPACT  You're Going To Use That Self-Checkout Machine...   \n",
       "193      IMPACT  Machines Don't Always Steal Our Jobs. Increasi...   \n",
       "286      IMPACT  She Started A Suicide Prevention Site At Age 1...   \n",
       "...         ...                                                ...   \n",
       "200762   IMPACT  Texana Hollis, 101-Year-Old Evicted Detroit Wo...   \n",
       "200763   IMPACT                  Malaria's Defeat, Africa's Future   \n",
       "200825   IMPACT                        Tinker and Change the World   \n",
       "200826   IMPACT          Pregnant and Displaced: Double the Danger   \n",
       "200827   IMPACT  Tom Brady Helps Mentor, Tom Martinez, Find A K...   \n",
       "\n",
       "                                                  authors  \\\n",
       "12                                          Karen Pinchin   \n",
       "66              Arthur Neslen, On Assignment For HuffPost   \n",
       "125                                         Dave Jamieson   \n",
       "193               Mark Harris, On assignment for HuffPost   \n",
       "286                                        Lauren Rearick   \n",
       "...                                                   ...   \n",
       "200762                                                      \n",
       "200763  Ellen Johnson-Sirleaf, Contributor\\nPresident ...   \n",
       "200825  Larry Bock, Contributor\\nFounder and Organizer...   \n",
       "200826  Sarah Costa, Contributor\\nExecutive Director o...   \n",
       "200827                                                      \n",
       "\n",
       "                                                     link  \\\n",
       "12      https://www.huffingtonpost.com/entry/remote-oy...   \n",
       "66      https://www.huffingtonpost.com/entry/monsanto-...   \n",
       "125     https://www.huffingtonpost.com/entry/youre-goi...   \n",
       "193     https://www.huffingtonpost.com/entry/jobs-robo...   \n",
       "286     https://www.huffingtonpost.com/entry/buddy-pro...   \n",
       "...                                                   ...   \n",
       "200762  https://www.huffingtonpost.com/entry/texana-ho...   \n",
       "200763  https://www.huffingtonpost.com/entry/malarias-...   \n",
       "200825  https://www.huffingtonpost.com/entry/hands-on-...   \n",
       "200826  https://www.huffingtonpost.com/entry/maternal-...   \n",
       "200827  https://www.huffingtonpost.com/entry/tom-brady...   \n",
       "\n",
       "                                        short_description       date  \n",
       "12       The revolution is coming to rural New Brunswick. 2018-05-26  \n",
       "66      “Together they will influence markets all over... 2018-05-25  \n",
       "125     We may not realize it, but retailers are condi... 2018-05-24  \n",
       "193                  Your next boss could be an algorithm 2018-05-23  \n",
       "286     “People didn’t view me seriously because I was... 2018-05-21  \n",
       "...                                                   ...        ...  \n",
       "200762  A local contracting company offered to install... 2012-01-29  \n",
       "200763  Africa is taking command of its future by tack... 2012-01-29  \n",
       "200825  Tinkering -- that hands-on, garage-based tradi... 2012-01-28  \n",
       "200826  It's time we all step up our efforts to ensure... 2012-01-28  \n",
       "200827  Since Brady started promoting Martinez's cause... 2012-01-28  \n",
       "\n",
       "[3459 rows x 6 columns]"
      ]
     },
     "execution_count": 4,
     "metadata": {},
     "output_type": "execute_result"
    }
   ],
   "source": [
    "data[data.category == 'IMPACT']"
   ]
  },
  {
   "cell_type": "code",
   "execution_count": 5,
   "id": "42bb19c1",
   "metadata": {
    "collapsed": true
   },
   "outputs": [
    {
     "data": {
      "text/plain": [
       "['CRIME',\n",
       " 'ENTERTAINMENT',\n",
       " 'WORLD NEWS',\n",
       " 'IMPACT',\n",
       " 'POLITICS',\n",
       " 'WEIRD NEWS',\n",
       " 'BLACK VOICES',\n",
       " 'WOMEN',\n",
       " 'COMEDY',\n",
       " 'QUEER VOICES',\n",
       " 'SPORTS',\n",
       " 'BUSINESS',\n",
       " 'TRAVEL',\n",
       " 'MEDIA',\n",
       " 'TECH',\n",
       " 'RELIGION',\n",
       " 'SCIENCE',\n",
       " 'LATINO VOICES',\n",
       " 'EDUCATION',\n",
       " 'COLLEGE',\n",
       " 'PARENTS',\n",
       " 'ARTS & CULTURE',\n",
       " 'STYLE',\n",
       " 'GREEN',\n",
       " 'TASTE',\n",
       " 'HEALTHY LIVING',\n",
       " 'THE WORLDPOST',\n",
       " 'GOOD NEWS',\n",
       " 'WORLDPOST',\n",
       " 'FIFTY',\n",
       " 'ARTS',\n",
       " 'WELLNESS',\n",
       " 'PARENTING',\n",
       " 'HOME & LIVING',\n",
       " 'STYLE & BEAUTY',\n",
       " 'DIVORCE',\n",
       " 'WEDDINGS',\n",
       " 'FOOD & DRINK',\n",
       " 'MONEY',\n",
       " 'ENVIRONMENT',\n",
       " 'CULTURE & ARTS']"
      ]
     },
     "execution_count": 5,
     "metadata": {},
     "output_type": "execute_result"
    }
   ],
   "source": [
    "list(data.category.unique())"
   ]
  },
  {
   "cell_type": "code",
   "execution_count": 6,
   "id": "7dfdf578",
   "metadata": {
    "collapsed": true
   },
   "outputs": [
    {
     "data": {
      "text/html": [
       "<div>\n",
       "<style scoped>\n",
       "    .dataframe tbody tr th:only-of-type {\n",
       "        vertical-align: middle;\n",
       "    }\n",
       "\n",
       "    .dataframe tbody tr th {\n",
       "        vertical-align: top;\n",
       "    }\n",
       "\n",
       "    .dataframe thead th {\n",
       "        text-align: right;\n",
       "    }\n",
       "</style>\n",
       "<table border=\"1\" class=\"dataframe\">\n",
       "  <thead>\n",
       "    <tr style=\"text-align: right;\">\n",
       "      <th></th>\n",
       "      <th>category</th>\n",
       "      <th>headline</th>\n",
       "      <th>authors</th>\n",
       "      <th>link</th>\n",
       "      <th>short_description</th>\n",
       "      <th>date</th>\n",
       "    </tr>\n",
       "  </thead>\n",
       "  <tbody>\n",
       "    <tr>\n",
       "      <th>125421</th>\n",
       "      <td>ENVIRONMENT</td>\n",
       "      <td>Sky Vets Perform Incredible Rescue To Save Wil...</td>\n",
       "      <td>Brianna Elliott</td>\n",
       "      <td>https://www.huffingtonpost.com/entry/skyvetts-...</td>\n",
       "      <td>Warning: This video contains graphic images of...</td>\n",
       "      <td>2014-04-13</td>\n",
       "    </tr>\n",
       "    <tr>\n",
       "      <th>125422</th>\n",
       "      <td>ENVIRONMENT</td>\n",
       "      <td>Animal Photos Of The Week: Baby Panda Goes For...</td>\n",
       "      <td></td>\n",
       "      <td>https://www.huffingtonpost.com/entry/animal-ph...</td>\n",
       "      <td>This week has been an interesting one in the w...</td>\n",
       "      <td>2014-04-13</td>\n",
       "    </tr>\n",
       "    <tr>\n",
       "      <th>125423</th>\n",
       "      <td>ENVIRONMENT</td>\n",
       "      <td>Washington Mudslide Menacing Fabled Pacific No...</td>\n",
       "      <td>Reuters, Reuters</td>\n",
       "      <td>https://www.huffingtonpost.com/entry/washingto...</td>\n",
       "      <td>The tribe - whose name means \"the river people...</td>\n",
       "      <td>2014-04-13</td>\n",
       "    </tr>\n",
       "    <tr>\n",
       "      <th>125424</th>\n",
       "      <td>ENVIRONMENT</td>\n",
       "      <td>America's Exotic Pet Obsession Is Out Of Contr...</td>\n",
       "      <td>Brianna Elliott</td>\n",
       "      <td>https://www.huffingtonpost.com/entry/americas-...</td>\n",
       "      <td>Nearly two-thirds of Americans own at least on...</td>\n",
       "      <td>2014-04-13</td>\n",
       "    </tr>\n",
       "    <tr>\n",
       "      <th>125494</th>\n",
       "      <td>ENVIRONMENT</td>\n",
       "      <td>Time to Leave Our Bad Carbon Boyfriend</td>\n",
       "      <td>Bob Brinkmann, Contributor\\nProfessor of Geolo...</td>\n",
       "      <td>https://www.huffingtonpost.com/entry/carbon-cl...</td>\n",
       "      <td>But break-ups happen all the time and we find ...</td>\n",
       "      <td>2014-04-12</td>\n",
       "    </tr>\n",
       "    <tr>\n",
       "      <th>...</th>\n",
       "      <td>...</td>\n",
       "      <td>...</td>\n",
       "      <td>...</td>\n",
       "      <td>...</td>\n",
       "      <td>...</td>\n",
       "      <td>...</td>\n",
       "    </tr>\n",
       "    <tr>\n",
       "      <th>200828</th>\n",
       "      <td>ENVIRONMENT</td>\n",
       "      <td>Boxer Puppy And Cows Make Friends During Walk ...</td>\n",
       "      <td></td>\n",
       "      <td>https://www.huffingtonpost.com/entry/boxer-pup...</td>\n",
       "      <td>This bevy of otters were also filmed having a ...</td>\n",
       "      <td>2012-01-28</td>\n",
       "    </tr>\n",
       "    <tr>\n",
       "      <th>200829</th>\n",
       "      <td>ENVIRONMENT</td>\n",
       "      <td>'Black Smoker' Vents: New Species Discovered N...</td>\n",
       "      <td></td>\n",
       "      <td>https://www.huffingtonpost.com/entry/black-smo...</td>\n",
       "      <td>Photos and captions courtesy of University of ...</td>\n",
       "      <td>2012-01-28</td>\n",
       "    </tr>\n",
       "    <tr>\n",
       "      <th>200830</th>\n",
       "      <td>ENVIRONMENT</td>\n",
       "      <td>Green Activists: 50 And Older</td>\n",
       "      <td></td>\n",
       "      <td>https://www.huffingtonpost.com/entry/green-peo...</td>\n",
       "      <td>If you look at some of today's most prominent ...</td>\n",
       "      <td>2012-01-28</td>\n",
       "    </tr>\n",
       "    <tr>\n",
       "      <th>200831</th>\n",
       "      <td>ENVIRONMENT</td>\n",
       "      <td>Winter Weather Photo Contest: Submit Your Own ...</td>\n",
       "      <td></td>\n",
       "      <td>https://www.huffingtonpost.com/entry/winter-we...</td>\n",
       "      <td>While severe winter weather has devastated som...</td>\n",
       "      <td>2012-01-28</td>\n",
       "    </tr>\n",
       "    <tr>\n",
       "      <th>200832</th>\n",
       "      <td>ENVIRONMENT</td>\n",
       "      <td>Insects Top Newly Discovered Species List</td>\n",
       "      <td></td>\n",
       "      <td>https://www.huffingtonpost.com/entry/insects-t...</td>\n",
       "      <td>Species IDs need improvement In addition to th...</td>\n",
       "      <td>2012-01-28</td>\n",
       "    </tr>\n",
       "  </tbody>\n",
       "</table>\n",
       "<p>1323 rows × 6 columns</p>\n",
       "</div>"
      ],
      "text/plain": [
       "           category                                           headline  \\\n",
       "125421  ENVIRONMENT  Sky Vets Perform Incredible Rescue To Save Wil...   \n",
       "125422  ENVIRONMENT  Animal Photos Of The Week: Baby Panda Goes For...   \n",
       "125423  ENVIRONMENT  Washington Mudslide Menacing Fabled Pacific No...   \n",
       "125424  ENVIRONMENT  America's Exotic Pet Obsession Is Out Of Contr...   \n",
       "125494  ENVIRONMENT             Time to Leave Our Bad Carbon Boyfriend   \n",
       "...             ...                                                ...   \n",
       "200828  ENVIRONMENT  Boxer Puppy And Cows Make Friends During Walk ...   \n",
       "200829  ENVIRONMENT  'Black Smoker' Vents: New Species Discovered N...   \n",
       "200830  ENVIRONMENT                      Green Activists: 50 And Older   \n",
       "200831  ENVIRONMENT  Winter Weather Photo Contest: Submit Your Own ...   \n",
       "200832  ENVIRONMENT          Insects Top Newly Discovered Species List   \n",
       "\n",
       "                                                  authors  \\\n",
       "125421                                    Brianna Elliott   \n",
       "125422                                                      \n",
       "125423                                   Reuters, Reuters   \n",
       "125424                                    Brianna Elliott   \n",
       "125494  Bob Brinkmann, Contributor\\nProfessor of Geolo...   \n",
       "...                                                   ...   \n",
       "200828                                                      \n",
       "200829                                                      \n",
       "200830                                                      \n",
       "200831                                                      \n",
       "200832                                                      \n",
       "\n",
       "                                                     link  \\\n",
       "125421  https://www.huffingtonpost.com/entry/skyvetts-...   \n",
       "125422  https://www.huffingtonpost.com/entry/animal-ph...   \n",
       "125423  https://www.huffingtonpost.com/entry/washingto...   \n",
       "125424  https://www.huffingtonpost.com/entry/americas-...   \n",
       "125494  https://www.huffingtonpost.com/entry/carbon-cl...   \n",
       "...                                                   ...   \n",
       "200828  https://www.huffingtonpost.com/entry/boxer-pup...   \n",
       "200829  https://www.huffingtonpost.com/entry/black-smo...   \n",
       "200830  https://www.huffingtonpost.com/entry/green-peo...   \n",
       "200831  https://www.huffingtonpost.com/entry/winter-we...   \n",
       "200832  https://www.huffingtonpost.com/entry/insects-t...   \n",
       "\n",
       "                                        short_description       date  \n",
       "125421  Warning: This video contains graphic images of... 2014-04-13  \n",
       "125422  This week has been an interesting one in the w... 2014-04-13  \n",
       "125423  The tribe - whose name means \"the river people... 2014-04-13  \n",
       "125424  Nearly two-thirds of Americans own at least on... 2014-04-13  \n",
       "125494  But break-ups happen all the time and we find ... 2014-04-12  \n",
       "...                                                   ...        ...  \n",
       "200828  This bevy of otters were also filmed having a ... 2012-01-28  \n",
       "200829  Photos and captions courtesy of University of ... 2012-01-28  \n",
       "200830  If you look at some of today's most prominent ... 2012-01-28  \n",
       "200831  While severe winter weather has devastated som... 2012-01-28  \n",
       "200832  Species IDs need improvement In addition to th... 2012-01-28  \n",
       "\n",
       "[1323 rows x 6 columns]"
      ]
     },
     "execution_count": 6,
     "metadata": {},
     "output_type": "execute_result"
    }
   ],
   "source": [
    "data[data.category == 'ENVIRONMENT']"
   ]
  },
  {
   "cell_type": "markdown",
   "id": "5a2fa8f6",
   "metadata": {},
   "source": [
    "## Clean data"
   ]
  },
  {
   "cell_type": "markdown",
   "id": "206c1e8e",
   "metadata": {
    "heading_collapsed": true
   },
   "source": [
    "### Categories remapping"
   ]
  },
  {
   "cell_type": "code",
   "execution_count": 6,
   "id": "43c5cb04",
   "metadata": {
    "hidden": true
   },
   "outputs": [],
   "source": [
    "my_dict = {'CRIME': 'Crime',\n",
    " 'ENTERTAINMENT': 'Entertainment',\n",
    " 'WORLD NEWS': 'World News',\n",
    " 'IMPACT': 'Other',\n",
    " 'POLITICS': 'Politics',\n",
    " 'WEIRD NEWS': 'Other',\n",
    " 'BLACK VOICES': 'Activism',\n",
    " 'WOMEN': 'Entertainment',\n",
    " 'COMEDY': 'Entertainment',\n",
    " 'QUEER VOICES': 'Activism',\n",
    " 'SPORTS': 'Sports',\n",
    " 'BUSINESS': 'Business',\n",
    " 'TRAVEL': 'Culture',\n",
    " 'MEDIA': 'Media',\n",
    " 'TECH': 'Technology',\n",
    " 'RELIGION': 'Religion',\n",
    " 'SCIENCE': 'Science',\n",
    " 'LATINO VOICES': 'Activism',\n",
    " 'EDUCATION': 'Education',\n",
    " 'COLLEGE': 'Education',\n",
    " 'PARENTS': 'Other',\n",
    " 'ARTS & CULTURE': 'Culture',\n",
    " 'STYLE': 'Trends',\n",
    " 'GREEN': 'Activism',\n",
    " 'TASTE': 'Culture',\n",
    " 'HEALTHY LIVING': 'Health',\n",
    " 'THE WORLDPOST': 'World News',\n",
    " 'GOOD NEWS': 'Other',\n",
    " 'WORLDPOST': 'World News',\n",
    " 'FIFTY': 'Other',\n",
    " 'ARTS': 'Culture',\n",
    " 'WELLNESS': 'Health',\n",
    " 'PARENTING': 'Other',\n",
    " 'HOME & LIVING': 'Trends',\n",
    " 'STYLE & BEAUTY': 'Trends',\n",
    " 'DIVORCE': 'Other',\n",
    " 'WEDDINGS': 'Other',\n",
    " 'FOOD & DRINK': 'Culture',\n",
    " 'MONEY': 'Other',\n",
    " 'ENVIRONMENT': 'Activism',\n",
    " 'CULTURE & ARTS': 'Culture'}"
   ]
  },
  {
   "cell_type": "code",
   "execution_count": 8,
   "id": "b21a189e",
   "metadata": {
    "hidden": true,
    "scrolled": true
   },
   "outputs": [
    {
     "data": {
      "text/plain": [
       "16"
      ]
     },
     "execution_count": 8,
     "metadata": {},
     "output_type": "execute_result"
    }
   ],
   "source": [
    "len(set(my_dict.values()))"
   ]
  },
  {
   "cell_type": "markdown",
   "id": "243e746b",
   "metadata": {},
   "source": [
    "### cleaning data"
   ]
  },
  {
   "cell_type": "code",
   "execution_count": 128,
   "id": "799b7ecd",
   "metadata": {},
   "outputs": [],
   "source": [
    "merged_data = pd.read_csv('../big_picture/data/all_data_12k_merged_cols.csv')"
   ]
  },
  {
   "cell_type": "code",
   "execution_count": 129,
   "id": "7878d8fa",
   "metadata": {},
   "outputs": [],
   "source": [
    "clean_data = data\n",
    "#clean_data = merged_data.iloc[:, 3:]"
   ]
  },
  {
   "cell_type": "code",
   "execution_count": 130,
   "id": "5db24476",
   "metadata": {},
   "outputs": [],
   "source": [
    "new_data = clean_data.copy()\n",
    "new_data['category'] = clean_data.category.map(lambda x: my_dict[x])"
   ]
  },
  {
   "cell_type": "code",
   "execution_count": 131,
   "id": "d0ab8c94",
   "metadata": {},
   "outputs": [
    {
     "ename": "KeyError",
     "evalue": "'content'",
     "output_type": "error",
     "traceback": [
      "\u001b[0;31m---------------------------------------------------------------------------\u001b[0m",
      "\u001b[0;31mKeyError\u001b[0m                                  Traceback (most recent call last)",
      "\u001b[0;32m~/.pyenv/versions/3.8.6/envs/lewagon/lib/python3.8/site-packages/pandas/core/indexes/base.py\u001b[0m in \u001b[0;36mget_loc\u001b[0;34m(self, key, method, tolerance)\u001b[0m\n\u001b[1;32m   3079\u001b[0m             \u001b[0;32mtry\u001b[0m\u001b[0;34m:\u001b[0m\u001b[0;34m\u001b[0m\u001b[0;34m\u001b[0m\u001b[0m\n\u001b[0;32m-> 3080\u001b[0;31m                 \u001b[0;32mreturn\u001b[0m \u001b[0mself\u001b[0m\u001b[0;34m.\u001b[0m\u001b[0m_engine\u001b[0m\u001b[0;34m.\u001b[0m\u001b[0mget_loc\u001b[0m\u001b[0;34m(\u001b[0m\u001b[0mcasted_key\u001b[0m\u001b[0;34m)\u001b[0m\u001b[0;34m\u001b[0m\u001b[0;34m\u001b[0m\u001b[0m\n\u001b[0m\u001b[1;32m   3081\u001b[0m             \u001b[0;32mexcept\u001b[0m \u001b[0mKeyError\u001b[0m \u001b[0;32mas\u001b[0m \u001b[0merr\u001b[0m\u001b[0;34m:\u001b[0m\u001b[0;34m\u001b[0m\u001b[0;34m\u001b[0m\u001b[0m\n",
      "\u001b[0;32mpandas/_libs/index.pyx\u001b[0m in \u001b[0;36mpandas._libs.index.IndexEngine.get_loc\u001b[0;34m()\u001b[0m\n",
      "\u001b[0;32mpandas/_libs/index.pyx\u001b[0m in \u001b[0;36mpandas._libs.index.IndexEngine.get_loc\u001b[0;34m()\u001b[0m\n",
      "\u001b[0;32mpandas/_libs/hashtable_class_helper.pxi\u001b[0m in \u001b[0;36mpandas._libs.hashtable.PyObjectHashTable.get_item\u001b[0;34m()\u001b[0m\n",
      "\u001b[0;32mpandas/_libs/hashtable_class_helper.pxi\u001b[0m in \u001b[0;36mpandas._libs.hashtable.PyObjectHashTable.get_item\u001b[0;34m()\u001b[0m\n",
      "\u001b[0;31mKeyError\u001b[0m: 'content'",
      "\nThe above exception was the direct cause of the following exception:\n",
      "\u001b[0;31mKeyError\u001b[0m                                  Traceback (most recent call last)",
      "\u001b[0;32m<ipython-input-131-6ae13772e25e>\u001b[0m in \u001b[0;36m<module>\u001b[0;34m\u001b[0m\n\u001b[0;32m----> 1\u001b[0;31m \u001b[0mnew_data\u001b[0m \u001b[0;34m=\u001b[0m \u001b[0mnew_data\u001b[0m\u001b[0;34m[\u001b[0m\u001b[0mnew_data\u001b[0m\u001b[0;34m[\u001b[0m\u001b[0;34m'content'\u001b[0m\u001b[0;34m]\u001b[0m \u001b[0;34m!=\u001b[0m \u001b[0;34m'Invalid file'\u001b[0m\u001b[0;34m]\u001b[0m\u001b[0;34m.\u001b[0m\u001b[0mreset_index\u001b[0m\u001b[0;34m(\u001b[0m\u001b[0;34m)\u001b[0m\u001b[0;34m.\u001b[0m\u001b[0mdrop\u001b[0m\u001b[0;34m(\u001b[0m\u001b[0mcolumns\u001b[0m\u001b[0;34m=\u001b[0m\u001b[0;34m'index'\u001b[0m\u001b[0;34m)\u001b[0m\u001b[0;34m\u001b[0m\u001b[0;34m\u001b[0m\u001b[0m\n\u001b[0m",
      "\u001b[0;32m~/.pyenv/versions/3.8.6/envs/lewagon/lib/python3.8/site-packages/pandas/core/frame.py\u001b[0m in \u001b[0;36m__getitem__\u001b[0;34m(self, key)\u001b[0m\n\u001b[1;32m   3022\u001b[0m             \u001b[0;32mif\u001b[0m \u001b[0mself\u001b[0m\u001b[0;34m.\u001b[0m\u001b[0mcolumns\u001b[0m\u001b[0;34m.\u001b[0m\u001b[0mnlevels\u001b[0m \u001b[0;34m>\u001b[0m \u001b[0;36m1\u001b[0m\u001b[0;34m:\u001b[0m\u001b[0;34m\u001b[0m\u001b[0;34m\u001b[0m\u001b[0m\n\u001b[1;32m   3023\u001b[0m                 \u001b[0;32mreturn\u001b[0m \u001b[0mself\u001b[0m\u001b[0;34m.\u001b[0m\u001b[0m_getitem_multilevel\u001b[0m\u001b[0;34m(\u001b[0m\u001b[0mkey\u001b[0m\u001b[0;34m)\u001b[0m\u001b[0;34m\u001b[0m\u001b[0;34m\u001b[0m\u001b[0m\n\u001b[0;32m-> 3024\u001b[0;31m             \u001b[0mindexer\u001b[0m \u001b[0;34m=\u001b[0m \u001b[0mself\u001b[0m\u001b[0;34m.\u001b[0m\u001b[0mcolumns\u001b[0m\u001b[0;34m.\u001b[0m\u001b[0mget_loc\u001b[0m\u001b[0;34m(\u001b[0m\u001b[0mkey\u001b[0m\u001b[0;34m)\u001b[0m\u001b[0;34m\u001b[0m\u001b[0;34m\u001b[0m\u001b[0m\n\u001b[0m\u001b[1;32m   3025\u001b[0m             \u001b[0;32mif\u001b[0m \u001b[0mis_integer\u001b[0m\u001b[0;34m(\u001b[0m\u001b[0mindexer\u001b[0m\u001b[0;34m)\u001b[0m\u001b[0;34m:\u001b[0m\u001b[0;34m\u001b[0m\u001b[0;34m\u001b[0m\u001b[0m\n\u001b[1;32m   3026\u001b[0m                 \u001b[0mindexer\u001b[0m \u001b[0;34m=\u001b[0m \u001b[0;34m[\u001b[0m\u001b[0mindexer\u001b[0m\u001b[0;34m]\u001b[0m\u001b[0;34m\u001b[0m\u001b[0;34m\u001b[0m\u001b[0m\n",
      "\u001b[0;32m~/.pyenv/versions/3.8.6/envs/lewagon/lib/python3.8/site-packages/pandas/core/indexes/base.py\u001b[0m in \u001b[0;36mget_loc\u001b[0;34m(self, key, method, tolerance)\u001b[0m\n\u001b[1;32m   3080\u001b[0m                 \u001b[0;32mreturn\u001b[0m \u001b[0mself\u001b[0m\u001b[0;34m.\u001b[0m\u001b[0m_engine\u001b[0m\u001b[0;34m.\u001b[0m\u001b[0mget_loc\u001b[0m\u001b[0;34m(\u001b[0m\u001b[0mcasted_key\u001b[0m\u001b[0;34m)\u001b[0m\u001b[0;34m\u001b[0m\u001b[0;34m\u001b[0m\u001b[0m\n\u001b[1;32m   3081\u001b[0m             \u001b[0;32mexcept\u001b[0m \u001b[0mKeyError\u001b[0m \u001b[0;32mas\u001b[0m \u001b[0merr\u001b[0m\u001b[0;34m:\u001b[0m\u001b[0;34m\u001b[0m\u001b[0;34m\u001b[0m\u001b[0m\n\u001b[0;32m-> 3082\u001b[0;31m                 \u001b[0;32mraise\u001b[0m \u001b[0mKeyError\u001b[0m\u001b[0;34m(\u001b[0m\u001b[0mkey\u001b[0m\u001b[0;34m)\u001b[0m \u001b[0;32mfrom\u001b[0m \u001b[0merr\u001b[0m\u001b[0;34m\u001b[0m\u001b[0;34m\u001b[0m\u001b[0m\n\u001b[0m\u001b[1;32m   3083\u001b[0m \u001b[0;34m\u001b[0m\u001b[0m\n\u001b[1;32m   3084\u001b[0m         \u001b[0;32mif\u001b[0m \u001b[0mtolerance\u001b[0m \u001b[0;32mis\u001b[0m \u001b[0;32mnot\u001b[0m \u001b[0;32mNone\u001b[0m\u001b[0;34m:\u001b[0m\u001b[0;34m\u001b[0m\u001b[0;34m\u001b[0m\u001b[0m\n",
      "\u001b[0;31mKeyError\u001b[0m: 'content'"
     ]
    }
   ],
   "source": [
    "new_data = new_data[new_data['content'] != 'Invalid file'].reset_index().drop(columns='index')"
   ]
  },
  {
   "cell_type": "code",
   "execution_count": 132,
   "id": "8482df9e",
   "metadata": {},
   "outputs": [
    {
     "data": {
      "text/html": [
       "<div>\n",
       "<style scoped>\n",
       "    .dataframe tbody tr th:only-of-type {\n",
       "        vertical-align: middle;\n",
       "    }\n",
       "\n",
       "    .dataframe tbody tr th {\n",
       "        vertical-align: top;\n",
       "    }\n",
       "\n",
       "    .dataframe thead th {\n",
       "        text-align: right;\n",
       "    }\n",
       "</style>\n",
       "<table border=\"1\" class=\"dataframe\">\n",
       "  <thead>\n",
       "    <tr style=\"text-align: right;\">\n",
       "      <th></th>\n",
       "      <th>category</th>\n",
       "      <th>headline</th>\n",
       "      <th>authors</th>\n",
       "      <th>link</th>\n",
       "      <th>short_description</th>\n",
       "      <th>date</th>\n",
       "    </tr>\n",
       "  </thead>\n",
       "  <tbody>\n",
       "    <tr>\n",
       "      <th>0</th>\n",
       "      <td>Crime</td>\n",
       "      <td>There Were 2 Mass Shootings In Texas Last Week...</td>\n",
       "      <td>Melissa Jeltsen</td>\n",
       "      <td>https://www.huffingtonpost.com/entry/texas-ama...</td>\n",
       "      <td>She left her husband. He killed their children...</td>\n",
       "      <td>2018-05-26</td>\n",
       "    </tr>\n",
       "    <tr>\n",
       "      <th>1</th>\n",
       "      <td>Entertainment</td>\n",
       "      <td>Will Smith Joins Diplo And Nicky Jam For The 2...</td>\n",
       "      <td>Andy McDonald</td>\n",
       "      <td>https://www.huffingtonpost.com/entry/will-smit...</td>\n",
       "      <td>Of course it has a song.</td>\n",
       "      <td>2018-05-26</td>\n",
       "    </tr>\n",
       "    <tr>\n",
       "      <th>2</th>\n",
       "      <td>Entertainment</td>\n",
       "      <td>Hugh Grant Marries For The First Time At Age 57</td>\n",
       "      <td>Ron Dicker</td>\n",
       "      <td>https://www.huffingtonpost.com/entry/hugh-gran...</td>\n",
       "      <td>The actor and his longtime girlfriend Anna Ebe...</td>\n",
       "      <td>2018-05-26</td>\n",
       "    </tr>\n",
       "    <tr>\n",
       "      <th>3</th>\n",
       "      <td>Entertainment</td>\n",
       "      <td>Jim Carrey Blasts 'Castrato' Adam Schiff And D...</td>\n",
       "      <td>Ron Dicker</td>\n",
       "      <td>https://www.huffingtonpost.com/entry/jim-carre...</td>\n",
       "      <td>The actor gives Dems an ass-kicking for not fi...</td>\n",
       "      <td>2018-05-26</td>\n",
       "    </tr>\n",
       "    <tr>\n",
       "      <th>4</th>\n",
       "      <td>Entertainment</td>\n",
       "      <td>Julianna Margulies Uses Donald Trump Poop Bags...</td>\n",
       "      <td>Ron Dicker</td>\n",
       "      <td>https://www.huffingtonpost.com/entry/julianna-...</td>\n",
       "      <td>The \"Dietland\" actress said using the bags is ...</td>\n",
       "      <td>2018-05-26</td>\n",
       "    </tr>\n",
       "  </tbody>\n",
       "</table>\n",
       "</div>"
      ],
      "text/plain": [
       "        category                                           headline  \\\n",
       "0          Crime  There Were 2 Mass Shootings In Texas Last Week...   \n",
       "1  Entertainment  Will Smith Joins Diplo And Nicky Jam For The 2...   \n",
       "2  Entertainment    Hugh Grant Marries For The First Time At Age 57   \n",
       "3  Entertainment  Jim Carrey Blasts 'Castrato' Adam Schiff And D...   \n",
       "4  Entertainment  Julianna Margulies Uses Donald Trump Poop Bags...   \n",
       "\n",
       "           authors                                               link  \\\n",
       "0  Melissa Jeltsen  https://www.huffingtonpost.com/entry/texas-ama...   \n",
       "1    Andy McDonald  https://www.huffingtonpost.com/entry/will-smit...   \n",
       "2       Ron Dicker  https://www.huffingtonpost.com/entry/hugh-gran...   \n",
       "3       Ron Dicker  https://www.huffingtonpost.com/entry/jim-carre...   \n",
       "4       Ron Dicker  https://www.huffingtonpost.com/entry/julianna-...   \n",
       "\n",
       "                                   short_description       date  \n",
       "0  She left her husband. He killed their children... 2018-05-26  \n",
       "1                           Of course it has a song. 2018-05-26  \n",
       "2  The actor and his longtime girlfriend Anna Ebe... 2018-05-26  \n",
       "3  The actor gives Dems an ass-kicking for not fi... 2018-05-26  \n",
       "4  The \"Dietland\" actress said using the bags is ... 2018-05-26  "
      ]
     },
     "execution_count": 132,
     "metadata": {},
     "output_type": "execute_result"
    }
   ],
   "source": [
    "new_data.head()"
   ]
  },
  {
   "cell_type": "code",
   "execution_count": 203,
   "id": "2b4e7af3",
   "metadata": {},
   "outputs": [
    {
     "data": {
      "text/plain": [
       "Politics         32739\n",
       "Other            30344\n",
       "Entertainment    24723\n",
       "Health           24521\n",
       "Culture          22087\n",
       "Trends           16098\n",
       "Activism         15916\n",
       "World News        8420\n",
       "Business          5937\n",
       "Sports            4884\n",
       "Crime             3405\n",
       "Media             2815\n",
       "Religion          2556\n",
       "Science           2178\n",
       "Education         2148\n",
       "Technology        2082\n",
       "Name: category, dtype: int64"
      ]
     },
     "execution_count": 203,
     "metadata": {},
     "output_type": "execute_result"
    }
   ],
   "source": [
    "new_data.category.value_counts()"
   ]
  },
  {
   "cell_type": "code",
   "execution_count": 11,
   "id": "afcf6918",
   "metadata": {},
   "outputs": [],
   "source": [
    "new_data.to_csv('../big_picture/data/data_topics.csv')"
   ]
  },
  {
   "cell_type": "code",
   "execution_count": 51,
   "id": "54eb679e",
   "metadata": {},
   "outputs": [],
   "source": [
    "example = new_data.iloc[:,:]\n",
    "y_example = new_data.iloc[:,0]"
   ]
  },
  {
   "cell_type": "code",
   "execution_count": 205,
   "id": "82844b94",
   "metadata": {},
   "outputs": [
    {
     "data": {
      "text/plain": [
       "(200853, 16)"
      ]
     },
     "execution_count": 205,
     "metadata": {},
     "output_type": "execute_result"
    }
   ],
   "source": [
    "from sklearn.preprocessing import OneHotEncoder\n",
    "\n",
    "ohe = OneHotEncoder()\n",
    "\n",
    "y = ohe.fit_transform(pd.DataFrame(y_example)).toarray()\n",
    "y.shape"
   ]
  },
  {
   "cell_type": "code",
   "execution_count": 53,
   "id": "325c6bbe",
   "metadata": {},
   "outputs": [
    {
     "name": "stdout",
     "output_type": "stream",
     "text": [
      "0 Activism\n",
      "1 Business\n",
      "2 Crime\n",
      "3 Culture\n",
      "4 Education\n",
      "5 Entertainment\n",
      "6 Health\n",
      "7 Media\n",
      "8 Other\n",
      "9 Politics\n",
      "10 Religion\n",
      "11 Science\n",
      "12 Sports\n",
      "13 Technology\n",
      "14 Trends\n",
      "15 World News\n"
     ]
    }
   ],
   "source": [
    "val_dict = {}\n",
    "\n",
    "for idx, val in enumerate(ohe.categories_[0]):\n",
    "    print(idx, val)\n",
    "    val_dict[val] = int(idx)"
   ]
  },
  {
   "cell_type": "markdown",
   "id": "7235dd50",
   "metadata": {},
   "source": [
    "## Deep Learning Model"
   ]
  },
  {
   "cell_type": "code",
   "execution_count": 126,
   "id": "a34a9134",
   "metadata": {},
   "outputs": [],
   "source": [
    "# To complete\n",
    "from tensorflow.keras import models\n",
    "from tensorflow.keras import layers\n",
    "\n",
    "def initialize_model():\n",
    "    \n",
    "    model = models.Sequential()\n",
    "    \n",
    "    model.add(layers.Dense(300, activation='relu', input_dim=embeddings_200k.shape[1]))\n",
    "    model.add(layers.Dropout(0.2))\n",
    "    \n",
    "    \n",
    "    model.add(layers.Dense(150, activation='relu'))\n",
    "    model.add(layers.Dropout(0.2))\n",
    "    \n",
    "    model.add(layers.Dense(50, activation='relu'))\n",
    "    \n",
    "    model.add(layers.Dense(16, activation='softmax'))\n",
    "    \n",
    "    model.compile(optimizer='adam',\n",
    "                  loss='categorical_crossentropy',\n",
    "                  metrics=['accuracy'])\n",
    "    \n",
    "    return model"
   ]
  },
  {
   "cell_type": "code",
   "execution_count": 127,
   "id": "0e1659c5",
   "metadata": {},
   "outputs": [
    {
     "name": "stdout",
     "output_type": "stream",
     "text": [
      "Model: \"sequential_2\"\n",
      "_________________________________________________________________\n",
      "Layer (type)                 Output Shape              Param #   \n",
      "=================================================================\n",
      "dense (Dense)                (None, 700)               538300    \n",
      "_________________________________________________________________\n",
      "dense_1 (Dense)              (None, 350)               245350    \n",
      "_________________________________________________________________\n",
      "dense_2 (Dense)              (None, 175)               61425     \n",
      "_________________________________________________________________\n",
      "dense_3 (Dense)              (None, 50)                8800      \n",
      "_________________________________________________________________\n",
      "dense_4 (Dense)              (None, 16)                816       \n",
      "=================================================================\n",
      "Total params: 854,691\n",
      "Trainable params: 854,691\n",
      "Non-trainable params: 0\n",
      "_________________________________________________________________\n"
     ]
    }
   ],
   "source": [
    "model.summary()"
   ]
  },
  {
   "cell_type": "code",
   "execution_count": 191,
   "id": "68fc988f",
   "metadata": {
    "collapsed": true
   },
   "outputs": [
    {
     "data": {
      "application/vnd.jupyter.widget-view+json": {
       "model_id": "c753b9f8b79745179f83e28031c37459",
       "version_major": 2,
       "version_minor": 0
      },
      "text/plain": [
       "Batches:   0%|          | 0/352 [00:00<?, ?it/s]"
      ]
     },
     "metadata": {},
     "output_type": "display_data"
    },
    {
     "ename": "AttributeError",
     "evalue": "'float' object has no attribute 'strip'",
     "output_type": "error",
     "traceback": [
      "\u001b[0;31m---------------------------------------------------------------------------\u001b[0m",
      "\u001b[0;31mAttributeError\u001b[0m                            Traceback (most recent call last)",
      "\u001b[0;32m<ipython-input-191-955ae0759d14>\u001b[0m in \u001b[0;36m<module>\u001b[0;34m\u001b[0m\n\u001b[1;32m      1\u001b[0m \u001b[0;32mfrom\u001b[0m \u001b[0msentence_transformers\u001b[0m \u001b[0;32mimport\u001b[0m \u001b[0mSentenceTransformer\u001b[0m\u001b[0;34m\u001b[0m\u001b[0;34m\u001b[0m\u001b[0m\n\u001b[1;32m      2\u001b[0m \u001b[0mmodel\u001b[0m \u001b[0;34m=\u001b[0m \u001b[0mSentenceTransformer\u001b[0m\u001b[0;34m(\u001b[0m\u001b[0;34m'distilbert-base-nli-mean-tokens'\u001b[0m\u001b[0;34m)\u001b[0m\u001b[0;34m\u001b[0m\u001b[0;34m\u001b[0m\u001b[0m\n\u001b[0;32m----> 3\u001b[0;31m \u001b[0membeddings\u001b[0m \u001b[0;34m=\u001b[0m \u001b[0mmodel\u001b[0m\u001b[0;34m.\u001b[0m\u001b[0mencode\u001b[0m\u001b[0;34m(\u001b[0m\u001b[0mnew_data\u001b[0m\u001b[0;34m.\u001b[0m\u001b[0mnews_all_data\u001b[0m\u001b[0;34m,\u001b[0m \u001b[0mshow_progress_bar\u001b[0m\u001b[0;34m=\u001b[0m\u001b[0;32mTrue\u001b[0m\u001b[0;34m)\u001b[0m\u001b[0;34m\u001b[0m\u001b[0;34m\u001b[0m\u001b[0m\n\u001b[0m",
      "\u001b[0;32m~/.pyenv/versions/3.8.6/envs/lewagon/lib/python3.8/site-packages/sentence_transformers/SentenceTransformer.py\u001b[0m in \u001b[0;36mencode\u001b[0;34m(self, sentences, batch_size, show_progress_bar, output_value, convert_to_numpy, convert_to_tensor, device, normalize_embeddings)\u001b[0m\n\u001b[1;32m    188\u001b[0m         \u001b[0;32mfor\u001b[0m \u001b[0mstart_index\u001b[0m \u001b[0;32min\u001b[0m \u001b[0mtrange\u001b[0m\u001b[0;34m(\u001b[0m\u001b[0;36m0\u001b[0m\u001b[0;34m,\u001b[0m \u001b[0mlen\u001b[0m\u001b[0;34m(\u001b[0m\u001b[0msentences\u001b[0m\u001b[0;34m)\u001b[0m\u001b[0;34m,\u001b[0m \u001b[0mbatch_size\u001b[0m\u001b[0;34m,\u001b[0m \u001b[0mdesc\u001b[0m\u001b[0;34m=\u001b[0m\u001b[0;34m\"Batches\"\u001b[0m\u001b[0;34m,\u001b[0m \u001b[0mdisable\u001b[0m\u001b[0;34m=\u001b[0m\u001b[0;32mnot\u001b[0m \u001b[0mshow_progress_bar\u001b[0m\u001b[0;34m)\u001b[0m\u001b[0;34m:\u001b[0m\u001b[0;34m\u001b[0m\u001b[0;34m\u001b[0m\u001b[0m\n\u001b[1;32m    189\u001b[0m             \u001b[0msentences_batch\u001b[0m \u001b[0;34m=\u001b[0m \u001b[0msentences_sorted\u001b[0m\u001b[0;34m[\u001b[0m\u001b[0mstart_index\u001b[0m\u001b[0;34m:\u001b[0m\u001b[0mstart_index\u001b[0m\u001b[0;34m+\u001b[0m\u001b[0mbatch_size\u001b[0m\u001b[0;34m]\u001b[0m\u001b[0;34m\u001b[0m\u001b[0;34m\u001b[0m\u001b[0m\n\u001b[0;32m--> 190\u001b[0;31m             \u001b[0mfeatures\u001b[0m \u001b[0;34m=\u001b[0m \u001b[0mself\u001b[0m\u001b[0;34m.\u001b[0m\u001b[0mtokenize\u001b[0m\u001b[0;34m(\u001b[0m\u001b[0msentences_batch\u001b[0m\u001b[0;34m)\u001b[0m\u001b[0;34m\u001b[0m\u001b[0;34m\u001b[0m\u001b[0m\n\u001b[0m\u001b[1;32m    191\u001b[0m             \u001b[0mfeatures\u001b[0m \u001b[0;34m=\u001b[0m \u001b[0mbatch_to_device\u001b[0m\u001b[0;34m(\u001b[0m\u001b[0mfeatures\u001b[0m\u001b[0;34m,\u001b[0m \u001b[0mdevice\u001b[0m\u001b[0;34m)\u001b[0m\u001b[0;34m\u001b[0m\u001b[0;34m\u001b[0m\u001b[0m\n\u001b[1;32m    192\u001b[0m \u001b[0;34m\u001b[0m\u001b[0m\n",
      "\u001b[0;32m~/.pyenv/versions/3.8.6/envs/lewagon/lib/python3.8/site-packages/sentence_transformers/SentenceTransformer.py\u001b[0m in \u001b[0;36mtokenize\u001b[0;34m(self, text)\u001b[0m\n\u001b[1;32m    340\u001b[0m         \u001b[0mTokenizes\u001b[0m \u001b[0mthe\u001b[0m \u001b[0mtext\u001b[0m\u001b[0;34m\u001b[0m\u001b[0;34m\u001b[0m\u001b[0m\n\u001b[1;32m    341\u001b[0m         \"\"\"\n\u001b[0;32m--> 342\u001b[0;31m         \u001b[0;32mreturn\u001b[0m \u001b[0mself\u001b[0m\u001b[0;34m.\u001b[0m\u001b[0m_first_module\u001b[0m\u001b[0;34m(\u001b[0m\u001b[0;34m)\u001b[0m\u001b[0;34m.\u001b[0m\u001b[0mtokenize\u001b[0m\u001b[0;34m(\u001b[0m\u001b[0mtext\u001b[0m\u001b[0;34m)\u001b[0m\u001b[0;34m\u001b[0m\u001b[0;34m\u001b[0m\u001b[0m\n\u001b[0m\u001b[1;32m    343\u001b[0m \u001b[0;34m\u001b[0m\u001b[0m\n\u001b[1;32m    344\u001b[0m     \u001b[0;32mdef\u001b[0m \u001b[0mget_sentence_features\u001b[0m\u001b[0;34m(\u001b[0m\u001b[0mself\u001b[0m\u001b[0;34m,\u001b[0m \u001b[0;34m*\u001b[0m\u001b[0mfeatures\u001b[0m\u001b[0;34m)\u001b[0m\u001b[0;34m:\u001b[0m\u001b[0;34m\u001b[0m\u001b[0;34m\u001b[0m\u001b[0m\n",
      "\u001b[0;32m~/.pyenv/versions/3.8.6/envs/lewagon/lib/python3.8/site-packages/sentence_transformers/models/Transformer.py\u001b[0m in \u001b[0;36mtokenize\u001b[0;34m(self, texts)\u001b[0m\n\u001b[1;32m     78\u001b[0m \u001b[0;34m\u001b[0m\u001b[0m\n\u001b[1;32m     79\u001b[0m         \u001b[0;31m#strip\u001b[0m\u001b[0;34m\u001b[0m\u001b[0;34m\u001b[0m\u001b[0;34m\u001b[0m\u001b[0m\n\u001b[0;32m---> 80\u001b[0;31m         \u001b[0mto_tokenize\u001b[0m \u001b[0;34m=\u001b[0m \u001b[0;34m[\u001b[0m\u001b[0;34m[\u001b[0m\u001b[0ms\u001b[0m\u001b[0;34m.\u001b[0m\u001b[0mstrip\u001b[0m\u001b[0;34m(\u001b[0m\u001b[0;34m)\u001b[0m \u001b[0;32mfor\u001b[0m \u001b[0ms\u001b[0m \u001b[0;32min\u001b[0m \u001b[0mcol\u001b[0m\u001b[0;34m]\u001b[0m \u001b[0;32mfor\u001b[0m \u001b[0mcol\u001b[0m \u001b[0;32min\u001b[0m \u001b[0mto_tokenize\u001b[0m\u001b[0;34m]\u001b[0m\u001b[0;34m\u001b[0m\u001b[0;34m\u001b[0m\u001b[0m\n\u001b[0m\u001b[1;32m     81\u001b[0m \u001b[0;34m\u001b[0m\u001b[0m\n\u001b[1;32m     82\u001b[0m         \u001b[0;31m#Lowercase\u001b[0m\u001b[0;34m\u001b[0m\u001b[0;34m\u001b[0m\u001b[0;34m\u001b[0m\u001b[0m\n",
      "\u001b[0;32m~/.pyenv/versions/3.8.6/envs/lewagon/lib/python3.8/site-packages/sentence_transformers/models/Transformer.py\u001b[0m in \u001b[0;36m<listcomp>\u001b[0;34m(.0)\u001b[0m\n\u001b[1;32m     78\u001b[0m \u001b[0;34m\u001b[0m\u001b[0m\n\u001b[1;32m     79\u001b[0m         \u001b[0;31m#strip\u001b[0m\u001b[0;34m\u001b[0m\u001b[0;34m\u001b[0m\u001b[0;34m\u001b[0m\u001b[0m\n\u001b[0;32m---> 80\u001b[0;31m         \u001b[0mto_tokenize\u001b[0m \u001b[0;34m=\u001b[0m \u001b[0;34m[\u001b[0m\u001b[0;34m[\u001b[0m\u001b[0ms\u001b[0m\u001b[0;34m.\u001b[0m\u001b[0mstrip\u001b[0m\u001b[0;34m(\u001b[0m\u001b[0;34m)\u001b[0m \u001b[0;32mfor\u001b[0m \u001b[0ms\u001b[0m \u001b[0;32min\u001b[0m \u001b[0mcol\u001b[0m\u001b[0;34m]\u001b[0m \u001b[0;32mfor\u001b[0m \u001b[0mcol\u001b[0m \u001b[0;32min\u001b[0m \u001b[0mto_tokenize\u001b[0m\u001b[0;34m]\u001b[0m\u001b[0;34m\u001b[0m\u001b[0;34m\u001b[0m\u001b[0m\n\u001b[0m\u001b[1;32m     81\u001b[0m \u001b[0;34m\u001b[0m\u001b[0m\n\u001b[1;32m     82\u001b[0m         \u001b[0;31m#Lowercase\u001b[0m\u001b[0;34m\u001b[0m\u001b[0;34m\u001b[0m\u001b[0;34m\u001b[0m\u001b[0m\n",
      "\u001b[0;32m~/.pyenv/versions/3.8.6/envs/lewagon/lib/python3.8/site-packages/sentence_transformers/models/Transformer.py\u001b[0m in \u001b[0;36m<listcomp>\u001b[0;34m(.0)\u001b[0m\n\u001b[1;32m     78\u001b[0m \u001b[0;34m\u001b[0m\u001b[0m\n\u001b[1;32m     79\u001b[0m         \u001b[0;31m#strip\u001b[0m\u001b[0;34m\u001b[0m\u001b[0;34m\u001b[0m\u001b[0;34m\u001b[0m\u001b[0m\n\u001b[0;32m---> 80\u001b[0;31m         \u001b[0mto_tokenize\u001b[0m \u001b[0;34m=\u001b[0m \u001b[0;34m[\u001b[0m\u001b[0;34m[\u001b[0m\u001b[0ms\u001b[0m\u001b[0;34m.\u001b[0m\u001b[0mstrip\u001b[0m\u001b[0;34m(\u001b[0m\u001b[0;34m)\u001b[0m \u001b[0;32mfor\u001b[0m \u001b[0ms\u001b[0m \u001b[0;32min\u001b[0m \u001b[0mcol\u001b[0m\u001b[0;34m]\u001b[0m \u001b[0;32mfor\u001b[0m \u001b[0mcol\u001b[0m \u001b[0;32min\u001b[0m \u001b[0mto_tokenize\u001b[0m\u001b[0;34m]\u001b[0m\u001b[0;34m\u001b[0m\u001b[0;34m\u001b[0m\u001b[0m\n\u001b[0m\u001b[1;32m     81\u001b[0m \u001b[0;34m\u001b[0m\u001b[0m\n\u001b[1;32m     82\u001b[0m         \u001b[0;31m#Lowercase\u001b[0m\u001b[0;34m\u001b[0m\u001b[0;34m\u001b[0m\u001b[0;34m\u001b[0m\u001b[0m\n",
      "\u001b[0;31mAttributeError\u001b[0m: 'float' object has no attribute 'strip'"
     ]
    }
   ],
   "source": [
    "from sentence_transformers import SentenceTransformer\n",
    "model = SentenceTransformer('distilbert-base-nli-mean-tokens')\n",
    "embeddings = model.encode(new_data.news_all_data, show_progress_bar=True)"
   ]
  },
  {
   "cell_type": "code",
   "execution_count": 59,
   "id": "8e74450f",
   "metadata": {},
   "outputs": [
    {
     "data": {
      "text/plain": [
       "((50000, 768), (50000,))"
      ]
     },
     "execution_count": 59,
     "metadata": {},
     "output_type": "execute_result"
    }
   ],
   "source": [
    "embeddings.shape, y_example.shape"
   ]
  },
  {
   "cell_type": "code",
   "execution_count": 94,
   "id": "230e7b1d",
   "metadata": {},
   "outputs": [],
   "source": [
    "embeddings_200k = pd.read_csv('../big_picture/data/embeddings_200k.csv')\n",
    "embeddings_200k = embeddings_200k.drop(columns='Unnamed: 0')"
   ]
  },
  {
   "cell_type": "code",
   "execution_count": 42,
   "id": "c6acaf7f",
   "metadata": {},
   "outputs": [
    {
     "data": {
      "text/html": [
       "<div>\n",
       "<style scoped>\n",
       "    .dataframe tbody tr th:only-of-type {\n",
       "        vertical-align: middle;\n",
       "    }\n",
       "\n",
       "    .dataframe tbody tr th {\n",
       "        vertical-align: top;\n",
       "    }\n",
       "\n",
       "    .dataframe thead th {\n",
       "        text-align: right;\n",
       "    }\n",
       "</style>\n",
       "<table border=\"1\" class=\"dataframe\">\n",
       "  <thead>\n",
       "    <tr style=\"text-align: right;\">\n",
       "      <th></th>\n",
       "      <th>0</th>\n",
       "      <th>1</th>\n",
       "      <th>2</th>\n",
       "      <th>3</th>\n",
       "      <th>4</th>\n",
       "      <th>5</th>\n",
       "      <th>6</th>\n",
       "      <th>7</th>\n",
       "      <th>8</th>\n",
       "      <th>9</th>\n",
       "      <th>...</th>\n",
       "      <th>758</th>\n",
       "      <th>759</th>\n",
       "      <th>760</th>\n",
       "      <th>761</th>\n",
       "      <th>762</th>\n",
       "      <th>763</th>\n",
       "      <th>764</th>\n",
       "      <th>765</th>\n",
       "      <th>766</th>\n",
       "      <th>767</th>\n",
       "    </tr>\n",
       "  </thead>\n",
       "  <tbody>\n",
       "    <tr>\n",
       "      <th>0</th>\n",
       "      <td>0.556587</td>\n",
       "      <td>-1.730802</td>\n",
       "      <td>0.565383</td>\n",
       "      <td>0.147426</td>\n",
       "      <td>-0.014432</td>\n",
       "      <td>-0.404302</td>\n",
       "      <td>-0.217101</td>\n",
       "      <td>-0.386556</td>\n",
       "      <td>0.452206</td>\n",
       "      <td>1.035194</td>\n",
       "      <td>...</td>\n",
       "      <td>-0.104107</td>\n",
       "      <td>0.873444</td>\n",
       "      <td>0.321066</td>\n",
       "      <td>1.288373</td>\n",
       "      <td>0.182126</td>\n",
       "      <td>-0.084114</td>\n",
       "      <td>-0.205512</td>\n",
       "      <td>-0.034212</td>\n",
       "      <td>0.356344</td>\n",
       "      <td>-0.120589</td>\n",
       "    </tr>\n",
       "    <tr>\n",
       "      <th>1</th>\n",
       "      <td>0.420517</td>\n",
       "      <td>0.315536</td>\n",
       "      <td>0.600557</td>\n",
       "      <td>-0.438315</td>\n",
       "      <td>-0.295465</td>\n",
       "      <td>-0.373603</td>\n",
       "      <td>0.222069</td>\n",
       "      <td>-0.523006</td>\n",
       "      <td>1.455598</td>\n",
       "      <td>-0.317190</td>\n",
       "      <td>...</td>\n",
       "      <td>0.074225</td>\n",
       "      <td>-0.834088</td>\n",
       "      <td>0.216602</td>\n",
       "      <td>0.820604</td>\n",
       "      <td>0.360761</td>\n",
       "      <td>0.244211</td>\n",
       "      <td>0.142351</td>\n",
       "      <td>0.626780</td>\n",
       "      <td>-0.310830</td>\n",
       "      <td>-0.820157</td>\n",
       "    </tr>\n",
       "    <tr>\n",
       "      <th>2</th>\n",
       "      <td>-0.213008</td>\n",
       "      <td>-0.831775</td>\n",
       "      <td>0.318774</td>\n",
       "      <td>-0.510296</td>\n",
       "      <td>-0.321338</td>\n",
       "      <td>-1.113930</td>\n",
       "      <td>0.169799</td>\n",
       "      <td>-0.350170</td>\n",
       "      <td>-0.028248</td>\n",
       "      <td>0.239748</td>\n",
       "      <td>...</td>\n",
       "      <td>-0.347566</td>\n",
       "      <td>-0.848967</td>\n",
       "      <td>1.017001</td>\n",
       "      <td>0.384794</td>\n",
       "      <td>-0.122068</td>\n",
       "      <td>-0.858027</td>\n",
       "      <td>0.074009</td>\n",
       "      <td>-0.777332</td>\n",
       "      <td>-0.044370</td>\n",
       "      <td>-0.005434</td>\n",
       "    </tr>\n",
       "    <tr>\n",
       "      <th>3</th>\n",
       "      <td>-0.331016</td>\n",
       "      <td>0.028823</td>\n",
       "      <td>-0.067903</td>\n",
       "      <td>-1.094421</td>\n",
       "      <td>-1.116765</td>\n",
       "      <td>-0.424198</td>\n",
       "      <td>-0.247861</td>\n",
       "      <td>0.491398</td>\n",
       "      <td>1.089847</td>\n",
       "      <td>-1.060441</td>\n",
       "      <td>...</td>\n",
       "      <td>-0.346633</td>\n",
       "      <td>0.559534</td>\n",
       "      <td>-1.272676</td>\n",
       "      <td>1.694678</td>\n",
       "      <td>0.189955</td>\n",
       "      <td>-0.056552</td>\n",
       "      <td>0.082049</td>\n",
       "      <td>-0.059729</td>\n",
       "      <td>0.273527</td>\n",
       "      <td>-0.356776</td>\n",
       "    </tr>\n",
       "    <tr>\n",
       "      <th>4</th>\n",
       "      <td>-0.863933</td>\n",
       "      <td>-0.043071</td>\n",
       "      <td>0.273481</td>\n",
       "      <td>-0.737110</td>\n",
       "      <td>-0.241176</td>\n",
       "      <td>-0.027584</td>\n",
       "      <td>-0.312297</td>\n",
       "      <td>-0.050383</td>\n",
       "      <td>0.203471</td>\n",
       "      <td>0.606433</td>\n",
       "      <td>...</td>\n",
       "      <td>-1.224242</td>\n",
       "      <td>0.212249</td>\n",
       "      <td>-1.223779</td>\n",
       "      <td>0.090633</td>\n",
       "      <td>-0.152032</td>\n",
       "      <td>-0.568693</td>\n",
       "      <td>0.171142</td>\n",
       "      <td>-0.451859</td>\n",
       "      <td>0.057632</td>\n",
       "      <td>0.431622</td>\n",
       "    </tr>\n",
       "    <tr>\n",
       "      <th>...</th>\n",
       "      <td>...</td>\n",
       "      <td>...</td>\n",
       "      <td>...</td>\n",
       "      <td>...</td>\n",
       "      <td>...</td>\n",
       "      <td>...</td>\n",
       "      <td>...</td>\n",
       "      <td>...</td>\n",
       "      <td>...</td>\n",
       "      <td>...</td>\n",
       "      <td>...</td>\n",
       "      <td>...</td>\n",
       "      <td>...</td>\n",
       "      <td>...</td>\n",
       "      <td>...</td>\n",
       "      <td>...</td>\n",
       "      <td>...</td>\n",
       "      <td>...</td>\n",
       "      <td>...</td>\n",
       "      <td>...</td>\n",
       "      <td>...</td>\n",
       "    </tr>\n",
       "    <tr>\n",
       "      <th>200848</th>\n",
       "      <td>-1.102570</td>\n",
       "      <td>-0.354107</td>\n",
       "      <td>0.119313</td>\n",
       "      <td>-1.576579</td>\n",
       "      <td>-0.017725</td>\n",
       "      <td>-0.855054</td>\n",
       "      <td>0.947966</td>\n",
       "      <td>0.429000</td>\n",
       "      <td>0.492465</td>\n",
       "      <td>-0.414553</td>\n",
       "      <td>...</td>\n",
       "      <td>-0.173267</td>\n",
       "      <td>-0.731688</td>\n",
       "      <td>-0.353631</td>\n",
       "      <td>0.315879</td>\n",
       "      <td>0.640798</td>\n",
       "      <td>0.529474</td>\n",
       "      <td>0.113282</td>\n",
       "      <td>0.059109</td>\n",
       "      <td>-0.253340</td>\n",
       "      <td>-0.188106</td>\n",
       "    </tr>\n",
       "    <tr>\n",
       "      <th>200849</th>\n",
       "      <td>-0.532881</td>\n",
       "      <td>-0.593179</td>\n",
       "      <td>0.556835</td>\n",
       "      <td>-0.762534</td>\n",
       "      <td>-0.687641</td>\n",
       "      <td>-0.610300</td>\n",
       "      <td>-0.360306</td>\n",
       "      <td>0.148103</td>\n",
       "      <td>0.705661</td>\n",
       "      <td>0.425132</td>\n",
       "      <td>...</td>\n",
       "      <td>-0.284688</td>\n",
       "      <td>-0.397910</td>\n",
       "      <td>-0.507344</td>\n",
       "      <td>0.324770</td>\n",
       "      <td>0.043224</td>\n",
       "      <td>-0.739184</td>\n",
       "      <td>-0.799036</td>\n",
       "      <td>-0.414117</td>\n",
       "      <td>0.541927</td>\n",
       "      <td>-0.406548</td>\n",
       "    </tr>\n",
       "    <tr>\n",
       "      <th>200850</th>\n",
       "      <td>-0.009099</td>\n",
       "      <td>-0.431355</td>\n",
       "      <td>-0.024914</td>\n",
       "      <td>-0.295087</td>\n",
       "      <td>-0.668326</td>\n",
       "      <td>-0.086673</td>\n",
       "      <td>-0.513776</td>\n",
       "      <td>-0.497617</td>\n",
       "      <td>0.294848</td>\n",
       "      <td>0.326768</td>\n",
       "      <td>...</td>\n",
       "      <td>-0.808323</td>\n",
       "      <td>0.643555</td>\n",
       "      <td>0.074096</td>\n",
       "      <td>0.296579</td>\n",
       "      <td>0.077952</td>\n",
       "      <td>-0.466608</td>\n",
       "      <td>0.104668</td>\n",
       "      <td>-0.880044</td>\n",
       "      <td>0.597700</td>\n",
       "      <td>-0.689383</td>\n",
       "    </tr>\n",
       "    <tr>\n",
       "      <th>200851</th>\n",
       "      <td>-0.093480</td>\n",
       "      <td>-1.100077</td>\n",
       "      <td>-0.535262</td>\n",
       "      <td>-0.344463</td>\n",
       "      <td>-0.022475</td>\n",
       "      <td>-0.427429</td>\n",
       "      <td>0.050615</td>\n",
       "      <td>-0.148834</td>\n",
       "      <td>0.114921</td>\n",
       "      <td>-0.042271</td>\n",
       "      <td>...</td>\n",
       "      <td>-0.875505</td>\n",
       "      <td>0.759278</td>\n",
       "      <td>-0.496298</td>\n",
       "      <td>1.150534</td>\n",
       "      <td>-0.149261</td>\n",
       "      <td>-0.616003</td>\n",
       "      <td>-0.017094</td>\n",
       "      <td>-0.261166</td>\n",
       "      <td>0.872171</td>\n",
       "      <td>-1.047837</td>\n",
       "    </tr>\n",
       "    <tr>\n",
       "      <th>200852</th>\n",
       "      <td>-0.364335</td>\n",
       "      <td>-0.311083</td>\n",
       "      <td>0.025019</td>\n",
       "      <td>-1.300666</td>\n",
       "      <td>-1.124964</td>\n",
       "      <td>-0.367649</td>\n",
       "      <td>-0.061447</td>\n",
       "      <td>0.054303</td>\n",
       "      <td>0.410771</td>\n",
       "      <td>0.422777</td>\n",
       "      <td>...</td>\n",
       "      <td>-0.150182</td>\n",
       "      <td>1.003156</td>\n",
       "      <td>-0.299674</td>\n",
       "      <td>1.044540</td>\n",
       "      <td>0.524894</td>\n",
       "      <td>-0.441628</td>\n",
       "      <td>-0.277269</td>\n",
       "      <td>-0.500520</td>\n",
       "      <td>0.527020</td>\n",
       "      <td>-0.572605</td>\n",
       "    </tr>\n",
       "  </tbody>\n",
       "</table>\n",
       "<p>200853 rows × 768 columns</p>\n",
       "</div>"
      ],
      "text/plain": [
       "               0         1         2         3         4         5         6  \\\n",
       "0       0.556587 -1.730802  0.565383  0.147426 -0.014432 -0.404302 -0.217101   \n",
       "1       0.420517  0.315536  0.600557 -0.438315 -0.295465 -0.373603  0.222069   \n",
       "2      -0.213008 -0.831775  0.318774 -0.510296 -0.321338 -1.113930  0.169799   \n",
       "3      -0.331016  0.028823 -0.067903 -1.094421 -1.116765 -0.424198 -0.247861   \n",
       "4      -0.863933 -0.043071  0.273481 -0.737110 -0.241176 -0.027584 -0.312297   \n",
       "...          ...       ...       ...       ...       ...       ...       ...   \n",
       "200848 -1.102570 -0.354107  0.119313 -1.576579 -0.017725 -0.855054  0.947966   \n",
       "200849 -0.532881 -0.593179  0.556835 -0.762534 -0.687641 -0.610300 -0.360306   \n",
       "200850 -0.009099 -0.431355 -0.024914 -0.295087 -0.668326 -0.086673 -0.513776   \n",
       "200851 -0.093480 -1.100077 -0.535262 -0.344463 -0.022475 -0.427429  0.050615   \n",
       "200852 -0.364335 -0.311083  0.025019 -1.300666 -1.124964 -0.367649 -0.061447   \n",
       "\n",
       "               7         8         9  ...       758       759       760  \\\n",
       "0      -0.386556  0.452206  1.035194  ... -0.104107  0.873444  0.321066   \n",
       "1      -0.523006  1.455598 -0.317190  ...  0.074225 -0.834088  0.216602   \n",
       "2      -0.350170 -0.028248  0.239748  ... -0.347566 -0.848967  1.017001   \n",
       "3       0.491398  1.089847 -1.060441  ... -0.346633  0.559534 -1.272676   \n",
       "4      -0.050383  0.203471  0.606433  ... -1.224242  0.212249 -1.223779   \n",
       "...          ...       ...       ...  ...       ...       ...       ...   \n",
       "200848  0.429000  0.492465 -0.414553  ... -0.173267 -0.731688 -0.353631   \n",
       "200849  0.148103  0.705661  0.425132  ... -0.284688 -0.397910 -0.507344   \n",
       "200850 -0.497617  0.294848  0.326768  ... -0.808323  0.643555  0.074096   \n",
       "200851 -0.148834  0.114921 -0.042271  ... -0.875505  0.759278 -0.496298   \n",
       "200852  0.054303  0.410771  0.422777  ... -0.150182  1.003156 -0.299674   \n",
       "\n",
       "             761       762       763       764       765       766       767  \n",
       "0       1.288373  0.182126 -0.084114 -0.205512 -0.034212  0.356344 -0.120589  \n",
       "1       0.820604  0.360761  0.244211  0.142351  0.626780 -0.310830 -0.820157  \n",
       "2       0.384794 -0.122068 -0.858027  0.074009 -0.777332 -0.044370 -0.005434  \n",
       "3       1.694678  0.189955 -0.056552  0.082049 -0.059729  0.273527 -0.356776  \n",
       "4       0.090633 -0.152032 -0.568693  0.171142 -0.451859  0.057632  0.431622  \n",
       "...          ...       ...       ...       ...       ...       ...       ...  \n",
       "200848  0.315879  0.640798  0.529474  0.113282  0.059109 -0.253340 -0.188106  \n",
       "200849  0.324770  0.043224 -0.739184 -0.799036 -0.414117  0.541927 -0.406548  \n",
       "200850  0.296579  0.077952 -0.466608  0.104668 -0.880044  0.597700 -0.689383  \n",
       "200851  1.150534 -0.149261 -0.616003 -0.017094 -0.261166  0.872171 -1.047837  \n",
       "200852  1.044540  0.524894 -0.441628 -0.277269 -0.500520  0.527020 -0.572605  \n",
       "\n",
       "[200853 rows x 768 columns]"
      ]
     },
     "execution_count": 42,
     "metadata": {},
     "output_type": "execute_result"
    }
   ],
   "source": [
    "model = initialize_model()\n",
    "#embeddings_200k = embeddings_200k.drop(columns='Unnamed: 0')\n",
    "embeddings_200k"
   ]
  },
  {
   "cell_type": "code",
   "execution_count": 134,
   "id": "25582b83",
   "metadata": {},
   "outputs": [
    {
     "data": {
      "application/vnd.jupyter.widget-view+json": {
       "model_id": "933f2954a5be4c8c81060ab02eb6fe51",
       "version_major": 2,
       "version_minor": 0
      },
      "text/plain": [
       "Batches:   0%|          | 0/63 [00:00<?, ?it/s]"
      ]
     },
     "metadata": {},
     "output_type": "display_data"
    }
   ],
   "source": [
    "from sentence_transformers import SentenceTransformer\n",
    "model_1 = distilbert-base-nli-mean-tokens\n",
    "embeddings = model_1.encode(example.headline, show_progress_bar=True)"
   ]
  },
  {
   "cell_type": "code",
   "execution_count": 44,
   "id": "7810bae7",
   "metadata": {},
   "outputs": [
    {
     "ename": "AttributeError",
     "evalue": "'Sequential' object has no attribute 'tokenizer'",
     "output_type": "error",
     "traceback": [
      "\u001b[0;31m---------------------------------------------------------------------------\u001b[0m",
      "\u001b[0;31mAttributeError\u001b[0m                            Traceback (most recent call last)",
      "\u001b[0;32m<ipython-input-44-488282461108>\u001b[0m in \u001b[0;36m<module>\u001b[0;34m\u001b[0m\n\u001b[0;32m----> 1\u001b[0;31m \u001b[0mmodel\u001b[0m\u001b[0;34m.\u001b[0m\u001b[0mtokenizer\u001b[0m\u001b[0;34m.\u001b[0m\u001b[0mget_vocab\u001b[0m\u001b[0;34m\u001b[0m\u001b[0;34m\u001b[0m\u001b[0m\n\u001b[0m",
      "\u001b[0;31mAttributeError\u001b[0m: 'Sequential' object has no attribute 'tokenizer'"
     ]
    }
   ],
   "source": [
    "model.tokenizer.get_vocab"
   ]
  },
  {
   "cell_type": "code",
   "execution_count": 64,
   "id": "cd527a5b",
   "metadata": {},
   "outputs": [
    {
     "name": "stdout",
     "output_type": "stream",
     "text": [
      "Epoch 1/20\n",
      "4708/4708 [==============================] - 26s 5ms/step - loss: 0.7071 - accuracy: 0.7631 - val_loss: 1.5618 - val_accuracy: 0.6020\n",
      "Epoch 2/20\n",
      "4708/4708 [==============================] - 25s 5ms/step - loss: 0.6950 - accuracy: 0.7672 - val_loss: 1.5255 - val_accuracy: 0.6104\n",
      "Epoch 3/20\n",
      "4708/4708 [==============================] - 25s 5ms/step - loss: 0.6780 - accuracy: 0.7717 - val_loss: 1.5874 - val_accuracy: 0.6023\n",
      "Epoch 4/20\n",
      "4708/4708 [==============================] - 24s 5ms/step - loss: 0.6635 - accuracy: 0.7769 - val_loss: 1.5303 - val_accuracy: 0.6113\n",
      "Epoch 5/20\n",
      "4708/4708 [==============================] - 24s 5ms/step - loss: 0.6481 - accuracy: 0.7814 - val_loss: 1.6047 - val_accuracy: 0.5975\n",
      "Epoch 6/20\n",
      "4708/4708 [==============================] - 27s 6ms/step - loss: 0.6370 - accuracy: 0.7852 - val_loss: 1.6229 - val_accuracy: 0.6059\n",
      "Epoch 7/20\n",
      "4708/4708 [==============================] - 28s 6ms/step - loss: 0.6231 - accuracy: 0.7909 - val_loss: 1.7161 - val_accuracy: 0.5985\n",
      "Epoch 8/20\n",
      "4708/4708 [==============================] - 27s 6ms/step - loss: 0.6127 - accuracy: 0.7931 - val_loss: 1.7348 - val_accuracy: 0.5968\n",
      "Epoch 9/20\n",
      "4708/4708 [==============================] - 27s 6ms/step - loss: 0.6006 - accuracy: 0.7975 - val_loss: 1.7212 - val_accuracy: 0.6039\n",
      "Epoch 10/20\n",
      "4708/4708 [==============================] - 29s 6ms/step - loss: 0.5964 - accuracy: 0.7991 - val_loss: 1.7149 - val_accuracy: 0.6089\n",
      "Epoch 11/20\n",
      "4708/4708 [==============================] - 28s 6ms/step - loss: 0.5799 - accuracy: 0.8045 - val_loss: 1.6757 - val_accuracy: 0.6078\n",
      "Epoch 12/20\n",
      "4708/4708 [==============================] - 28s 6ms/step - loss: 0.5675 - accuracy: 0.8090 - val_loss: 1.8257 - val_accuracy: 0.5938\n"
     ]
    }
   ],
   "source": [
    "from tensorflow.keras.callbacks import EarlyStopping\n",
    "\n",
    "es = EarlyStopping(patience=10)\n",
    "\n",
    "history = model.fit(embeddings_200k,\n",
    "                    y,\n",
    "                    epochs=20,\n",
    "                    validation_split=0.25,\n",
    "                    batch_size=32,\n",
    "                    callbacks=[es],\n",
    "                    verbose=1\n",
    "                    )"
   ]
  },
  {
   "cell_type": "code",
   "execution_count": 79,
   "id": "2c856135",
   "metadata": {
    "scrolled": false
   },
   "outputs": [
    {
     "name": "stderr",
     "output_type": "stream",
     "text": [
      "/Users/josefreitas/.pyenv/versions/3.8.6/envs/lewagon/lib/python3.8/site-packages/tensorflow/python/keras/engine/sequential.py:450: UserWarning: `model.predict_classes()` is deprecated and will be removed after 2021-01-01. Please use instead:* `np.argmax(model.predict(x), axis=-1)`,   if your model does multi-class classification   (e.g. if it uses a `softmax` last-layer activation).* `(model.predict(x) > 0.5).astype(\"int32\")`,   if your model does binary classification   (e.g. if it uses a `sigmoid` last-layer activation).\n",
      "  warnings.warn('`model.predict_classes()` is deprecated and '\n"
     ]
    }
   ],
   "source": [
    "results = model.predict_classes(embeddings_200k)"
   ]
  },
  {
   "cell_type": "code",
   "execution_count": 80,
   "id": "79035048",
   "metadata": {},
   "outputs": [
    {
     "data": {
      "text/plain": [
       "2"
      ]
     },
     "execution_count": 80,
     "metadata": {},
     "output_type": "execute_result"
    }
   ],
   "source": [
    "results[0]"
   ]
  },
  {
   "cell_type": "code",
   "execution_count": 91,
   "id": "75a3e6e4",
   "metadata": {},
   "outputs": [],
   "source": [
    "from tensorflow.keras.models import load_model\n",
    "\n",
    "new_model = load_model('models/classifier_baseline')"
   ]
  },
  {
   "cell_type": "code",
   "execution_count": 103,
   "id": "1c6e2cca",
   "metadata": {},
   "outputs": [
    {
     "data": {
      "text/plain": [
       "[0      0.556587\n",
       " 1     -1.730802\n",
       " 2      0.565383\n",
       " 3      0.147426\n",
       " 4     -0.014432\n",
       "          ...   \n",
       " 763   -0.084114\n",
       " 764   -0.205512\n",
       " 765   -0.034212\n",
       " 766    0.356344\n",
       " 767   -0.120589\n",
       " Name: 0, Length: 768, dtype: float64]"
      ]
     },
     "execution_count": 103,
     "metadata": {},
     "output_type": "execute_result"
    }
   ],
   "source": [
    "embeddings_200k.iloc[0, :]"
   ]
  },
  {
   "cell_type": "code",
   "execution_count": 120,
   "id": "4bdcf254",
   "metadata": {},
   "outputs": [
    {
     "data": {
      "text/html": [
       "<div>\n",
       "<style scoped>\n",
       "    .dataframe tbody tr th:only-of-type {\n",
       "        vertical-align: middle;\n",
       "    }\n",
       "\n",
       "    .dataframe tbody tr th {\n",
       "        vertical-align: top;\n",
       "    }\n",
       "\n",
       "    .dataframe thead th {\n",
       "        text-align: right;\n",
       "    }\n",
       "</style>\n",
       "<table border=\"1\" class=\"dataframe\">\n",
       "  <thead>\n",
       "    <tr style=\"text-align: right;\">\n",
       "      <th></th>\n",
       "      <th>0</th>\n",
       "      <th>1</th>\n",
       "      <th>2</th>\n",
       "      <th>3</th>\n",
       "      <th>4</th>\n",
       "      <th>5</th>\n",
       "      <th>6</th>\n",
       "      <th>7</th>\n",
       "      <th>8</th>\n",
       "      <th>9</th>\n",
       "      <th>...</th>\n",
       "      <th>758</th>\n",
       "      <th>759</th>\n",
       "      <th>760</th>\n",
       "      <th>761</th>\n",
       "      <th>762</th>\n",
       "      <th>763</th>\n",
       "      <th>764</th>\n",
       "      <th>765</th>\n",
       "      <th>766</th>\n",
       "      <th>767</th>\n",
       "    </tr>\n",
       "  </thead>\n",
       "  <tbody>\n",
       "    <tr>\n",
       "      <th>0</th>\n",
       "      <td>0.556587</td>\n",
       "      <td>-1.730802</td>\n",
       "      <td>0.565383</td>\n",
       "      <td>0.147426</td>\n",
       "      <td>-0.014432</td>\n",
       "      <td>-0.404302</td>\n",
       "      <td>-0.217101</td>\n",
       "      <td>-0.386556</td>\n",
       "      <td>0.452206</td>\n",
       "      <td>1.035194</td>\n",
       "      <td>...</td>\n",
       "      <td>-0.104107</td>\n",
       "      <td>0.873444</td>\n",
       "      <td>0.321066</td>\n",
       "      <td>1.288373</td>\n",
       "      <td>0.182126</td>\n",
       "      <td>-0.084114</td>\n",
       "      <td>-0.205512</td>\n",
       "      <td>-0.034212</td>\n",
       "      <td>0.356344</td>\n",
       "      <td>-0.120589</td>\n",
       "    </tr>\n",
       "  </tbody>\n",
       "</table>\n",
       "<p>1 rows × 768 columns</p>\n",
       "</div>"
      ],
      "text/plain": [
       "          0         1         2         3         4         5         6  \\\n",
       "0  0.556587 -1.730802  0.565383  0.147426 -0.014432 -0.404302 -0.217101   \n",
       "\n",
       "          7         8         9  ...       758       759       760       761  \\\n",
       "0 -0.386556  0.452206  1.035194  ... -0.104107  0.873444  0.321066  1.288373   \n",
       "\n",
       "        762       763       764       765       766       767  \n",
       "0  0.182126 -0.084114 -0.205512 -0.034212  0.356344 -0.120589  \n",
       "\n",
       "[1 rows x 768 columns]"
      ]
     },
     "execution_count": 120,
     "metadata": {},
     "output_type": "execute_result"
    }
   ],
   "source": [
    "pd.DataFrame(embeddings_200k.iloc[0, :]).T"
   ]
  },
  {
   "cell_type": "code",
   "execution_count": 97,
   "id": "c3501335",
   "metadata": {},
   "outputs": [
    {
     "name": "stdout",
     "output_type": "stream",
     "text": [
      "Model: \"sequential_2\"\n",
      "_________________________________________________________________\n",
      "Layer (type)                 Output Shape              Param #   \n",
      "=================================================================\n",
      "dense (Dense)                (None, 700)               538300    \n",
      "_________________________________________________________________\n",
      "dense_1 (Dense)              (None, 350)               245350    \n",
      "_________________________________________________________________\n",
      "dense_2 (Dense)              (None, 175)               61425     \n",
      "_________________________________________________________________\n",
      "dense_3 (Dense)              (None, 50)                8800      \n",
      "_________________________________________________________________\n",
      "dense_4 (Dense)              (None, 16)                816       \n",
      "=================================================================\n",
      "Total params: 854,691\n",
      "Trainable params: 854,691\n",
      "Non-trainable params: 0\n",
      "_________________________________________________________________\n"
     ]
    }
   ],
   "source": [
    "new_model.summary()"
   ]
  },
  {
   "cell_type": "code",
   "execution_count": 135,
   "id": "32e071af",
   "metadata": {},
   "outputs": [
    {
     "data": {
      "text/plain": [
       "array([[7.9637647e-02, 1.2261589e-03, 1.9574568e-03, 1.5097799e-02,\n",
       "        3.7776996e-04, 4.6353927e-01, 2.8590090e-03, 1.2607834e-02,\n",
       "        8.9711063e-02, 3.2350922e-01, 5.9344224e-04, 2.3070414e-04,\n",
       "        4.8560710e-03, 7.2607095e-04, 1.9584876e-03, 1.1119945e-03]],\n",
       "      dtype=float32)"
      ]
     },
     "execution_count": 135,
     "metadata": {},
     "output_type": "execute_result"
    }
   ],
   "source": [
    "new_model.predict(pd.DataFrame(embeddings_200k.iloc[4, :]).T)"
   ]
  },
  {
   "cell_type": "code",
   "execution_count": 81,
   "id": "3e078fc3",
   "metadata": {
    "scrolled": true
   },
   "outputs": [
    {
     "data": {
      "text/plain": [
       "0          2\n",
       "1          5\n",
       "2          5\n",
       "3          5\n",
       "4          5\n",
       "          ..\n",
       "200848    13\n",
       "200849    12\n",
       "200850    12\n",
       "200851    12\n",
       "200852    12\n",
       "Name: category, Length: 200853, dtype: int64"
      ]
     },
     "execution_count": 81,
     "metadata": {},
     "output_type": "execute_result"
    }
   ],
   "source": [
    "y_example.map(val_dict)"
   ]
  },
  {
   "cell_type": "code",
   "execution_count": null,
   "id": "9d7aca29",
   "metadata": {},
   "outputs": [],
   "source": []
  },
  {
   "cell_type": "code",
   "execution_count": 82,
   "id": "9962f865",
   "metadata": {},
   "outputs": [
    {
     "name": "stdout",
     "output_type": "stream",
     "text": [
      "              precision    recall  f1-score   support\n",
      "\n",
      "           0       0.72      0.73      0.73     15916\n",
      "           1       0.59      0.70      0.64      5937\n",
      "           2       0.77      0.78      0.78      3405\n",
      "           3       0.84      0.79      0.81     22087\n",
      "           4       0.78      0.63      0.70      2148\n",
      "           5       0.71      0.80      0.75     24723\n",
      "           6       0.80      0.73      0.76     24521\n",
      "           7       0.72      0.58      0.64      2815\n",
      "           8       0.78      0.71      0.74     30344\n",
      "           9       0.77      0.92      0.84     32739\n",
      "          10       0.80      0.71      0.75      2556\n",
      "          11       0.79      0.72      0.75      2178\n",
      "          12       0.80      0.85      0.83      4884\n",
      "          13       0.82      0.54      0.65      2082\n",
      "          14       0.86      0.68      0.76     16098\n",
      "          15       0.84      0.84      0.84      8420\n",
      "\n",
      "    accuracy                           0.77    200853\n",
      "   macro avg       0.77      0.73      0.75    200853\n",
      "weighted avg       0.78      0.77      0.77    200853\n",
      "\n"
     ]
    }
   ],
   "source": [
    "from sklearn.metrics import classification_report \n",
    "\n",
    "print(classification_report(y_example.map(val_dict), results))"
   ]
  },
  {
   "cell_type": "code",
   "execution_count": 83,
   "id": "89700459",
   "metadata": {},
   "outputs": [
    {
     "data": {
      "text/plain": [
       "[array(['Activism', 'Business', 'Crime', 'Culture', 'Education',\n",
       "        'Entertainment', 'Health', 'Media', 'Other', 'Politics',\n",
       "        'Religion', 'Science', 'Sports', 'Technology', 'Trends',\n",
       "        'World News'], dtype=object)]"
      ]
     },
     "execution_count": 83,
     "metadata": {},
     "output_type": "execute_result"
    }
   ],
   "source": [
    "ohe.categories_"
   ]
  },
  {
   "cell_type": "code",
   "execution_count": 101,
   "id": "2fa9df0e",
   "metadata": {},
   "outputs": [
    {
     "data": {
      "text/plain": [
       "array([[0., 0., 1., ..., 0., 0., 0.],\n",
       "       [0., 0., 0., ..., 0., 0., 0.],\n",
       "       [0., 0., 0., ..., 0., 0., 0.],\n",
       "       ...,\n",
       "       [0., 0., 0., ..., 0., 0., 1.],\n",
       "       [0., 0., 0., ..., 0., 0., 0.],\n",
       "       [0., 0., 0., ..., 0., 0., 1.]])"
      ]
     },
     "execution_count": 101,
     "metadata": {},
     "output_type": "execute_result"
    }
   ],
   "source": [
    "y"
   ]
  },
  {
   "cell_type": "code",
   "execution_count": null,
   "id": "03372460",
   "metadata": {},
   "outputs": [],
   "source": [
    "model.summary()"
   ]
  },
  {
   "cell_type": "code",
   "execution_count": 78,
   "id": "82a011cf",
   "metadata": {
    "collapsed": true
   },
   "outputs": [
    {
     "data": {
      "text/plain": [
       "{'loss': [1.3015642166137695,\n",
       "  1.0991435050964355,\n",
       "  1.023489236831665,\n",
       "  0.9592002034187317,\n",
       "  0.9050039649009705,\n",
       "  0.8465889096260071,\n",
       "  0.7931291460990906,\n",
       "  0.7304219603538513,\n",
       "  0.6771279573440552,\n",
       "  0.6167588233947754,\n",
       "  0.5565159916877747,\n",
       "  0.5121945738792419,\n",
       "  0.46167105436325073],\n",
       " 'accuracy': [0.5931142568588257,\n",
       "  0.6453999876976013,\n",
       "  0.6668285727500916,\n",
       "  0.6855428814888,\n",
       "  0.6997714042663574,\n",
       "  0.7160857319831848,\n",
       "  0.7340571284294128,\n",
       "  0.7519142627716064,\n",
       "  0.7675714492797852,\n",
       "  0.788428544998169,\n",
       "  0.8046000003814697,\n",
       "  0.8195714354515076,\n",
       "  0.8375428318977356],\n",
       " 'val_loss': [1.255963921546936,\n",
       "  1.2427012920379639,\n",
       "  1.1671788692474365,\n",
       "  1.171135425567627,\n",
       "  1.1939482688903809,\n",
       "  1.2457901239395142,\n",
       "  1.281450867652893,\n",
       "  1.2907252311706543,\n",
       "  1.3729888200759888,\n",
       "  1.4533823728561401,\n",
       "  1.5836738348007202,\n",
       "  1.5737141370773315,\n",
       "  1.7380627393722534],\n",
       " 'val_accuracy': [0.605400025844574,\n",
       "  0.6080666780471802,\n",
       "  0.6276666522026062,\n",
       "  0.634066641330719,\n",
       "  0.6326666474342346,\n",
       "  0.627133309841156,\n",
       "  0.6252666711807251,\n",
       "  0.6218000054359436,\n",
       "  0.6100666522979736,\n",
       "  0.6194000244140625,\n",
       "  0.612666666507721,\n",
       "  0.6106666922569275,\n",
       "  0.6103333234786987]}"
      ]
     },
     "execution_count": 78,
     "metadata": {},
     "output_type": "execute_result"
    }
   ],
   "source": [
    "history.history"
   ]
  },
  {
   "cell_type": "code",
   "execution_count": 136,
   "id": "985ff91d",
   "metadata": {},
   "outputs": [
    {
     "data": {
      "text/plain": [
       "0                 Crime\n",
       "1         Entertainment\n",
       "2         Entertainment\n",
       "3         Entertainment\n",
       "4         Entertainment\n",
       "              ...      \n",
       "200848       Technology\n",
       "200849           Sports\n",
       "200850           Sports\n",
       "200851           Sports\n",
       "200852           Sports\n",
       "Name: category, Length: 200853, dtype: object"
      ]
     },
     "execution_count": 136,
     "metadata": {},
     "output_type": "execute_result"
    }
   ],
   "source": [
    "y_example"
   ]
  },
  {
   "cell_type": "code",
   "execution_count": 84,
   "id": "3c5abf48",
   "metadata": {},
   "outputs": [],
   "source": [
    "from sklearn.metrics import confusion_matrix\n",
    "\n",
    "cm_array = confusion_matrix(y_example.map(val_dict), results)"
   ]
  },
  {
   "cell_type": "code",
   "execution_count": 172,
   "id": "2f2cc6ab",
   "metadata": {},
   "outputs": [
    {
     "data": {
      "text/plain": [
       "0"
      ]
     },
     "execution_count": 172,
     "metadata": {},
     "output_type": "execute_result"
    }
   ],
   "source": [
    "pd.DataFrame(embeddings)"
   ]
  },
  {
   "cell_type": "code",
   "execution_count": 29,
   "id": "4311cbbb",
   "metadata": {
    "collapsed": true
   },
   "outputs": [
    {
     "data": {
      "text/html": [
       "<div>\n",
       "<style scoped>\n",
       "    .dataframe tbody tr th:only-of-type {\n",
       "        vertical-align: middle;\n",
       "    }\n",
       "\n",
       "    .dataframe tbody tr th {\n",
       "        vertical-align: top;\n",
       "    }\n",
       "\n",
       "    .dataframe thead th {\n",
       "        text-align: right;\n",
       "    }\n",
       "</style>\n",
       "<table border=\"1\" class=\"dataframe\">\n",
       "  <thead>\n",
       "    <tr style=\"text-align: right;\">\n",
       "      <th></th>\n",
       "      <th>0</th>\n",
       "      <th>1</th>\n",
       "      <th>2</th>\n",
       "      <th>3</th>\n",
       "      <th>4</th>\n",
       "      <th>5</th>\n",
       "      <th>6</th>\n",
       "      <th>7</th>\n",
       "      <th>8</th>\n",
       "      <th>9</th>\n",
       "      <th>10</th>\n",
       "      <th>11</th>\n",
       "      <th>12</th>\n",
       "      <th>13</th>\n",
       "    </tr>\n",
       "  </thead>\n",
       "  <tbody>\n",
       "    <tr>\n",
       "      <th>0</th>\n",
       "      <td>0.0</td>\n",
       "      <td>0.0</td>\n",
       "      <td>1.0</td>\n",
       "      <td>0.0</td>\n",
       "      <td>0.0</td>\n",
       "      <td>0.0</td>\n",
       "      <td>0.0</td>\n",
       "      <td>0.0</td>\n",
       "      <td>0.0</td>\n",
       "      <td>0.0</td>\n",
       "      <td>0.0</td>\n",
       "      <td>0.0</td>\n",
       "      <td>0.0</td>\n",
       "      <td>0.0</td>\n",
       "    </tr>\n",
       "    <tr>\n",
       "      <th>1</th>\n",
       "      <td>0.0</td>\n",
       "      <td>0.0</td>\n",
       "      <td>0.0</td>\n",
       "      <td>0.0</td>\n",
       "      <td>0.0</td>\n",
       "      <td>1.0</td>\n",
       "      <td>0.0</td>\n",
       "      <td>0.0</td>\n",
       "      <td>0.0</td>\n",
       "      <td>0.0</td>\n",
       "      <td>0.0</td>\n",
       "      <td>0.0</td>\n",
       "      <td>0.0</td>\n",
       "      <td>0.0</td>\n",
       "    </tr>\n",
       "    <tr>\n",
       "      <th>2</th>\n",
       "      <td>0.0</td>\n",
       "      <td>0.0</td>\n",
       "      <td>0.0</td>\n",
       "      <td>0.0</td>\n",
       "      <td>0.0</td>\n",
       "      <td>1.0</td>\n",
       "      <td>0.0</td>\n",
       "      <td>0.0</td>\n",
       "      <td>0.0</td>\n",
       "      <td>0.0</td>\n",
       "      <td>0.0</td>\n",
       "      <td>0.0</td>\n",
       "      <td>0.0</td>\n",
       "      <td>0.0</td>\n",
       "    </tr>\n",
       "    <tr>\n",
       "      <th>3</th>\n",
       "      <td>0.0</td>\n",
       "      <td>0.0</td>\n",
       "      <td>0.0</td>\n",
       "      <td>0.0</td>\n",
       "      <td>0.0</td>\n",
       "      <td>1.0</td>\n",
       "      <td>0.0</td>\n",
       "      <td>0.0</td>\n",
       "      <td>0.0</td>\n",
       "      <td>0.0</td>\n",
       "      <td>0.0</td>\n",
       "      <td>0.0</td>\n",
       "      <td>0.0</td>\n",
       "      <td>0.0</td>\n",
       "    </tr>\n",
       "    <tr>\n",
       "      <th>4</th>\n",
       "      <td>0.0</td>\n",
       "      <td>0.0</td>\n",
       "      <td>0.0</td>\n",
       "      <td>0.0</td>\n",
       "      <td>0.0</td>\n",
       "      <td>1.0</td>\n",
       "      <td>0.0</td>\n",
       "      <td>0.0</td>\n",
       "      <td>0.0</td>\n",
       "      <td>0.0</td>\n",
       "      <td>0.0</td>\n",
       "      <td>0.0</td>\n",
       "      <td>0.0</td>\n",
       "      <td>0.0</td>\n",
       "    </tr>\n",
       "    <tr>\n",
       "      <th>...</th>\n",
       "      <td>...</td>\n",
       "      <td>...</td>\n",
       "      <td>...</td>\n",
       "      <td>...</td>\n",
       "      <td>...</td>\n",
       "      <td>...</td>\n",
       "      <td>...</td>\n",
       "      <td>...</td>\n",
       "      <td>...</td>\n",
       "      <td>...</td>\n",
       "      <td>...</td>\n",
       "      <td>...</td>\n",
       "      <td>...</td>\n",
       "      <td>...</td>\n",
       "    </tr>\n",
       "    <tr>\n",
       "      <th>995</th>\n",
       "      <td>0.0</td>\n",
       "      <td>0.0</td>\n",
       "      <td>0.0</td>\n",
       "      <td>0.0</td>\n",
       "      <td>0.0</td>\n",
       "      <td>0.0</td>\n",
       "      <td>0.0</td>\n",
       "      <td>0.0</td>\n",
       "      <td>1.0</td>\n",
       "      <td>0.0</td>\n",
       "      <td>0.0</td>\n",
       "      <td>0.0</td>\n",
       "      <td>0.0</td>\n",
       "      <td>0.0</td>\n",
       "    </tr>\n",
       "    <tr>\n",
       "      <th>996</th>\n",
       "      <td>0.0</td>\n",
       "      <td>0.0</td>\n",
       "      <td>0.0</td>\n",
       "      <td>0.0</td>\n",
       "      <td>0.0</td>\n",
       "      <td>0.0</td>\n",
       "      <td>0.0</td>\n",
       "      <td>0.0</td>\n",
       "      <td>1.0</td>\n",
       "      <td>0.0</td>\n",
       "      <td>0.0</td>\n",
       "      <td>0.0</td>\n",
       "      <td>0.0</td>\n",
       "      <td>0.0</td>\n",
       "    </tr>\n",
       "    <tr>\n",
       "      <th>997</th>\n",
       "      <td>0.0</td>\n",
       "      <td>0.0</td>\n",
       "      <td>0.0</td>\n",
       "      <td>0.0</td>\n",
       "      <td>0.0</td>\n",
       "      <td>0.0</td>\n",
       "      <td>1.0</td>\n",
       "      <td>0.0</td>\n",
       "      <td>0.0</td>\n",
       "      <td>0.0</td>\n",
       "      <td>0.0</td>\n",
       "      <td>0.0</td>\n",
       "      <td>0.0</td>\n",
       "      <td>0.0</td>\n",
       "    </tr>\n",
       "    <tr>\n",
       "      <th>998</th>\n",
       "      <td>0.0</td>\n",
       "      <td>0.0</td>\n",
       "      <td>0.0</td>\n",
       "      <td>0.0</td>\n",
       "      <td>0.0</td>\n",
       "      <td>0.0</td>\n",
       "      <td>0.0</td>\n",
       "      <td>1.0</td>\n",
       "      <td>0.0</td>\n",
       "      <td>0.0</td>\n",
       "      <td>0.0</td>\n",
       "      <td>0.0</td>\n",
       "      <td>0.0</td>\n",
       "      <td>0.0</td>\n",
       "    </tr>\n",
       "    <tr>\n",
       "      <th>999</th>\n",
       "      <td>0.0</td>\n",
       "      <td>0.0</td>\n",
       "      <td>0.0</td>\n",
       "      <td>1.0</td>\n",
       "      <td>0.0</td>\n",
       "      <td>0.0</td>\n",
       "      <td>0.0</td>\n",
       "      <td>0.0</td>\n",
       "      <td>0.0</td>\n",
       "      <td>0.0</td>\n",
       "      <td>0.0</td>\n",
       "      <td>0.0</td>\n",
       "      <td>0.0</td>\n",
       "      <td>0.0</td>\n",
       "    </tr>\n",
       "  </tbody>\n",
       "</table>\n",
       "<p>1000 rows × 14 columns</p>\n",
       "</div>"
      ],
      "text/plain": [
       "      0    1    2    3    4    5    6    7    8    9    10   11   12   13\n",
       "0    0.0  0.0  1.0  0.0  0.0  0.0  0.0  0.0  0.0  0.0  0.0  0.0  0.0  0.0\n",
       "1    0.0  0.0  0.0  0.0  0.0  1.0  0.0  0.0  0.0  0.0  0.0  0.0  0.0  0.0\n",
       "2    0.0  0.0  0.0  0.0  0.0  1.0  0.0  0.0  0.0  0.0  0.0  0.0  0.0  0.0\n",
       "3    0.0  0.0  0.0  0.0  0.0  1.0  0.0  0.0  0.0  0.0  0.0  0.0  0.0  0.0\n",
       "4    0.0  0.0  0.0  0.0  0.0  1.0  0.0  0.0  0.0  0.0  0.0  0.0  0.0  0.0\n",
       "..   ...  ...  ...  ...  ...  ...  ...  ...  ...  ...  ...  ...  ...  ...\n",
       "995  0.0  0.0  0.0  0.0  0.0  0.0  0.0  0.0  1.0  0.0  0.0  0.0  0.0  0.0\n",
       "996  0.0  0.0  0.0  0.0  0.0  0.0  0.0  0.0  1.0  0.0  0.0  0.0  0.0  0.0\n",
       "997  0.0  0.0  0.0  0.0  0.0  0.0  1.0  0.0  0.0  0.0  0.0  0.0  0.0  0.0\n",
       "998  0.0  0.0  0.0  0.0  0.0  0.0  0.0  1.0  0.0  0.0  0.0  0.0  0.0  0.0\n",
       "999  0.0  0.0  0.0  1.0  0.0  0.0  0.0  0.0  0.0  0.0  0.0  0.0  0.0  0.0\n",
       "\n",
       "[1000 rows x 14 columns]"
      ]
     },
     "execution_count": 29,
     "metadata": {},
     "output_type": "execute_result"
    }
   ],
   "source": [
    "pd.DataFrame(y)"
   ]
  },
  {
   "cell_type": "code",
   "execution_count": 85,
   "id": "63a9ea9d",
   "metadata": {},
   "outputs": [
    {
     "data": {
      "text/plain": [
       "['Activism',\n",
       " 'Business',\n",
       " 'Crime',\n",
       " 'Culture',\n",
       " 'Education',\n",
       " 'Entertainment',\n",
       " 'Health',\n",
       " 'Media',\n",
       " 'Other',\n",
       " 'Politics',\n",
       " 'Religion',\n",
       " 'Science',\n",
       " 'Sports',\n",
       " 'Technology',\n",
       " 'Trends',\n",
       " 'World News']"
      ]
     },
     "execution_count": 85,
     "metadata": {},
     "output_type": "execute_result"
    }
   ],
   "source": [
    "labels = list(ohe.categories_[0])\n",
    "labels"
   ]
  },
  {
   "cell_type": "code",
   "execution_count": 86,
   "id": "18669f29",
   "metadata": {},
   "outputs": [
    {
     "data": {
      "text/plain": [
       "<AxesSubplot:>"
      ]
     },
     "execution_count": 86,
     "metadata": {},
     "output_type": "execute_result"
    },
    {
     "data": {
      "image/png": "[encoded data removed]",
      "text/plain": [
       "<Figure size 1080x576 with 2 Axes>"
      ]
     },
     "metadata": {
      "needs_background": "light"
     },
     "output_type": "display_data"
    }
   ],
   "source": [
    "import seaborn as sns\n",
    "import pandas as pd\n",
    "import matplotlib.pyplot as plt\n",
    "\n",
    "df_cm = pd.DataFrame(cm_array, index = [i for i in labels],\n",
    "                  columns = [i for i in labels])\n",
    "plt.figure(figsize = (15,8))\n",
    "\n",
    "sns.heatmap(df_cm, annot=True)"
   ]
  },
  {
   "cell_type": "markdown",
   "id": "b85cf5c7",
   "metadata": {},
   "source": [
    "## ML Model"
   ]
  },
  {
   "cell_type": "code",
   "execution_count": 3,
   "id": "d8e41dbf",
   "metadata": {},
   "outputs": [],
   "source": [
    "embeddings_200k = pd.read_csv('../big_picture/data/embeddings_200k.csv')\n",
    "embeddings_200k = embeddings_200k.drop(columns='Unnamed: 0')"
   ]
  },
  {
   "cell_type": "code",
   "execution_count": 4,
   "id": "bd12dcc3",
   "metadata": {},
   "outputs": [
    {
     "data": {
      "text/html": [
       "<div>\n",
       "<style scoped>\n",
       "    .dataframe tbody tr th:only-of-type {\n",
       "        vertical-align: middle;\n",
       "    }\n",
       "\n",
       "    .dataframe tbody tr th {\n",
       "        vertical-align: top;\n",
       "    }\n",
       "\n",
       "    .dataframe thead th {\n",
       "        text-align: right;\n",
       "    }\n",
       "</style>\n",
       "<table border=\"1\" class=\"dataframe\">\n",
       "  <thead>\n",
       "    <tr style=\"text-align: right;\">\n",
       "      <th></th>\n",
       "      <th>category</th>\n",
       "      <th>headline</th>\n",
       "      <th>authors</th>\n",
       "      <th>link</th>\n",
       "      <th>short_description</th>\n",
       "      <th>date</th>\n",
       "    </tr>\n",
       "  </thead>\n",
       "  <tbody>\n",
       "    <tr>\n",
       "      <th>0</th>\n",
       "      <td>CRIME</td>\n",
       "      <td>There Were 2 Mass Shootings In Texas Last Week...</td>\n",
       "      <td>Melissa Jeltsen</td>\n",
       "      <td>https://www.huffingtonpost.com/entry/texas-ama...</td>\n",
       "      <td>She left her husband. He killed their children...</td>\n",
       "      <td>2018-05-26</td>\n",
       "    </tr>\n",
       "    <tr>\n",
       "      <th>1</th>\n",
       "      <td>ENTERTAINMENT</td>\n",
       "      <td>Will Smith Joins Diplo And Nicky Jam For The 2...</td>\n",
       "      <td>Andy McDonald</td>\n",
       "      <td>https://www.huffingtonpost.com/entry/will-smit...</td>\n",
       "      <td>Of course it has a song.</td>\n",
       "      <td>2018-05-26</td>\n",
       "    </tr>\n",
       "    <tr>\n",
       "      <th>2</th>\n",
       "      <td>ENTERTAINMENT</td>\n",
       "      <td>Hugh Grant Marries For The First Time At Age 57</td>\n",
       "      <td>Ron Dicker</td>\n",
       "      <td>https://www.huffingtonpost.com/entry/hugh-gran...</td>\n",
       "      <td>The actor and his longtime girlfriend Anna Ebe...</td>\n",
       "      <td>2018-05-26</td>\n",
       "    </tr>\n",
       "    <tr>\n",
       "      <th>3</th>\n",
       "      <td>ENTERTAINMENT</td>\n",
       "      <td>Jim Carrey Blasts 'Castrato' Adam Schiff And D...</td>\n",
       "      <td>Ron Dicker</td>\n",
       "      <td>https://www.huffingtonpost.com/entry/jim-carre...</td>\n",
       "      <td>The actor gives Dems an ass-kicking for not fi...</td>\n",
       "      <td>2018-05-26</td>\n",
       "    </tr>\n",
       "    <tr>\n",
       "      <th>4</th>\n",
       "      <td>ENTERTAINMENT</td>\n",
       "      <td>Julianna Margulies Uses Donald Trump Poop Bags...</td>\n",
       "      <td>Ron Dicker</td>\n",
       "      <td>https://www.huffingtonpost.com/entry/julianna-...</td>\n",
       "      <td>The \"Dietland\" actress said using the bags is ...</td>\n",
       "      <td>2018-05-26</td>\n",
       "    </tr>\n",
       "  </tbody>\n",
       "</table>\n",
       "</div>"
      ],
      "text/plain": [
       "        category                                           headline  \\\n",
       "0          CRIME  There Were 2 Mass Shootings In Texas Last Week...   \n",
       "1  ENTERTAINMENT  Will Smith Joins Diplo And Nicky Jam For The 2...   \n",
       "2  ENTERTAINMENT    Hugh Grant Marries For The First Time At Age 57   \n",
       "3  ENTERTAINMENT  Jim Carrey Blasts 'Castrato' Adam Schiff And D...   \n",
       "4  ENTERTAINMENT  Julianna Margulies Uses Donald Trump Poop Bags...   \n",
       "\n",
       "           authors                                               link  \\\n",
       "0  Melissa Jeltsen  https://www.huffingtonpost.com/entry/texas-ama...   \n",
       "1    Andy McDonald  https://www.huffingtonpost.com/entry/will-smit...   \n",
       "2       Ron Dicker  https://www.huffingtonpost.com/entry/hugh-gran...   \n",
       "3       Ron Dicker  https://www.huffingtonpost.com/entry/jim-carre...   \n",
       "4       Ron Dicker  https://www.huffingtonpost.com/entry/julianna-...   \n",
       "\n",
       "                                   short_description       date  \n",
       "0  She left her husband. He killed their children... 2018-05-26  \n",
       "1                           Of course it has a song. 2018-05-26  \n",
       "2  The actor and his longtime girlfriend Anna Ebe... 2018-05-26  \n",
       "3  The actor gives Dems an ass-kicking for not fi... 2018-05-26  \n",
       "4  The \"Dietland\" actress said using the bags is ... 2018-05-26  "
      ]
     },
     "execution_count": 4,
     "metadata": {},
     "output_type": "execute_result"
    }
   ],
   "source": [
    "data = pd.read_json('../raw_data/news_category_data.json', lines=True)\n",
    "data.head()"
   ]
  },
  {
   "cell_type": "code",
   "execution_count": 7,
   "id": "417ef426",
   "metadata": {},
   "outputs": [],
   "source": [
    "new_data = data.copy()\n",
    "new_data['category'] = data.category.map(lambda x: my_dict[x])"
   ]
  },
  {
   "cell_type": "code",
   "execution_count": 8,
   "id": "df5ffba7",
   "metadata": {},
   "outputs": [],
   "source": [
    "cat_data = new_data['category']"
   ]
  },
  {
   "cell_type": "code",
   "execution_count": 24,
   "id": "d2154275",
   "metadata": {},
   "outputs": [
    {
     "data": {
      "text/plain": [
       "(200853, 16)"
      ]
     },
     "execution_count": 24,
     "metadata": {},
     "output_type": "execute_result"
    }
   ],
   "source": [
    "from sklearn.preprocessing import OneHotEncoder\n",
    "\n",
    "ohe = OneHotEncoder()\n",
    "\n",
    "y = ohe.fit_transform(pd.DataFrame(cat_data)).toarray()\n",
    "y.shape"
   ]
  },
  {
   "cell_type": "code",
   "execution_count": 31,
   "id": "0a692d55",
   "metadata": {},
   "outputs": [
    {
     "data": {
      "text/plain": [
       "((6000, 768), (6000, 16))"
      ]
     },
     "execution_count": 31,
     "metadata": {},
     "output_type": "execute_result"
    }
   ],
   "source": [
    "# Set X and y\n",
    "X = embeddings_200k.iloc[:6000, :]\n",
    "new_y = y[:6000]\n",
    "X.shape, new_y.shape"
   ]
  },
  {
   "cell_type": "code",
   "execution_count": 32,
   "id": "dc68a507",
   "metadata": {},
   "outputs": [
    {
     "name": "stdout",
     "output_type": "stream",
     "text": [
      "Fitting 5 folds for each of 14 candidates, totalling 70 fits\n"
     ]
    },
    {
     "name": "stderr",
     "output_type": "stream",
     "text": [
      "[Parallel(n_jobs=-1)]: Using backend LokyBackend with 16 concurrent workers.\n",
      "[Parallel(n_jobs=-1)]: Done  18 tasks      | elapsed:   48.3s\n",
      "[Parallel(n_jobs=-1)]: Done  70 out of  70 | elapsed:  1.7min finished\n"
     ]
    },
    {
     "data": {
      "text/plain": [
       "GridSearchCV(cv=5, error_score=nan,\n",
       "             estimator=Pipeline(memory=None,\n",
       "                                steps=[('knn',\n",
       "                                        KNeighborsClassifier(algorithm='auto',\n",
       "                                                             leaf_size=30,\n",
       "                                                             metric='minkowski',\n",
       "                                                             metric_params=None,\n",
       "                                                             n_jobs=None,\n",
       "                                                             n_neighbors=5, p=2,\n",
       "                                                             weights='uniform'))],\n",
       "                                verbose=False),\n",
       "             iid='deprecated', n_jobs=-1,\n",
       "             param_grid={'knn__leaf_size': [30, 40],\n",
       "                         'knn__n_neighbors': [3, 4, 5, 6, 7, 8, 9]},\n",
       "             pre_dispatch='2*n_jobs', refit=True, return_train_score=False,\n",
       "             scoring='accuracy', verbose=1)"
      ]
     },
     "execution_count": 32,
     "metadata": {},
     "output_type": "execute_result"
    }
   ],
   "source": [
    "# Create Pipeline\n",
    "from sklearn.model_selection import GridSearchCV\n",
    "from sklearn.pipeline import Pipeline\n",
    "from sklearn.neighbors import KNeighborsClassifier\n",
    "from numpy.random import uniform\n",
    "\n",
    "\n",
    "\n",
    "# Create Pipeline\n",
    "pipeline = Pipeline([\n",
    "    ('knn', KNeighborsClassifier()),\n",
    "])\n",
    "\n",
    "# Set parameters to search\n",
    "parameters = {\n",
    "    'knn__leaf_size': [30, 40],\n",
    "    'knn__n_neighbors': list(range(3,10))}\n",
    "\n",
    "# Perform grid search\n",
    "grid_search = GridSearchCV(pipeline, parameters, n_jobs=-1, \n",
    "                           verbose=1, scoring = \"accuracy\", \n",
    "                           refit=True, cv=5)\n",
    "\n",
    "grid_search.fit(X,new_y)"
   ]
  },
  {
   "cell_type": "code",
   "execution_count": 36,
   "id": "790cafd5",
   "metadata": {},
   "outputs": [
    {
     "data": {
      "text/plain": [
       "0.5208333333333333"
      ]
     },
     "execution_count": 36,
     "metadata": {},
     "output_type": "execute_result"
    }
   ],
   "source": [
    "grid_search.best_score_\n"
   ]
  },
  {
   "cell_type": "code",
   "execution_count": 37,
   "id": "5ba5ac2c",
   "metadata": {},
   "outputs": [
    {
     "data": {
      "text/plain": [
       "0.0625"
      ]
     },
     "execution_count": 37,
     "metadata": {},
     "output_type": "execute_result"
    }
   ],
   "source": [
    "1/16"
   ]
  },
  {
   "cell_type": "code",
   "execution_count": null,
   "id": "dd28b33b",
   "metadata": {},
   "outputs": [],
   "source": []
  }
 ],
 "metadata": {
  "kernelspec": {
   "display_name": "Python 3",
   "language": "python",
   "name": "python3"
  },
  "language_info": {
   "codemirror_mode": {
    "name": "ipython",
    "version": 3
   },
   "file_extension": ".py",
   "mimetype": "text/x-python",
   "name": "python",
   "nbconvert_exporter": "python",
   "pygments_lexer": "ipython3",
   "version": "3.8.6"
  },
  "toc": {
   "base_numbering": 1,
   "nav_menu": {},
   "number_sections": true,
   "sideBar": true,
   "skip_h1_title": false,
   "title_cell": "Table of Contents",
   "title_sidebar": "Contents",
   "toc_cell": false,
   "toc_position": {},
   "toc_section_display": true,
   "toc_window_display": false
  }
 },
 "nbformat": 4,
 "nbformat_minor": 5
}
