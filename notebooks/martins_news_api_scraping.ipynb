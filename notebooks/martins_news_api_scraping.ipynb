{
 "cells": [
  {
   "cell_type": "markdown",
   "id": "26fe3f36",
   "metadata": {},
   "source": [
    "### Requirements"
   ]
  },
  {
   "cell_type": "code",
   "execution_count": 5,
   "id": "c6a52028",
   "metadata": {},
   "outputs": [],
   "source": [
    "import pandas as pd\n",
    "import requests\n",
    "import json\n",
    "\n",
    "# import numpy as np\n",
    "# import matplotlib.pyplot as plt\n",
    "# import seaborn as sns\n",
    "# from bs4 import BeautifulSoup"
   ]
  },
  {
   "cell_type": "markdown",
   "id": "7cb9fb16",
   "metadata": {},
   "source": [
    "### Scraping from API: https://newsapi.org/v2/"
   ]
  },
  {
   "cell_type": "code",
   "execution_count": 7,
   "id": "02dafeca",
   "metadata": {},
   "outputs": [],
   "source": [
    "f = open('../raw_data/news_api/sources.json',) \n",
    "# returns JSON object as a dictionary\n",
    "data = json.load(f)\n",
    "f.close()\n",
    "sources_df = pd.DataFrame(data[\"sources\"])"
   ]
  },
  {
   "cell_type": "code",
   "execution_count": 9,
   "id": "9d66d82e",
   "metadata": {},
   "outputs": [],
   "source": [
    "files_list = []\n",
    "number_of_requests = 5\n",
    "api = \"940f51da7bc0439b8cf24417ae0bd5e4\" # API do Martins\n",
    "\n",
    "# the maximum number of news articles per request is 100\n",
    "# the maximum number of requests per day is 100\n",
    "for number in range(number_of_requests):\n",
    "    sources_df = sources_df[sources_df[\"language\"] == \"en\"].sample(20) # grabs only 20 sources (max size) at random each time these are selected\n",
    "    sources_list = sources_df.id.to_list()\n",
    "    \n",
    "    sources = \",\".join(sources_list)\n",
    "    url = 'https://newsapi.org/v2/'\n",
    "    url_params = 'everything' #everything or top headlines\n",
    "    params = { \"sources\": sources,\n",
    "            \"pageSize\": 100,\n",
    "            'apiKey': api}\n",
    "\n",
    "    response = requests.get(url + url_params, params=params)\n",
    "    \n",
    "    file = response.json()[\"articles\"]\n",
    "    files_list.append(file)"
   ]
  },
  {
   "cell_type": "markdown",
   "id": "864c71d8",
   "metadata": {},
   "source": [
    "### Putting result into dataframe"
   ]
  },
  {
   "cell_type": "code",
   "execution_count": 16,
   "id": "02ac257f",
   "metadata": {},
   "outputs": [],
   "source": [
    "elems =[]\n",
    "for file in files_list:\n",
    "    for elem in file:\n",
    "        elems.append(elem)\n",
    "news_api_df = pd.DataFrame(elems)\n",
    "\n",
    "## Alternative way\n",
    "# files_list = [file1, file2]\n",
    "# files_list_unpacked = [*file1, *file2]\n",
    "# news_api_df = pd.DataFrame([*file1, *file2])"
   ]
  },
  {
   "cell_type": "code",
   "execution_count": null,
   "id": "de44461e",
   "metadata": {},
   "outputs": [],
   "source": []
  },
  {
   "cell_type": "code",
   "execution_count": null,
   "id": "8a155003",
   "metadata": {},
   "outputs": [],
   "source": []
  },
  {
   "cell_type": "markdown",
   "id": "273769cd",
   "metadata": {},
   "source": [
    "### Info do scaping do José (em baixo)"
   ]
  },
  {
   "cell_type": "code",
   "execution_count": 6,
   "id": "cad6c297",
   "metadata": {},
   "outputs": [],
   "source": [
    "my_dict = {'CRIME': 'Crime',\n",
    " 'ENTERTAINMENT': 'Entertainment',\n",
    " 'WORLD NEWS': 'World News',\n",
    " 'IMPACT': 'Other',\n",
    " 'POLITICS': 'Politics',\n",
    " 'WEIRD NEWS': 'Other',\n",
    " 'BLACK VOICES': 'Activism',\n",
    " 'WOMEN': 'Entertainment',\n",
    " 'COMEDY': 'Entertainment',\n",
    " 'QUEER VOICES': 'Activism',\n",
    " 'SPORTS': 'Sports',\n",
    " 'BUSINESS': 'Business',\n",
    " 'TRAVEL': 'Culture',\n",
    " 'MEDIA': 'Media',\n",
    " 'TECH': 'Technology',\n",
    " 'RELIGION': 'Religion',\n",
    " 'SCIENCE': 'Science',\n",
    " 'LATINO VOICES': 'Activism',\n",
    " 'EDUCATION': 'Education',\n",
    " 'COLLEGE': 'Education',\n",
    " 'PARENTS': 'Other',\n",
    " 'ARTS & CULTURE': 'Culture',\n",
    " 'STYLE': 'Trends',\n",
    " 'GREEN': 'Activism',\n",
    " 'TASTE': 'Culture',\n",
    " 'HEALTHY LIVING': 'Health',\n",
    " 'THE WORLDPOST': 'World News',\n",
    " 'GOOD NEWS': 'Other',\n",
    " 'WORLDPOST': 'World News',\n",
    " 'FIFTY': 'Other',\n",
    " 'ARTS': 'Culture',\n",
    " 'WELLNESS': 'Health',\n",
    " 'PARENTING': 'Other',\n",
    " 'HOME & LIVING': 'Trends',\n",
    " 'STYLE & BEAUTY': 'Trends',\n",
    " 'DIVORCE': 'Other',\n",
    " 'WEDDINGS': 'Other',\n",
    " 'FOOD & DRINK': 'Culture',\n",
    " 'MONEY': 'Other',\n",
    " 'ENVIRONMENT': 'Activism',\n",
    " 'CULTURE & ARTS': 'Culture'}"
   ]
  },
  {
   "cell_type": "code",
   "execution_count": 7,
   "id": "4cf6cea7",
   "metadata": {},
   "outputs": [],
   "source": [
    "new_data = data.copy()\n",
    "new_data['category'] = data.category.map(lambda x: my_dict[x])"
   ]
  },
  {
   "cell_type": "code",
   "execution_count": 8,
   "id": "82a48845",
   "metadata": {},
   "outputs": [
    {
     "data": {
      "text/html": [
       "<div>\n",
       "<style scoped>\n",
       "    .dataframe tbody tr th:only-of-type {\n",
       "        vertical-align: middle;\n",
       "    }\n",
       "\n",
       "    .dataframe tbody tr th {\n",
       "        vertical-align: top;\n",
       "    }\n",
       "\n",
       "    .dataframe thead th {\n",
       "        text-align: right;\n",
       "    }\n",
       "</style>\n",
       "<table border=\"1\" class=\"dataframe\">\n",
       "  <thead>\n",
       "    <tr style=\"text-align: right;\">\n",
       "      <th></th>\n",
       "      <th>category</th>\n",
       "      <th>headline</th>\n",
       "      <th>authors</th>\n",
       "      <th>link</th>\n",
       "      <th>short_description</th>\n",
       "      <th>date</th>\n",
       "    </tr>\n",
       "  </thead>\n",
       "  <tbody>\n",
       "    <tr>\n",
       "      <th>0</th>\n",
       "      <td>Crime</td>\n",
       "      <td>There Were 2 Mass Shootings In Texas Last Week...</td>\n",
       "      <td>Melissa Jeltsen</td>\n",
       "      <td>https://www.huffingtonpost.com/entry/texas-ama...</td>\n",
       "      <td>She left her husband. He killed their children...</td>\n",
       "      <td>2018-05-26</td>\n",
       "    </tr>\n",
       "    <tr>\n",
       "      <th>1</th>\n",
       "      <td>Entertainment</td>\n",
       "      <td>Will Smith Joins Diplo And Nicky Jam For The 2...</td>\n",
       "      <td>Andy McDonald</td>\n",
       "      <td>https://www.huffingtonpost.com/entry/will-smit...</td>\n",
       "      <td>Of course it has a song.</td>\n",
       "      <td>2018-05-26</td>\n",
       "    </tr>\n",
       "    <tr>\n",
       "      <th>2</th>\n",
       "      <td>Entertainment</td>\n",
       "      <td>Hugh Grant Marries For The First Time At Age 57</td>\n",
       "      <td>Ron Dicker</td>\n",
       "      <td>https://www.huffingtonpost.com/entry/hugh-gran...</td>\n",
       "      <td>The actor and his longtime girlfriend Anna Ebe...</td>\n",
       "      <td>2018-05-26</td>\n",
       "    </tr>\n",
       "    <tr>\n",
       "      <th>3</th>\n",
       "      <td>Entertainment</td>\n",
       "      <td>Jim Carrey Blasts 'Castrato' Adam Schiff And D...</td>\n",
       "      <td>Ron Dicker</td>\n",
       "      <td>https://www.huffingtonpost.com/entry/jim-carre...</td>\n",
       "      <td>The actor gives Dems an ass-kicking for not fi...</td>\n",
       "      <td>2018-05-26</td>\n",
       "    </tr>\n",
       "    <tr>\n",
       "      <th>4</th>\n",
       "      <td>Entertainment</td>\n",
       "      <td>Julianna Margulies Uses Donald Trump Poop Bags...</td>\n",
       "      <td>Ron Dicker</td>\n",
       "      <td>https://www.huffingtonpost.com/entry/julianna-...</td>\n",
       "      <td>The \"Dietland\" actress said using the bags is ...</td>\n",
       "      <td>2018-05-26</td>\n",
       "    </tr>\n",
       "  </tbody>\n",
       "</table>\n",
       "</div>"
      ],
      "text/plain": [
       "        category                                           headline  \\\n",
       "0          Crime  There Were 2 Mass Shootings In Texas Last Week...   \n",
       "1  Entertainment  Will Smith Joins Diplo And Nicky Jam For The 2...   \n",
       "2  Entertainment    Hugh Grant Marries For The First Time At Age 57   \n",
       "3  Entertainment  Jim Carrey Blasts 'Castrato' Adam Schiff And D...   \n",
       "4  Entertainment  Julianna Margulies Uses Donald Trump Poop Bags...   \n",
       "\n",
       "           authors                                               link  \\\n",
       "0  Melissa Jeltsen  https://www.huffingtonpost.com/entry/texas-ama...   \n",
       "1    Andy McDonald  https://www.huffingtonpost.com/entry/will-smit...   \n",
       "2       Ron Dicker  https://www.huffingtonpost.com/entry/hugh-gran...   \n",
       "3       Ron Dicker  https://www.huffingtonpost.com/entry/jim-carre...   \n",
       "4       Ron Dicker  https://www.huffingtonpost.com/entry/julianna-...   \n",
       "\n",
       "                                   short_description       date  \n",
       "0  She left her husband. He killed their children... 2018-05-26  \n",
       "1                           Of course it has a song. 2018-05-26  \n",
       "2  The actor and his longtime girlfriend Anna Ebe... 2018-05-26  \n",
       "3  The actor gives Dems an ass-kicking for not fi... 2018-05-26  \n",
       "4  The \"Dietland\" actress said using the bags is ... 2018-05-26  "
      ]
     },
     "execution_count": 8,
     "metadata": {},
     "output_type": "execute_result"
    }
   ],
   "source": [
    "new_data.head()"
   ]
  },
  {
   "cell_type": "code",
   "execution_count": 9,
   "id": "f453fb3d",
   "metadata": {},
   "outputs": [
    {
     "data": {
      "application/vnd.jupyter.widget-view+json": {
       "model_id": "50e44e1300ed4e10bba18cf7f402b724",
       "version_major": 2,
       "version_minor": 0
      },
      "text/plain": [
       "Batches:   0%|          | 0/6277 [00:00<?, ?it/s]"
      ]
     },
     "metadata": {},
     "output_type": "display_data"
    }
   ],
   "source": [
    "from sentence_transformers import SentenceTransformer\n",
    "model = SentenceTransformer('distilbert-base-nli-mean-tokens')\n",
    "embeddings = model.encode(new_data.headline, show_progress_bar=True)\n",
    "pd.DataFrame(embeddings).to_csv('../big_picture/data/embeddings_200k.csv')"
   ]
  },
  {
   "cell_type": "code",
   "execution_count": null,
   "id": "27ef4e80",
   "metadata": {},
   "outputs": [],
   "source": []
  }
 ],
 "metadata": {
  "kernelspec": {
   "display_name": "Python 3",
   "language": "python",
   "name": "python3"
  },
  "language_info": {
   "codemirror_mode": {
    "name": "ipython",
    "version": 3
   },
   "file_extension": ".py",
   "mimetype": "text/x-python",
   "name": "python",
   "nbconvert_exporter": "python",
   "pygments_lexer": "ipython3",
   "version": "3.8.6"
  },
  "toc": {
   "base_numbering": 1,
   "nav_menu": {},
   "number_sections": true,
   "sideBar": true,
   "skip_h1_title": false,
   "title_cell": "Table of Contents",
   "title_sidebar": "Contents",
   "toc_cell": false,
   "toc_position": {},
   "toc_section_display": true,
   "toc_window_display": false
  }
 },
 "nbformat": 4,
 "nbformat_minor": 5
}
