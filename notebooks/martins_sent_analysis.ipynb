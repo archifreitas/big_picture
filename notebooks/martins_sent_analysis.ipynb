{
 "cells": [
  {
   "cell_type": "markdown",
   "id": "8477e150",
   "metadata": {},
   "source": [
    "## Sentiment Analysis Model"
   ]
  },
  {
   "cell_type": "markdown",
   "id": "e3f1a6fe",
   "metadata": {},
   "source": [
    "### Requirements"
   ]
  },
  {
   "cell_type": "code",
   "execution_count": 229,
   "id": "c60dddf1",
   "metadata": {
    "collapsed": true
   },
   "outputs": [
    {
     "name": "stdout",
     "output_type": "stream",
     "text": [
      "Looking in indexes: https://pypi.org/simple, https://pypi.ngc.nvidia.com\n",
      "Collecting matplotlib\n",
      "  Downloading matplotlib-3.4.2-cp38-cp38-manylinux1_x86_64.whl (10.3 MB)\n",
      "\u001b[K     |████████████████████████████████| 10.3 MB 3.0 MB/s eta 0:00:01\n",
      "\u001b[?25hRequirement already satisfied: python-dateutil>=2.7 in /home/jb/.pyenv/versions/3.8.6/envs/big_picture/lib/python3.8/site-packages (from matplotlib) (2.8.1)\n",
      "Collecting kiwisolver>=1.0.1\n",
      "  Downloading kiwisolver-1.3.1-cp38-cp38-manylinux1_x86_64.whl (1.2 MB)\n",
      "\u001b[K     |████████████████████████████████| 1.2 MB 4.1 MB/s eta 0:00:01\n",
      "\u001b[?25hRequirement already satisfied: numpy>=1.16 in /home/jb/.pyenv/versions/3.8.6/envs/big_picture/lib/python3.8/site-packages (from matplotlib) (1.19.5)\n",
      "Collecting pillow>=6.2.0\n",
      "  Downloading Pillow-8.2.0-cp38-cp38-manylinux1_x86_64.whl (3.0 MB)\n",
      "\u001b[K     |████████████████████████████████| 3.0 MB 3.4 MB/s eta 0:00:01\n",
      "\u001b[?25hRequirement already satisfied: pyparsing>=2.2.1 in /home/jb/.pyenv/versions/3.8.6/envs/big_picture/lib/python3.8/site-packages (from matplotlib) (2.4.7)\n",
      "Collecting cycler>=0.10\n",
      "  Downloading cycler-0.10.0-py2.py3-none-any.whl (6.5 kB)\n",
      "Requirement already satisfied: six in /home/jb/.pyenv/versions/3.8.6/envs/big_picture/lib/python3.8/site-packages (from cycler>=0.10->matplotlib) (1.15.0)\n",
      "Installing collected packages: pillow, kiwisolver, cycler, matplotlib\n",
      "Successfully installed cycler-0.10.0 kiwisolver-1.3.1 matplotlib-3.4.2 pillow-8.2.0\n"
     ]
    }
   ],
   "source": [
    "# !pip install transformers\n",
    "# !pip install tensorflow\n",
    "# !pip install -U jupyter\n",
    "# !pip install ipywidgets\n",
    "# Link for automodels from tensorflow https://huggingface.co/transformers/v3.0.2/model_doc/auto.html\n",
    "# !pip install nltk\n",
    "#!pip install matplotlib"
   ]
  },
  {
   "cell_type": "markdown",
   "id": "15b00d83",
   "metadata": {},
   "source": [
    "### Imports"
   ]
  },
  {
   "cell_type": "code",
   "execution_count": 290,
   "id": "c0ee8da7",
   "metadata": {
    "scrolled": true
   },
   "outputs": [],
   "source": [
    "from transformers import BertTokenizerFast, TFBertForSequenceClassification\n",
    "from tensorflow.nn import softmax\n",
    "from tensorflow.keras import Sequential, layers\n",
    "import pandas as pd\n",
    "import glob\n",
    "from big_picture.get_merged_data import get_data\n",
    "from big_picture import pre_processor\n",
    "import numpy as np\n",
    "# from sklearn.preprocessing import StandardScaler\n",
    "from sklearn.preprocessing import MinMaxScaler"
   ]
  },
  {
   "cell_type": "markdown",
   "id": "bfe2e1d3",
   "metadata": {},
   "source": [
    "### Model and base example"
   ]
  },
  {
   "cell_type": "code",
   "execution_count": 160,
   "id": "2f209c59",
   "metadata": {},
   "outputs": [
    {
     "name": "stderr",
     "output_type": "stream",
     "text": [
      "You are using a model of type distilbert to instantiate a model of type bert. This is not supported for all configurations of models and can yield errors.\n",
      "Some layers from the model checkpoint at distilbert-base-uncased-finetuned-sst-2-english were not used when initializing TFBertForSequenceClassification: ['pre_classifier', 'dropout_19', 'distilbert']\n",
      "- This IS expected if you are initializing TFBertForSequenceClassification from the checkpoint of a model trained on another task or with another architecture (e.g. initializing a BertForSequenceClassification model from a BertForPreTraining model).\n",
      "- This IS NOT expected if you are initializing TFBertForSequenceClassification from the checkpoint of a model that you expect to be exactly identical (initializing a BertForSequenceClassification model from a BertForSequenceClassification model).\n",
      "Some layers of TFBertForSequenceClassification were not initialized from the model checkpoint at distilbert-base-uncased-finetuned-sst-2-english and are newly initialized: ['bert']\n",
      "You should probably TRAIN this model on a down-stream task to be able to use it for predictions and inference.\n"
     ]
    }
   ],
   "source": [
    "tokenizer = BertTokenizerFast.from_pretrained(\"distilbert-base-uncased-finetuned-sst-2-english\")\n",
    "model = TFBertForSequenceClassification.from_pretrained(\"distilbert-base-uncased-finetuned-sst-2-english\")"
   ]
  },
  {
   "cell_type": "code",
   "execution_count": 171,
   "id": "07a3aec5",
   "metadata": {},
   "outputs": [
    {
     "data": {
      "text/plain": [
       "{'input_ids': <tf.Tensor: shape=(1, 11), dtype=int32, numpy=\n",
       "array([[ 101, 5672, 2033, 2011, 2151, 3793, 2017, 1005, 1040, 2066,  102]],\n",
       "      dtype=int32)>, 'token_type_ids': <tf.Tensor: shape=(1, 11), dtype=int32, numpy=array([[0, 0, 0, 0, 0, 0, 0, 0, 0, 0, 0]], dtype=int32)>, 'attention_mask': <tf.Tensor: shape=(1, 11), dtype=int32, numpy=array([[1, 1, 1, 1, 1, 1, 1, 1, 1, 1, 1]], dtype=int32)>}"
      ]
     },
     "execution_count": 171,
     "metadata": {},
     "output_type": "execute_result"
    }
   ],
   "source": [
    "text = \"Replace me by any text you'd like\"\n",
    "encoded_input = tokenizer(text, return_tensors='tf', max_length=500, padding=True, truncation=True)\n",
    "encoded_input"
   ]
  },
  {
   "cell_type": "code",
   "execution_count": 172,
   "id": "04657bd8",
   "metadata": {},
   "outputs": [],
   "source": [
    "#output = model(encoded_input)\n",
    "#output"
   ]
  },
  {
   "cell_type": "code",
   "execution_count": 173,
   "id": "a3510b2a",
   "metadata": {
    "scrolled": true
   },
   "outputs": [
    {
     "data": {
      "text/plain": [
       "<tf.Tensor: shape=(1, 2), dtype=float32, numpy=array([[0.59855133, 0.40144864]], dtype=float32)>"
      ]
     },
     "execution_count": 173,
     "metadata": {},
     "output_type": "execute_result"
    }
   ],
   "source": [
    "softmax(output.logits)"
   ]
  },
  {
   "cell_type": "markdown",
   "id": "2e80f6ea",
   "metadata": {},
   "source": [
    "### Basic modelling of our data"
   ]
  },
  {
   "cell_type": "code",
   "execution_count": 174,
   "id": "7cfcfbdf",
   "metadata": {},
   "outputs": [],
   "source": [
    "REL_PATH_INPUT = \"../raw_data/data_12k/\"\n",
    "CONTENT_COL = \"content\"\n",
    "DESCRIPTION_COL = \"short_description\"\n",
    "HEADLINE_COL = \"headline\"\n",
    "\n",
    "news_all_data = \"news_all_data\"\n",
    "\n",
    "df =  get_data(REL_PATH_INPUT)\n",
    "df = df.sample(150)\n",
    "df[CONTENT_COL] = df[CONTENT_COL].replace('\\n',' ', regex=True)\n",
    "\n",
    "df[news_all_data] = df[CONTENT_COL] + \" \" + df[DESCRIPTION_COL] + \" \" + df[HEADLINE_COL]\n",
    "df = df.dropna(subset=[news_all_data]).reset_index()\n",
    "df = df[df[news_all_data] != \"Invalid file\"].reset_index(drop=True)"
   ]
  },
  {
   "cell_type": "code",
   "execution_count": 175,
   "id": "5d51f4b7",
   "metadata": {},
   "outputs": [],
   "source": [
    "texts = list(df.news_all_data)"
   ]
  },
  {
   "cell_type": "code",
   "execution_count": 176,
   "id": "44372b50",
   "metadata": {},
   "outputs": [],
   "source": [
    "#texts = \"Finland has banned the neo-Nazi Nordic Resistance Movement following a court ruling\""
   ]
  },
  {
   "cell_type": "code",
   "execution_count": 179,
   "id": "6a0fd106",
   "metadata": {},
   "outputs": [],
   "source": [
    "encoded_input = tokenizer(texts, \n",
    "                          return_tensors='tf',\n",
    "                          padding=True,\n",
    "                          max_length=500,\n",
    "                          truncation=True)"
   ]
  },
  {
   "cell_type": "code",
   "execution_count": 180,
   "id": "d177aee8",
   "metadata": {},
   "outputs": [
    {
     "data": {
      "text/plain": [
       "<tf.Tensor: shape=(150, 500), dtype=int32, numpy=\n",
       "array([[  101,  1523,  2035, ...,  6903,  1997,   102],\n",
       "       [  101,  1996,  4956, ...,  3639,  1012,   102],\n",
       "       [  101,  2343,  6221, ...,  1001,  8398,   102],\n",
       "       ...,\n",
       "       [  101,  9665, 16095, ...,  2008,  2004,   102],\n",
       "       [  101,  2899,  1006, ...,  2390,  1998,   102],\n",
       "       [  101,  2028,  4895, ...,  2617,  2000,   102]], dtype=int32)>"
      ]
     },
     "execution_count": 180,
     "metadata": {},
     "output_type": "execute_result"
    }
   ],
   "source": [
    "encoded_input['input_ids']"
   ]
  },
  {
   "cell_type": "code",
   "execution_count": 150,
   "id": "3533b486",
   "metadata": {},
   "outputs": [],
   "source": [
    "#encoded_input[0].ids\n",
    "# encoded_input\n",
    "# When one text:\n",
    "#{'input_ids': <tf.Tensor: shape=(1, 16), dtype=int32, numpy=\n",
    "#array([[  101,  6435,  2038,  7917,  1996,  9253,  1011,  6394, 13649,\n",
    "#         5012,  2929,  2206,  1037,  2457,  6996,   102]], dtype=int32)>, 'attention_mask': <tf.Tensor: shape=(1, 16), dtype=int32, numpy=array([[1, 1, 1, 1, 1, 1, 1, 1, 1, 1, 1, 1, 1, 1, 1, 1]], dtype=int32)>}"
   ]
  },
  {
   "cell_type": "code",
   "execution_count": 181,
   "id": "0ca1bbf7",
   "metadata": {},
   "outputs": [],
   "source": [
    "output = model(encoded_input)"
   ]
  },
  {
   "cell_type": "code",
   "execution_count": 287,
   "id": "e95e8a89",
   "metadata": {
    "collapsed": true
   },
   "outputs": [
    {
     "data": {
      "text/plain": [
       "<tf.Tensor: shape=(150, 2), dtype=float32, numpy=\n",
       "array([[ 0.06932306, -0.31501985],\n",
       "       [ 0.07365608, -0.31923977],\n",
       "       [ 0.05789121, -0.31503582],\n",
       "       [ 0.08705525, -0.28908417],\n",
       "       [ 0.06471908, -0.31378955],\n",
       "       [ 0.08420102, -0.31111145],\n",
       "       [ 0.08043686, -0.31628042],\n",
       "       [ 0.06778269, -0.3172796 ],\n",
       "       [ 0.11504273, -0.31098598],\n",
       "       [ 0.0625249 , -0.31642586],\n",
       "       [ 0.07907803, -0.31168836],\n",
       "       [ 0.07479925, -0.3184858 ],\n",
       "       [ 0.07000762, -0.3212289 ],\n",
       "       [ 0.0732241 , -0.31707877],\n",
       "       [ 0.06349672, -0.33137527],\n",
       "       [ 0.07572918, -0.3030541 ],\n",
       "       [ 0.07916172, -0.31141916],\n",
       "       [ 0.05160999, -0.30852506],\n",
       "       [ 0.07388616, -0.3171109 ],\n",
       "       [ 0.06004552, -0.30293843],\n",
       "       [ 0.02642242, -0.31377515],\n",
       "       [ 0.06632915, -0.3092785 ],\n",
       "       [ 0.0541038 , -0.31833202],\n",
       "       [ 0.05032248, -0.29409397],\n",
       "       [ 0.05103099, -0.29762328],\n",
       "       [ 0.06977649, -0.31102416],\n",
       "       [ 0.05221482, -0.31460345],\n",
       "       [ 0.06686889, -0.31419742],\n",
       "       [ 0.06138705, -0.32010788],\n",
       "       [ 0.07297553, -0.3228698 ],\n",
       "       [ 0.04993758, -0.314408  ],\n",
       "       [ 0.07499178, -0.31669667],\n",
       "       [ 0.07326753, -0.32018846],\n",
       "       [ 0.07725476, -0.31011087],\n",
       "       [ 0.09267178, -0.2976467 ],\n",
       "       [ 0.06670774, -0.3158555 ],\n",
       "       [ 0.07332727, -0.3167055 ],\n",
       "       [ 0.0798513 , -0.32694867],\n",
       "       [ 0.0588548 , -0.30767226],\n",
       "       [ 0.05993732, -0.3176589 ],\n",
       "       [ 0.06758568, -0.32261986],\n",
       "       [ 0.0594266 , -0.3065713 ],\n",
       "       [ 0.056876  , -0.30371413],\n",
       "       [ 0.0617613 , -0.3127063 ],\n",
       "       [ 0.07263997, -0.3220297 ],\n",
       "       [ 0.06813669, -0.32191727],\n",
       "       [ 0.0834    , -0.27920327],\n",
       "       [ 0.09768467, -0.27562937],\n",
       "       [ 0.06863166, -0.31571755],\n",
       "       [ 0.07471973, -0.33057746],\n",
       "       [ 0.11583109, -0.2978506 ],\n",
       "       [ 0.06737781, -0.31472263],\n",
       "       [ 0.06499361, -0.3349999 ],\n",
       "       [ 0.05679786, -0.3132662 ],\n",
       "       [ 0.05440158, -0.31864357],\n",
       "       [ 0.05171496, -0.315732  ],\n",
       "       [ 0.06800957, -0.30382586],\n",
       "       [ 0.08077753, -0.31989586],\n",
       "       [ 0.05673103, -0.33214542],\n",
       "       [ 0.07963575, -0.30690727],\n",
       "       [ 0.0671712 , -0.31070703],\n",
       "       [ 0.07505842, -0.30614454],\n",
       "       [ 0.06836951, -0.31282356],\n",
       "       [ 0.1203575 , -0.25945166],\n",
       "       [ 0.05415291, -0.3196306 ],\n",
       "       [ 0.06420194, -0.30945387],\n",
       "       [ 0.06192457, -0.31115752],\n",
       "       [ 0.05903179, -0.30929416],\n",
       "       [ 0.06499694, -0.31411055],\n",
       "       [ 0.0514981 , -0.3161302 ],\n",
       "       [ 0.05213878, -0.31203493],\n",
       "       [ 0.07036832, -0.31163076],\n",
       "       [ 0.05316069, -0.3245436 ],\n",
       "       [ 0.04063653, -0.31776327],\n",
       "       [ 0.08304403, -0.31326506],\n",
       "       [ 0.06032   , -0.31705245],\n",
       "       [ 0.07910727, -0.31233868],\n",
       "       [ 0.07785325, -0.32355285],\n",
       "       [ 0.07729121, -0.3123055 ],\n",
       "       [ 0.05444673, -0.31574136],\n",
       "       [ 0.06719626, -0.2992281 ],\n",
       "       [ 0.07532236, -0.30932388],\n",
       "       [ 0.06821072, -0.32063437],\n",
       "       [ 0.04779879, -0.32393354],\n",
       "       [ 0.06808107, -0.32385215],\n",
       "       [ 0.05430768, -0.30927658],\n",
       "       [ 0.05739877, -0.31704625],\n",
       "       [ 0.04353518, -0.32325464],\n",
       "       [ 0.06982335, -0.318182  ],\n",
       "       [ 0.08250424, -0.26993322],\n",
       "       [ 0.07826822, -0.31391627],\n",
       "       [ 0.08899677, -0.3119426 ],\n",
       "       [ 0.05954714, -0.31129694],\n",
       "       [ 0.04119473, -0.3303349 ],\n",
       "       [ 0.06388722, -0.31683946],\n",
       "       [ 0.07384136, -0.3119164 ],\n",
       "       [ 0.07682654, -0.30316728],\n",
       "       [ 0.05696003, -0.31356186],\n",
       "       [ 0.06915444, -0.30345604],\n",
       "       [ 0.07247044, -0.31368816],\n",
       "       [ 0.06083908, -0.32130125],\n",
       "       [ 0.06780788, -0.31967345],\n",
       "       [ 0.06974678, -0.31469205],\n",
       "       [ 0.06633349, -0.33076727],\n",
       "       [ 0.06565588, -0.3155642 ],\n",
       "       [ 0.06555714, -0.3264362 ],\n",
       "       [ 0.06594016, -0.31392357],\n",
       "       [ 0.07212062, -0.32201457],\n",
       "       [ 0.07808072, -0.31521946],\n",
       "       [ 0.06906612, -0.3213831 ],\n",
       "       [ 0.07474578, -0.31778252],\n",
       "       [ 0.08054159, -0.306314  ],\n",
       "       [ 0.08022834, -0.31115872],\n",
       "       [ 0.06330565, -0.29172277],\n",
       "       [ 0.12759298, -0.30652463],\n",
       "       [ 0.07639281, -0.31895688],\n",
       "       [ 0.06239149, -0.31513518],\n",
       "       [ 0.0648362 , -0.3036215 ],\n",
       "       [ 0.06512287, -0.3246674 ],\n",
       "       [ 0.06754984, -0.3107122 ],\n",
       "       [ 0.05126082, -0.31088388],\n",
       "       [ 0.07113728, -0.31386775],\n",
       "       [ 0.06905708, -0.30359596],\n",
       "       [ 0.06687222, -0.30555403],\n",
       "       [ 0.08894981, -0.3101364 ],\n",
       "       [ 0.05191462, -0.30763313],\n",
       "       [ 0.07052702, -0.3071284 ],\n",
       "       [ 0.06144218, -0.31910697],\n",
       "       [ 0.08216547, -0.31408203],\n",
       "       [ 0.05702513, -0.33442286],\n",
       "       [ 0.06170865, -0.31667116],\n",
       "       [ 0.06716408, -0.31108037],\n",
       "       [ 0.06206811, -0.314581  ],\n",
       "       [ 0.06830239, -0.31648257],\n",
       "       [ 0.06735334, -0.31221473],\n",
       "       [ 0.06343745, -0.30624253],\n",
       "       [ 0.0766719 , -0.32806054],\n",
       "       [ 0.05873514, -0.32229337],\n",
       "       [ 0.04633939, -0.32345617],\n",
       "       [ 0.08040956, -0.3234216 ],\n",
       "       [ 0.07959014, -0.31261978],\n",
       "       [ 0.08652549, -0.30093724],\n",
       "       [ 0.07730532, -0.30101702],\n",
       "       [ 0.08222298, -0.30704963],\n",
       "       [ 0.07534407, -0.3055755 ],\n",
       "       [ 0.06988178, -0.32472378],\n",
       "       [ 0.08164281, -0.30596837],\n",
       "       [ 0.06754869, -0.31592542],\n",
       "       [ 0.0746759 , -0.31274176],\n",
       "       [ 0.07330294, -0.31907964]], dtype=float32)>"
      ]
     },
     "execution_count": 287,
     "metadata": {},
     "output_type": "execute_result"
    }
   ],
   "source": [
    "output.logits"
   ]
  },
  {
   "cell_type": "code",
   "execution_count": 291,
   "id": "684f5b60",
   "metadata": {},
   "outputs": [
    {
     "data": {
      "text/plain": [
       "array([0.5949201 , 0.40507984], dtype=float32)"
      ]
     },
     "execution_count": 291,
     "metadata": {},
     "output_type": "execute_result"
    }
   ],
   "source": [
    "my_array = softmax(output.logits).numpy()\n",
    "my_array[0]"
   ]
  },
  {
   "cell_type": "code",
   "execution_count": 292,
   "id": "ebb9766d",
   "metadata": {},
   "outputs": [],
   "source": [
    "df = pd.DataFrame(my_array, columns = ['Negative','Positive'])"
   ]
  },
  {
   "cell_type": "code",
   "execution_count": 293,
   "id": "59f85356",
   "metadata": {
    "scrolled": true
   },
   "outputs": [
    {
     "name": "stdout",
     "output_type": "stream",
     "text": [
      "0.5943471\n",
      "0.40565285\n"
     ]
    }
   ],
   "source": [
    "print(df['Negative'].mean())\n",
    "print(df['Positive'].mean())"
   ]
  },
  {
   "cell_type": "code",
   "execution_count": 294,
   "id": "e1556dc0",
   "metadata": {},
   "outputs": [],
   "source": [
    "import matplotlib.pyplot as plt\n",
    "#plt.hist(df['Negative']) # Check feature distribution\n",
    "#plt.hist(df['Positive']) # Check feature distribution"
   ]
  },
  {
   "cell_type": "code",
   "execution_count": 296,
   "id": "f3323a64",
   "metadata": {
    "collapsed": true
   },
   "outputs": [
    {
     "data": {
      "text/plain": [
       "0     -0.189840\n",
       "1     -0.193959\n",
       "2     -0.184332\n",
       "3     -0.185883\n",
       "4     -0.187027\n",
       "         ...   \n",
       "145   -0.194782\n",
       "146   -0.191415\n",
       "147   -0.189422\n",
       "148   -0.191322\n",
       "149   -0.193712\n",
       "Name: Result, Length: 150, dtype: float32"
      ]
     },
     "execution_count": 296,
     "metadata": {},
     "output_type": "execute_result"
    }
   ],
   "source": [
    "df['Result'] = df['Positive'] - df['Negative']\n",
    "df['Result']"
   ]
  },
  {
   "cell_type": "code",
   "execution_count": 297,
   "id": "85efafcf",
   "metadata": {
    "collapsed": true
   },
   "outputs": [
    {
     "data": {
      "image/png": "[encoded data removed]",
      "text/plain": [
       "<Figure size 432x288 with 1 Axes>"
      ]
     },
     "metadata": {
      "needs_background": "light"
     },
     "output_type": "display_data"
    }
   ],
   "source": [
    "plt.hist(df['Result']); # Check feature distribution"
   ]
  },
  {
   "cell_type": "code",
   "execution_count": 305,
   "id": "62d5bcdb",
   "metadata": {},
   "outputs": [],
   "source": [
    "#scaler = MinMaxScaler(feature_range=(-1, 1)) # Instanciate StandarScaler\n",
    "#scaler.fit(df[['Result']]) # Fit scaler to data\n",
    "#df['Scaled_Result'] = scaler.transform(df[['Result']]) # Use scaler to transform data"
   ]
  },
  {
   "cell_type": "code",
   "execution_count": 304,
   "id": "bcda0828",
   "metadata": {},
   "outputs": [],
   "source": [
    "#plt.hist(scaled_df['Negative']) # Check feature distribution\n",
    "#plt.hist(df['Scaled_Result']); # Check feature distribution"
   ]
  },
  {
   "cell_type": "code",
   "execution_count": null,
   "id": "b96cab1d",
   "metadata": {},
   "outputs": [],
   "source": []
  }
 ],
 "metadata": {
  "kernelspec": {
   "display_name": "Python 3",
   "language": "python",
   "name": "python3"
  },
  "language_info": {
   "codemirror_mode": {
    "name": "ipython",
    "version": 3
   },
   "file_extension": ".py",
   "mimetype": "text/x-python",
   "name": "python",
   "nbconvert_exporter": "python",
   "pygments_lexer": "ipython3",
   "version": "3.8.6"
  },
  "toc": {
   "base_numbering": 1,
   "nav_menu": {},
   "number_sections": true,
   "sideBar": true,
   "skip_h1_title": false,
   "title_cell": "Table of Contents",
   "title_sidebar": "Contents",
   "toc_cell": false,
   "toc_position": {},
   "toc_section_display": true,
   "toc_window_display": true
  }
 },
 "nbformat": 4,
 "nbformat_minor": 5
}
