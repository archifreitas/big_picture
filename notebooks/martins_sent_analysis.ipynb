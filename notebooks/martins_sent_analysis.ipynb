{
 "cells": [
  {
   "cell_type": "markdown",
   "id": "8477e150",
   "metadata": {},
   "source": [
    "## Sentiment Analysis Model"
   ]
  },
  {
   "cell_type": "markdown",
   "id": "e3f1a6fe",
   "metadata": {},
   "source": [
    "### Requirements"
   ]
  },
  {
   "cell_type": "code",
   "execution_count": 229,
   "id": "c60dddf1",
   "metadata": {
    "collapsed": true
   },
   "outputs": [
    {
     "name": "stdout",
     "output_type": "stream",
     "text": [
      "Looking in indexes: https://pypi.org/simple, https://pypi.ngc.nvidia.com\n",
      "Collecting matplotlib\n",
      "  Downloading matplotlib-3.4.2-cp38-cp38-manylinux1_x86_64.whl (10.3 MB)\n",
      "\u001b[K     |████████████████████████████████| 10.3 MB 3.0 MB/s eta 0:00:01\n",
      "\u001b[?25hRequirement already satisfied: python-dateutil>=2.7 in /home/jb/.pyenv/versions/3.8.6/envs/big_picture/lib/python3.8/site-packages (from matplotlib) (2.8.1)\n",
      "Collecting kiwisolver>=1.0.1\n",
      "  Downloading kiwisolver-1.3.1-cp38-cp38-manylinux1_x86_64.whl (1.2 MB)\n",
      "\u001b[K     |████████████████████████████████| 1.2 MB 4.1 MB/s eta 0:00:01\n",
      "\u001b[?25hRequirement already satisfied: numpy>=1.16 in /home/jb/.pyenv/versions/3.8.6/envs/big_picture/lib/python3.8/site-packages (from matplotlib) (1.19.5)\n",
      "Collecting pillow>=6.2.0\n",
      "  Downloading Pillow-8.2.0-cp38-cp38-manylinux1_x86_64.whl (3.0 MB)\n",
      "\u001b[K     |████████████████████████████████| 3.0 MB 3.4 MB/s eta 0:00:01\n",
      "\u001b[?25hRequirement already satisfied: pyparsing>=2.2.1 in /home/jb/.pyenv/versions/3.8.6/envs/big_picture/lib/python3.8/site-packages (from matplotlib) (2.4.7)\n",
      "Collecting cycler>=0.10\n",
      "  Downloading cycler-0.10.0-py2.py3-none-any.whl (6.5 kB)\n",
      "Requirement already satisfied: six in /home/jb/.pyenv/versions/3.8.6/envs/big_picture/lib/python3.8/site-packages (from cycler>=0.10->matplotlib) (1.15.0)\n",
      "Installing collected packages: pillow, kiwisolver, cycler, matplotlib\n",
      "Successfully installed cycler-0.10.0 kiwisolver-1.3.1 matplotlib-3.4.2 pillow-8.2.0\n"
     ]
    }
   ],
   "source": [
    "# !pip install tensorflow\n",
    "# !pip install ipywidgets\n",
    "# !pip install nltk\n",
    "# !pip install transformers\n",
    "# Link for automodels from tensorflow https://huggingface.co/transformers/v3.0.2/model_doc/auto.html\n",
    "# !pip install matplotlib\n",
    "# !pip install -U jupyter"
   ]
  },
  {
   "cell_type": "markdown",
   "id": "15b00d83",
   "metadata": {},
   "source": [
    "### Imports"
   ]
  },
  {
   "cell_type": "code",
   "execution_count": 368,
   "id": "c0ee8da7",
   "metadata": {
    "scrolled": true
   },
   "outputs": [],
   "source": [
    "from transformers import BertTokenizerFast, TFBertForSequenceClassification\n",
    "from tensorflow.nn import softmax\n",
    "from tensorflow.keras import Sequential, layers\n",
    "import pandas as pd\n",
    "import glob\n",
    "from big_picture.get_merged_data import get_data\n",
    "from big_picture import pre_processor\n",
    "import numpy as np\n",
    "from sklearn.preprocessing import MinMaxScaler"
   ]
  },
  {
   "cell_type": "markdown",
   "id": "bfe2e1d3",
   "metadata": {},
   "source": [
    "### Model and base example"
   ]
  },
  {
   "cell_type": "code",
   "execution_count": 351,
   "id": "2f209c59",
   "metadata": {
    "collapsed": true
   },
   "outputs": [
    {
     "name": "stderr",
     "output_type": "stream",
     "text": [
      "You are using a model of type distilbert to instantiate a model of type bert. This is not supported for all configurations of models and can yield errors.\n",
      "Some layers from the model checkpoint at distilbert-base-uncased-finetuned-sst-2-english were not used when initializing TFBertForSequenceClassification: ['pre_classifier', 'dropout_19', 'distilbert']\n",
      "- This IS expected if you are initializing TFBertForSequenceClassification from the checkpoint of a model trained on another task or with another architecture (e.g. initializing a BertForSequenceClassification model from a BertForPreTraining model).\n",
      "- This IS NOT expected if you are initializing TFBertForSequenceClassification from the checkpoint of a model that you expect to be exactly identical (initializing a BertForSequenceClassification model from a BertForSequenceClassification model).\n",
      "Some layers of TFBertForSequenceClassification were not initialized from the model checkpoint at distilbert-base-uncased-finetuned-sst-2-english and are newly initialized: ['bert']\n",
      "You should probably TRAIN this model on a down-stream task to be able to use it for predictions and inference.\n"
     ]
    }
   ],
   "source": [
    "tokenizer = BertTokenizerFast.from_pretrained(\"distilbert-base-uncased-finetuned-sst-2-english\")\n",
    "model = TFBertForSequenceClassification.from_pretrained(\"distilbert-base-uncased-finetuned-sst-2-english\")"
   ]
  },
  {
   "cell_type": "code",
   "execution_count": 352,
   "id": "07a3aec5",
   "metadata": {},
   "outputs": [
    {
     "data": {
      "text/plain": [
       "{'input_ids': <tf.Tensor: shape=(1, 11), dtype=int32, numpy=\n",
       "array([[ 101, 5672, 2033, 2011, 2151, 3793, 2017, 1005, 1040, 2066,  102]],\n",
       "      dtype=int32)>, 'token_type_ids': <tf.Tensor: shape=(1, 11), dtype=int32, numpy=array([[0, 0, 0, 0, 0, 0, 0, 0, 0, 0, 0]], dtype=int32)>, 'attention_mask': <tf.Tensor: shape=(1, 11), dtype=int32, numpy=array([[1, 1, 1, 1, 1, 1, 1, 1, 1, 1, 1]], dtype=int32)>}"
      ]
     },
     "execution_count": 352,
     "metadata": {},
     "output_type": "execute_result"
    }
   ],
   "source": [
    "text = \"Replace me by any text you'd like\"\n",
    "encoded_input = tokenizer(text, return_tensors='tf', max_length=500, padding=True, truncation=True)\n",
    "encoded_input"
   ]
  },
  {
   "cell_type": "code",
   "execution_count": 361,
   "id": "04657bd8",
   "metadata": {},
   "outputs": [
    {
     "data": {
      "text/plain": [
       "TFSequenceClassifierOutput(loss=None, logits=<tf.Tensor: shape=(1, 2), dtype=float32, numpy=array([[-0.45756233,  0.66898453]], dtype=float32)>, hidden_states=None, attentions=None)"
      ]
     },
     "execution_count": 361,
     "metadata": {},
     "output_type": "execute_result"
    }
   ],
   "source": [
    "output1 = model(encoded_input)\n",
    "output1"
   ]
  },
  {
   "cell_type": "code",
   "execution_count": 362,
   "id": "a3510b2a",
   "metadata": {
    "scrolled": true
   },
   "outputs": [
    {
     "data": {
      "text/plain": [
       "<tf.Tensor: shape=(1, 2), dtype=float32, numpy=array([[0.24479891, 0.75520104]], dtype=float32)>"
      ]
     },
     "execution_count": 362,
     "metadata": {},
     "output_type": "execute_result"
    }
   ],
   "source": [
    "softmax(output1.logits)"
   ]
  },
  {
   "cell_type": "markdown",
   "id": "2e80f6ea",
   "metadata": {},
   "source": [
    "### Basic modelling of 150 rows from our data"
   ]
  },
  {
   "cell_type": "code",
   "execution_count": 383,
   "id": "7cfcfbdf",
   "metadata": {},
   "outputs": [],
   "source": [
    "REL_PATH_INPUT = \"../raw_data/data_12k/\"\n",
    "CONTENT_COL = \"content\"\n",
    "DESCRIPTION_COL = \"short_description\"\n",
    "HEADLINE_COL = \"headline\"\n",
    "\n",
    "NEWS_ALL_DATA = \"news_all_data\"\n",
    "\n",
    "df =  get_data(REL_PATH_INPUT)\n",
    "df = df.sample(15)\n",
    "df[CONTENT_COL] = df[CONTENT_COL].replace('\\n',' ', regex=True)\n",
    "\n",
    "df[news_all_data] = df[CONTENT_COL] + \" \" + df[DESCRIPTION_COL] + \" \" + df[HEADLINE_COL]\n",
    "df = df.dropna(subset=[news_all_data]).reset_index()\n",
    "df = df[df[news_all_data] != \"Invalid file\"].reset_index(drop=True)"
   ]
  },
  {
   "cell_type": "code",
   "execution_count": 384,
   "id": "5d51f4b7",
   "metadata": {},
   "outputs": [],
   "source": [
    "texts2 = list(df[NEWS_ALL_DATA])"
   ]
  },
  {
   "cell_type": "code",
   "execution_count": 365,
   "id": "6a0fd106",
   "metadata": {},
   "outputs": [],
   "source": [
    "encoded_input = tokenizer(texts, \n",
    "                          return_tensors='tf',\n",
    "                          padding=True,\n",
    "                          max_length=500,\n",
    "                          truncation=True)\n",
    "#encoded_input['input_ids']"
   ]
  },
  {
   "cell_type": "code",
   "execution_count": 366,
   "id": "0ca1bbf7",
   "metadata": {},
   "outputs": [],
   "source": [
    "output = model(encoded_input)"
   ]
  },
  {
   "cell_type": "code",
   "execution_count": 367,
   "id": "41117e23",
   "metadata": {
    "collapsed": true
   },
   "outputs": [
    {
     "data": {
      "text/plain": [
       "<tf.Tensor: shape=(150, 2), dtype=float32, numpy=\n",
       "array([[0.23661183, 0.7633882 ],\n",
       "       [0.28365955, 0.7163405 ],\n",
       "       [0.23377003, 0.76623   ],\n",
       "       [0.26159132, 0.7384086 ],\n",
       "       [0.26350266, 0.7364974 ],\n",
       "       [0.24486628, 0.7551337 ],\n",
       "       [0.22863743, 0.77136254],\n",
       "       [0.23555854, 0.76444143],\n",
       "       [0.22856376, 0.7714362 ],\n",
       "       [0.25988525, 0.74011475],\n",
       "       [0.2367774 , 0.76322263],\n",
       "       [0.2276648 , 0.77233523],\n",
       "       [0.22217791, 0.7778221 ],\n",
       "       [0.2524659 , 0.7475341 ],\n",
       "       [0.20834151, 0.79165846],\n",
       "       [0.23108649, 0.7689135 ],\n",
       "       [0.23970367, 0.76029634],\n",
       "       [0.22350265, 0.77649736],\n",
       "       [0.2733278 , 0.72667223],\n",
       "       [0.25113177, 0.74886817],\n",
       "       [0.2264102 , 0.7735898 ],\n",
       "       [0.24173339, 0.7582666 ],\n",
       "       [0.23222469, 0.7677753 ],\n",
       "       [0.24878559, 0.75121444],\n",
       "       [0.21810828, 0.7818917 ],\n",
       "       [0.24276899, 0.757231  ],\n",
       "       [0.2732543 , 0.72674567],\n",
       "       [0.22877453, 0.7712254 ],\n",
       "       [0.22763379, 0.7723662 ],\n",
       "       [0.2192277 , 0.78077227],\n",
       "       [0.24944545, 0.7505546 ],\n",
       "       [0.2655777 , 0.73442227],\n",
       "       [0.23876332, 0.76123667],\n",
       "       [0.22793595, 0.77206403],\n",
       "       [0.22629318, 0.7737068 ],\n",
       "       [0.2579894 , 0.7420106 ],\n",
       "       [0.23903663, 0.7609633 ],\n",
       "       [0.24905924, 0.7509408 ],\n",
       "       [0.23584586, 0.7641542 ],\n",
       "       [0.24835843, 0.7516415 ],\n",
       "       [0.24668984, 0.75331014],\n",
       "       [0.24952741, 0.7504726 ],\n",
       "       [0.26591855, 0.7340814 ],\n",
       "       [0.27882925, 0.7211708 ],\n",
       "       [0.23207255, 0.76792747],\n",
       "       [0.24137048, 0.7586295 ],\n",
       "       [0.24810521, 0.7518948 ],\n",
       "       [0.25539815, 0.7446018 ],\n",
       "       [0.21750318, 0.78249675],\n",
       "       [0.26024163, 0.7397583 ],\n",
       "       [0.2199007 , 0.7800993 ],\n",
       "       [0.20947127, 0.7905287 ],\n",
       "       [0.22986525, 0.77013475],\n",
       "       [0.21550126, 0.78449875],\n",
       "       [0.21442054, 0.7855795 ],\n",
       "       [0.22024895, 0.77975106],\n",
       "       [0.23787715, 0.7621228 ],\n",
       "       [0.24934795, 0.7506521 ],\n",
       "       [0.24148442, 0.7585156 ],\n",
       "       [0.2586472 , 0.7413528 ],\n",
       "       [0.23647644, 0.76352364],\n",
       "       [0.23220621, 0.76779383],\n",
       "       [0.24489248, 0.7551075 ],\n",
       "       [0.24727885, 0.7527212 ],\n",
       "       [0.26338884, 0.7366112 ],\n",
       "       [0.23887944, 0.76112056],\n",
       "       [0.19806674, 0.8019332 ],\n",
       "       [0.23158197, 0.7684181 ],\n",
       "       [0.25050858, 0.74949145],\n",
       "       [0.22474329, 0.7752567 ],\n",
       "       [0.2655094 , 0.7344906 ],\n",
       "       [0.29487753, 0.7051225 ],\n",
       "       [0.25170493, 0.748295  ],\n",
       "       [0.25802416, 0.74197584],\n",
       "       [0.25589773, 0.7441023 ],\n",
       "       [0.24324395, 0.75675607],\n",
       "       [0.23294783, 0.7670521 ],\n",
       "       [0.19997951, 0.80002046],\n",
       "       [0.24392302, 0.75607693],\n",
       "       [0.24727035, 0.75272965],\n",
       "       [0.2230096 , 0.7769905 ],\n",
       "       [0.24594834, 0.7540517 ],\n",
       "       [0.2540373 , 0.7459627 ],\n",
       "       [0.2399626 , 0.7600374 ],\n",
       "       [0.23404166, 0.76595837],\n",
       "       [0.23099607, 0.7690039 ],\n",
       "       [0.24504147, 0.7549585 ],\n",
       "       [0.22992659, 0.7700735 ],\n",
       "       [0.23072308, 0.7692769 ],\n",
       "       [0.23808569, 0.7619143 ],\n",
       "       [0.24098372, 0.75901634],\n",
       "       [0.23159267, 0.76840734],\n",
       "       [0.26188162, 0.7381184 ],\n",
       "       [0.2191407 , 0.78085935],\n",
       "       [0.2374454 , 0.7625546 ],\n",
       "       [0.22652905, 0.77347094],\n",
       "       [0.24764153, 0.75235844],\n",
       "       [0.23758528, 0.7624147 ],\n",
       "       [0.24312848, 0.7568716 ],\n",
       "       [0.22250305, 0.77749693],\n",
       "       [0.26393905, 0.7360609 ],\n",
       "       [0.20350148, 0.79649854],\n",
       "       [0.26301208, 0.7369879 ],\n",
       "       [0.22950481, 0.77049524],\n",
       "       [0.27001378, 0.7299862 ],\n",
       "       [0.24458148, 0.7554185 ],\n",
       "       [0.21292512, 0.78707486],\n",
       "       [0.21770656, 0.7822935 ],\n",
       "       [0.27193326, 0.7280668 ],\n",
       "       [0.2592536 , 0.74074644],\n",
       "       [0.27684262, 0.72315735],\n",
       "       [0.19917299, 0.80082697],\n",
       "       [0.24008392, 0.75991607],\n",
       "       [0.23432763, 0.7656724 ],\n",
       "       [0.25214574, 0.7478543 ],\n",
       "       [0.2584824 , 0.7415176 ],\n",
       "       [0.23694648, 0.76305354],\n",
       "       [0.2509837 , 0.7490163 ],\n",
       "       [0.23124973, 0.7687503 ],\n",
       "       [0.22433524, 0.77566475],\n",
       "       [0.26688164, 0.73311836],\n",
       "       [0.2398122 , 0.7601878 ],\n",
       "       [0.22910152, 0.77089846],\n",
       "       [0.22878423, 0.7712158 ],\n",
       "       [0.23510213, 0.7648979 ],\n",
       "       [0.25435826, 0.7456417 ],\n",
       "       [0.2292009 , 0.7707991 ],\n",
       "       [0.24843219, 0.75156784],\n",
       "       [0.24876943, 0.7512306 ],\n",
       "       [0.24023435, 0.7597656 ],\n",
       "       [0.23101747, 0.7689825 ],\n",
       "       [0.23893031, 0.76106966],\n",
       "       [0.22857364, 0.7714263 ],\n",
       "       [0.2399097 , 0.76009035],\n",
       "       [0.2505014 , 0.7494986 ],\n",
       "       [0.2345768 , 0.7654232 ],\n",
       "       [0.225765  , 0.77423495],\n",
       "       [0.24391212, 0.75608784],\n",
       "       [0.2561742 , 0.7438258 ],\n",
       "       [0.26378375, 0.7362162 ],\n",
       "       [0.23645331, 0.7635467 ],\n",
       "       [0.23585112, 0.7641489 ],\n",
       "       [0.2422136 , 0.75778645],\n",
       "       [0.22697912, 0.7730209 ],\n",
       "       [0.24007407, 0.7599259 ],\n",
       "       [0.22828451, 0.7717155 ],\n",
       "       [0.24730493, 0.7526951 ],\n",
       "       [0.24044655, 0.7595534 ],\n",
       "       [0.2654868 , 0.7345132 ],\n",
       "       [0.22519068, 0.7748093 ]], dtype=float32)>"
      ]
     },
     "execution_count": 367,
     "metadata": {},
     "output_type": "execute_result"
    }
   ],
   "source": [
    "softmax(output.logits)"
   ]
  },
  {
   "cell_type": "code",
   "execution_count": 369,
   "id": "e1d5b1ff",
   "metadata": {},
   "outputs": [],
   "source": [
    "my_array = softmax(output.logits).numpy()\n",
    "df = pd.DataFrame(my_array, columns = ['Negative','Positive'])"
   ]
  },
  {
   "cell_type": "code",
   "execution_count": 370,
   "id": "3cc3a5b2",
   "metadata": {
    "collapsed": true
   },
   "outputs": [
    {
     "data": {
      "text/html": [
       "<div>\n",
       "<style scoped>\n",
       "    .dataframe tbody tr th:only-of-type {\n",
       "        vertical-align: middle;\n",
       "    }\n",
       "\n",
       "    .dataframe tbody tr th {\n",
       "        vertical-align: top;\n",
       "    }\n",
       "\n",
       "    .dataframe thead th {\n",
       "        text-align: right;\n",
       "    }\n",
       "</style>\n",
       "<table border=\"1\" class=\"dataframe\">\n",
       "  <thead>\n",
       "    <tr style=\"text-align: right;\">\n",
       "      <th></th>\n",
       "      <th>Negative</th>\n",
       "      <th>Positive</th>\n",
       "    </tr>\n",
       "  </thead>\n",
       "  <tbody>\n",
       "    <tr>\n",
       "      <th>0</th>\n",
       "      <td>0.236612</td>\n",
       "      <td>0.763388</td>\n",
       "    </tr>\n",
       "    <tr>\n",
       "      <th>1</th>\n",
       "      <td>0.283660</td>\n",
       "      <td>0.716340</td>\n",
       "    </tr>\n",
       "    <tr>\n",
       "      <th>2</th>\n",
       "      <td>0.233770</td>\n",
       "      <td>0.766230</td>\n",
       "    </tr>\n",
       "    <tr>\n",
       "      <th>3</th>\n",
       "      <td>0.261591</td>\n",
       "      <td>0.738409</td>\n",
       "    </tr>\n",
       "    <tr>\n",
       "      <th>4</th>\n",
       "      <td>0.263503</td>\n",
       "      <td>0.736497</td>\n",
       "    </tr>\n",
       "    <tr>\n",
       "      <th>...</th>\n",
       "      <td>...</td>\n",
       "      <td>...</td>\n",
       "    </tr>\n",
       "    <tr>\n",
       "      <th>145</th>\n",
       "      <td>0.228285</td>\n",
       "      <td>0.771716</td>\n",
       "    </tr>\n",
       "    <tr>\n",
       "      <th>146</th>\n",
       "      <td>0.247305</td>\n",
       "      <td>0.752695</td>\n",
       "    </tr>\n",
       "    <tr>\n",
       "      <th>147</th>\n",
       "      <td>0.240447</td>\n",
       "      <td>0.759553</td>\n",
       "    </tr>\n",
       "    <tr>\n",
       "      <th>148</th>\n",
       "      <td>0.265487</td>\n",
       "      <td>0.734513</td>\n",
       "    </tr>\n",
       "    <tr>\n",
       "      <th>149</th>\n",
       "      <td>0.225191</td>\n",
       "      <td>0.774809</td>\n",
       "    </tr>\n",
       "  </tbody>\n",
       "</table>\n",
       "<p>150 rows × 2 columns</p>\n",
       "</div>"
      ],
      "text/plain": [
       "     Negative  Positive\n",
       "0    0.236612  0.763388\n",
       "1    0.283660  0.716340\n",
       "2    0.233770  0.766230\n",
       "3    0.261591  0.738409\n",
       "4    0.263503  0.736497\n",
       "..        ...       ...\n",
       "145  0.228285  0.771716\n",
       "146  0.247305  0.752695\n",
       "147  0.240447  0.759553\n",
       "148  0.265487  0.734513\n",
       "149  0.225191  0.774809\n",
       "\n",
       "[150 rows x 2 columns]"
      ]
     },
     "execution_count": 370,
     "metadata": {},
     "output_type": "execute_result"
    }
   ],
   "source": [
    "df"
   ]
  },
  {
   "cell_type": "code",
   "execution_count": 320,
   "id": "02ed5143",
   "metadata": {
    "scrolled": true
   },
   "outputs": [
    {
     "name": "stdout",
     "output_type": "stream",
     "text": [
      "0.5823297\n",
      "0.41767037\n"
     ]
    }
   ],
   "source": [
    "print(df['Negative'].mean())\n",
    "print(df['Positive'].mean())"
   ]
  },
  {
   "cell_type": "code",
   "execution_count": 294,
   "id": "05204c43",
   "metadata": {},
   "outputs": [],
   "source": [
    "import matplotlib.pyplot as plt\n",
    "#plt.hist(df['Negative']) # Check feature distribution\n",
    "#plt.hist(df['Positive']) # Check feature distribution"
   ]
  },
  {
   "cell_type": "code",
   "execution_count": 296,
   "id": "20196720",
   "metadata": {
    "collapsed": true
   },
   "outputs": [
    {
     "data": {
      "text/plain": [
       "0     -0.189840\n",
       "1     -0.193959\n",
       "2     -0.184332\n",
       "3     -0.185883\n",
       "4     -0.187027\n",
       "         ...   \n",
       "145   -0.194782\n",
       "146   -0.191415\n",
       "147   -0.189422\n",
       "148   -0.191322\n",
       "149   -0.193712\n",
       "Name: Result, Length: 150, dtype: float32"
      ]
     },
     "execution_count": 296,
     "metadata": {},
     "output_type": "execute_result"
    }
   ],
   "source": [
    "df['Result'] = df['Positive'] - df['Negative']\n",
    "df['Result']"
   ]
  },
  {
   "cell_type": "code",
   "execution_count": 297,
   "id": "278297d0",
   "metadata": {
    "collapsed": true
   },
   "outputs": [
    {
     "data": {
      "image/png": "[encoded data removed]",
      "text/plain": [
       "<Figure size 432x288 with 1 Axes>"
      ]
     },
     "metadata": {
      "needs_background": "light"
     },
     "output_type": "display_data"
    }
   ],
   "source": [
    "plt.hist(df['Result']); # Check feature distribution"
   ]
  },
  {
   "cell_type": "code",
   "execution_count": 305,
   "id": "56aae894",
   "metadata": {},
   "outputs": [],
   "source": [
    "#scaler = MinMaxScaler(feature_range=(-1, 1)) # Instanciate StandarScaler\n",
    "#scaler.fit(df[['Result']]) # Fit scaler to data\n",
    "#df['Scaled_Result'] = scaler.transform(df[['Result']]) # Use scaler to transform data"
   ]
  },
  {
   "cell_type": "code",
   "execution_count": 304,
   "id": "7688a30f",
   "metadata": {},
   "outputs": [],
   "source": [
    "#plt.hist(scaled_df['Negative']) # Check feature distribution\n",
    "#plt.hist(df['Scaled_Result']); # Check feature distribution"
   ]
  },
  {
   "cell_type": "code",
   "execution_count": null,
   "id": "87cc5c22",
   "metadata": {},
   "outputs": [],
   "source": []
  }
 ],
 "metadata": {
  "kernelspec": {
   "display_name": "Python 3",
   "language": "python",
   "name": "python3"
  },
  "language_info": {
   "codemirror_mode": {
    "name": "ipython",
    "version": 3
   },
   "file_extension": ".py",
   "mimetype": "text/x-python",
   "name": "python",
   "nbconvert_exporter": "python",
   "pygments_lexer": "ipython3",
   "version": "3.8.6"
  },
  "toc": {
   "base_numbering": 1,
   "nav_menu": {},
   "number_sections": true,
   "sideBar": true,
   "skip_h1_title": false,
   "title_cell": "Table of Contents",
   "title_sidebar": "Contents",
   "toc_cell": false,
   "toc_position": {},
   "toc_section_display": true,
   "toc_window_display": true
  }
 },
 "nbformat": 4,
 "nbformat_minor": 5
}
