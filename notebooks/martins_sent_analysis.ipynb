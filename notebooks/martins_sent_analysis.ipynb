{
 "cells": [
  {
   "cell_type": "markdown",
   "id": "8477e150",
   "metadata": {},
   "source": [
    "## Sentiment Analysis Model"
   ]
  },
  {
   "cell_type": "markdown",
   "id": "e3f1a6fe",
   "metadata": {},
   "source": [
    "### Requirements"
   ]
  },
  {
   "cell_type": "code",
   "execution_count": 77,
   "id": "c60dddf1",
   "metadata": {},
   "outputs": [],
   "source": [
    "# !pip install transformers\n",
    "# !pip install tensorflow\n",
    "# !pip install -U jupyter\n",
    "# !pip install ipywidgets\n",
    "# Link for automodels from tensorflow https://huggingface.co/transformers/v3.0.2/model_doc/auto.html\n",
    "#!pip install nltk"
   ]
  },
  {
   "cell_type": "markdown",
   "id": "15b00d83",
   "metadata": {},
   "source": [
    "### Imports"
   ]
  },
  {
   "cell_type": "code",
   "execution_count": 79,
   "id": "c0ee8da7",
   "metadata": {
    "scrolled": true
   },
   "outputs": [],
   "source": [
    "from transformers import AutoTokenizer, TFAutoModelForSequenceClassification\n",
    "from tensorflow.nn import softmax\n",
    "from tensorflow.keras import Sequential, layers\n",
    "import pandas as pd\n",
    "import glob\n",
    "from big_picture.get_merged_data import get_data\n",
    "from big_picture import pre_processor\n",
    "import numpy as np"
   ]
  },
  {
   "cell_type": "markdown",
   "id": "bfe2e1d3",
   "metadata": {},
   "source": [
    "### Model and base example"
   ]
  },
  {
   "cell_type": "code",
   "execution_count": 80,
   "id": "2f209c59",
   "metadata": {},
   "outputs": [
    {
     "name": "stderr",
     "output_type": "stream",
     "text": [
      "Some layers from the model checkpoint at distilbert-base-uncased-finetuned-sst-2-english were not used when initializing TFDistilBertForSequenceClassification: ['dropout_19']\n",
      "- This IS expected if you are initializing TFDistilBertForSequenceClassification from the checkpoint of a model trained on another task or with another architecture (e.g. initializing a BertForSequenceClassification model from a BertForPreTraining model).\n",
      "- This IS NOT expected if you are initializing TFDistilBertForSequenceClassification from the checkpoint of a model that you expect to be exactly identical (initializing a BertForSequenceClassification model from a BertForSequenceClassification model).\n",
      "Some layers of TFDistilBertForSequenceClassification were not initialized from the model checkpoint at distilbert-base-uncased-finetuned-sst-2-english and are newly initialized: ['dropout_39']\n",
      "You should probably TRAIN this model on a down-stream task to be able to use it for predictions and inference.\n"
     ]
    }
   ],
   "source": [
    "tokenizer = AutoTokenizer.from_pretrained(\"distilbert-base-uncased-finetuned-sst-2-english\")\n",
    "model = TFAutoModelForSequenceClassification.from_pretrained(\"distilbert-base-uncased-finetuned-sst-2-english\")"
   ]
  },
  {
   "cell_type": "code",
   "execution_count": 81,
   "id": "07a3aec5",
   "metadata": {},
   "outputs": [
    {
     "data": {
      "text/plain": [
       "{'input_ids': <tf.Tensor: shape=(1, 11), dtype=int32, numpy=\n",
       "array([[ 101, 5672, 2033, 2011, 2151, 3793, 2017, 1005, 1040, 2066,  102]],\n",
       "      dtype=int32)>, 'attention_mask': <tf.Tensor: shape=(1, 11), dtype=int32, numpy=array([[1, 1, 1, 1, 1, 1, 1, 1, 1, 1, 1]], dtype=int32)>}"
      ]
     },
     "execution_count": 81,
     "metadata": {},
     "output_type": "execute_result"
    }
   ],
   "source": [
    "text = \"Replace me by any text you'd like\"\n",
    "encoded_input = tokenizer(text, return_tensors='tf')\n",
    "encoded_input"
   ]
  },
  {
   "cell_type": "code",
   "execution_count": 82,
   "id": "04657bd8",
   "metadata": {},
   "outputs": [
    {
     "data": {
      "text/plain": [
       "TFSequenceClassifierOutput(loss=None, logits=<tf.Tensor: shape=(1, 2), dtype=float32, numpy=array([[ 3.3290102, -2.7952664]], dtype=float32)>, hidden_states=None, attentions=None)"
      ]
     },
     "execution_count": 82,
     "metadata": {},
     "output_type": "execute_result"
    }
   ],
   "source": [
    "output = model(encoded_input)\n",
    "output"
   ]
  },
  {
   "cell_type": "code",
   "execution_count": 83,
   "id": "a3510b2a",
   "metadata": {
    "scrolled": true
   },
   "outputs": [
    {
     "data": {
      "text/plain": [
       "<tf.Tensor: shape=(1, 2), dtype=float32, numpy=array([[0.9978157 , 0.00218429]], dtype=float32)>"
      ]
     },
     "execution_count": 83,
     "metadata": {},
     "output_type": "execute_result"
    }
   ],
   "source": [
    "softmax(output.logits)"
   ]
  },
  {
   "cell_type": "markdown",
   "id": "2e80f6ea",
   "metadata": {},
   "source": [
    "### Basic modelling of our data"
   ]
  },
  {
   "cell_type": "code",
   "execution_count": 55,
   "id": "7cfcfbdf",
   "metadata": {},
   "outputs": [],
   "source": [
    "REL_PATH_INPUT = \"../raw_data/data_12k/\"\n",
    "CONTENT_COL = \"content\"\n",
    "DESCRIPTION_COL = \"short_description\"\n",
    "HEADLINE_COL = \"headline\"\n",
    "\n",
    "news_all_data = \"news_all_data\"\n",
    "\n",
    "df =  get_data(REL_PATH_INPUT)\n",
    "df = df.sample(150)\n",
    "df[CONTENT_COL] = df[CONTENT_COL].replace('\\n',' ', regex=True)\n",
    "\n",
    "df[news_all_data] = df[CONTENT_COL] + \" \" + df[DESCRIPTION_COL] + \" \" + df[HEADLINE_COL]\n",
    "df = df.dropna(subset=[news_all_data]).reset_index()\n",
    "df = df[df[news_all_data] != \"Invalid file\"].reset_index(drop=True)"
   ]
  },
  {
   "cell_type": "code",
   "execution_count": 56,
   "id": "5d51f4b7",
   "metadata": {},
   "outputs": [],
   "source": [
    "texts = list(df.news_all_data)"
   ]
  },
  {
   "cell_type": "code",
   "execution_count": 66,
   "id": "27163c98",
   "metadata": {},
   "outputs": [],
   "source": [
    "texts = \"Finland has banned the neo-Nazi Nordic Resistance Movement following a court ruling\""
   ]
  },
  {
   "cell_type": "code",
   "execution_count": 67,
   "id": "6a0fd106",
   "metadata": {},
   "outputs": [],
   "source": [
    "encoded_input = tokenizer(texts, return_tensors='tf',\n",
    "                padding=True)"
   ]
  },
  {
   "cell_type": "code",
   "execution_count": 68,
   "id": "8673597e",
   "metadata": {},
   "outputs": [],
   "source": [
    "encoded_input = encoded_input\n",
    "\n",
    "# When one text:\n",
    "#[Encoding(num_tokens=16, attributes=[ids, type_ids, tokens, offsets, attention_mask, special_tokens_mask, \n",
    "# overflowing])]"
   ]
  },
  {
   "cell_type": "code",
   "execution_count": 69,
   "id": "2d8d316b",
   "metadata": {},
   "outputs": [
    {
     "data": {
      "text/plain": [
       "{'input_ids': <tf.Tensor: shape=(1, 16), dtype=int32, numpy=\n",
       "array([[  101,  6435,  2038,  7917,  1996,  9253,  1011,  6394, 13649,\n",
       "         5012,  2929,  2206,  1037,  2457,  6996,   102]], dtype=int32)>, 'attention_mask': <tf.Tensor: shape=(1, 16), dtype=int32, numpy=array([[1, 1, 1, 1, 1, 1, 1, 1, 1, 1, 1, 1, 1, 1, 1, 1]], dtype=int32)>}"
      ]
     },
     "execution_count": 69,
     "metadata": {},
     "output_type": "execute_result"
    }
   ],
   "source": [
    "encoded_input"
   ]
  },
  {
   "cell_type": "code",
   "execution_count": 70,
   "id": "0ca1bbf7",
   "metadata": {},
   "outputs": [],
   "source": [
    "output = model(encoded_input)"
   ]
  },
  {
   "cell_type": "code",
   "execution_count": 71,
   "id": "e7810171",
   "metadata": {},
   "outputs": [
    {
     "data": {
      "text/plain": [
       "<tf.Tensor: shape=(1, 2), dtype=float32, numpy=array([[0.8897241 , 0.11027591]], dtype=float32)>"
      ]
     },
     "execution_count": 71,
     "metadata": {},
     "output_type": "execute_result"
    }
   ],
   "source": [
    "softmax(output.logits)"
   ]
  },
  {
   "cell_type": "code",
   "execution_count": null,
   "id": "a5fe73cc",
   "metadata": {},
   "outputs": [],
   "source": []
  }
 ],
 "metadata": {
  "kernelspec": {
   "display_name": "Python 3",
   "language": "python",
   "name": "python3"
  },
  "language_info": {
   "codemirror_mode": {
    "name": "ipython",
    "version": 3
   },
   "file_extension": ".py",
   "mimetype": "text/x-python",
   "name": "python",
   "nbconvert_exporter": "python",
   "pygments_lexer": "ipython3",
   "version": "3.8.6"
  },
  "toc": {
   "base_numbering": 1,
   "nav_menu": {},
   "number_sections": true,
   "sideBar": true,
   "skip_h1_title": false,
   "title_cell": "Table of Contents",
   "title_sidebar": "Contents",
   "toc_cell": false,
   "toc_position": {},
   "toc_section_display": true,
   "toc_window_display": true
  }
 },
 "nbformat": 4,
 "nbformat_minor": 5
}
