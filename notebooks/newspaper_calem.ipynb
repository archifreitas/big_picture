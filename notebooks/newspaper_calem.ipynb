{
 "cells": [
  {
   "cell_type": "code",
   "execution_count": 19,
   "id": "b89e58cb",
   "metadata": {},
   "outputs": [],
   "source": [
    "import newspaper"
   ]
  },
  {
   "cell_type": "code",
   "execution_count": 15,
   "id": "120f0624",
   "metadata": {},
   "outputs": [
    {
     "data": {
      "text/plain": [
       "'Police said he was \"best off handing himself into us\" as soon as possible, as he may be in danger himself, having unwittingly helped the FBI with their sting.'"
      ]
     },
     "execution_count": 15,
     "metadata": {},
     "output_type": "execute_result"
    }
   ],
   "source": [
    "url = 'https://www.bbc.com/news/world-57394831'\n",
    "article = newspaper.Article(url)\n",
    "article.download()\n",
    "article.parse()\n",
    "article.text"
   ]
  },
  {
   "cell_type": "code",
   "execution_count": 16,
   "id": "16366ef3",
   "metadata": {},
   "outputs": [
    {
     "data": {
      "text/plain": [
       "'Police said he was \"best off handing himself into us\" as soon as possible, as he may be in danger himself, having unwittingly helped the FBI with their sting.'"
      ]
     },
     "execution_count": 16,
     "metadata": {},
     "output_type": "execute_result"
    }
   ],
   "source": [
    "article.nlp()\n",
    "article.summary"
   ]
  },
  {
   "cell_type": "code",
   "execution_count": 17,
   "id": "5fa5569c",
   "metadata": {},
   "outputs": [
    {
     "data": {
      "text/plain": [
       "'Police said he was \"best off handing himself into us\" as soon as possible, as he may be in danger himself, having unwittingly helped the FBI with their sting.'"
      ]
     },
     "execution_count": 17,
     "metadata": {},
     "output_type": "execute_result"
    }
   ],
   "source": [
    "newspaper.fulltext(article.html)"
   ]
  },
  {
   "cell_type": "code",
   "execution_count": null,
   "id": "e100d118",
   "metadata": {},
   "outputs": [],
   "source": []
  }
 ],
 "metadata": {
  "kernelspec": {
   "display_name": "Python 3",
   "language": "python",
   "name": "python3"
  },
  "language_info": {
   "codemirror_mode": {
    "name": "ipython",
    "version": 3
   },
   "file_extension": ".py",
   "mimetype": "text/x-python",
   "name": "python",
   "nbconvert_exporter": "python",
   "pygments_lexer": "ipython3",
   "version": "3.8.6"
  },
  "toc": {
   "base_numbering": 1,
   "nav_menu": {},
   "number_sections": true,
   "sideBar": true,
   "skip_h1_title": false,
   "title_cell": "Table of Contents",
   "title_sidebar": "Contents",
   "toc_cell": false,
   "toc_position": {},
   "toc_section_display": true,
   "toc_window_display": false
  }
 },
 "nbformat": 4,
 "nbformat_minor": 5
}
