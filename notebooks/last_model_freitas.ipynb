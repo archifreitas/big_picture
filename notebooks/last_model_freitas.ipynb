{
 "cells": [
  {
   "cell_type": "code",
   "execution_count": 1,
   "id": "5446ea36",
   "metadata": {},
   "outputs": [],
   "source": [
    "import pandas as pd"
   ]
  },
  {
   "cell_type": "code",
   "execution_count": 2,
   "id": "72c90dfa",
   "metadata": {},
   "outputs": [
    {
     "ename": "SyntaxError",
     "evalue": "invalid syntax (label.py, line 109)",
     "output_type": "error",
     "traceback": [
      "Traceback \u001b[0;36m(most recent call last)\u001b[0m:\n",
      "  File \u001b[1;32m\"/Users/josefreitas/.pyenv/versions/3.8.6/envs/venv/lib/python3.8/site-packages/IPython/core/interactiveshell.py\"\u001b[0m, line \u001b[1;32m3441\u001b[0m, in \u001b[1;35mrun_code\u001b[0m\n    exec(code_obj, self.user_global_ns, self.user_ns)\n",
      "  File \u001b[1;32m\"<ipython-input-2-1475d3ee0bfe>\"\u001b[0m, line \u001b[1;32m1\u001b[0m, in \u001b[1;35m<module>\u001b[0m\n    from big_picture.classifier import Classifier\n",
      "\u001b[0;36m  File \u001b[0;32m\"/Users/josefreitas/code/archifreitas/big_picture/big_picture/classifier.py\"\u001b[0;36m, line \u001b[0;32m7\u001b[0;36m, in \u001b[0;35m<module>\u001b[0;36m\u001b[0m\n\u001b[0;31m    from big_picture.label import Label\u001b[0m\n",
      "\u001b[0;36m  File \u001b[0;32m\"/Users/josefreitas/code/archifreitas/big_picture/big_picture/label.py\"\u001b[0;36m, line \u001b[0;32m109\u001b[0m\n\u001b[0;31m    <<<<<<< HEAD\u001b[0m\n\u001b[0m    ^\u001b[0m\n\u001b[0;31mSyntaxError\u001b[0m\u001b[0;31m:\u001b[0m invalid syntax\n"
     ]
    }
   ],
   "source": [
    "from big_picture.classifier import Classifier"
   ]
  },
  {
   "cell_type": "code",
   "execution_count": null,
   "id": "d0a22983",
   "metadata": {},
   "outputs": [],
   "source": [
    "model = Classifier()"
   ]
  },
  {
   "cell_type": "code",
   "execution_count": null,
   "id": "e9b274ea",
   "metadata": {},
   "outputs": [],
   "source": [
    "# Embedded stringe\n",
    "embeddings = pd.read_csv('../big_picture/data/embeddings_200k.csv')"
   ]
  },
  {
   "cell_type": "code",
   "execution_count": null,
   "id": "6df335b6",
   "metadata": {},
   "outputs": [],
   "source": [
    "model.fit(embeddings, printed=True, pre_made=True)"
   ]
  },
  {
   "cell_type": "code",
   "execution_count": 6,
   "id": "83d3b2d3",
   "metadata": {},
   "outputs": [
    {
     "data": {
      "text/plain": [
       "<big_picture.classifier.Classifier at 0x1ae672e20>"
      ]
     },
     "execution_count": 6,
     "metadata": {},
     "output_type": "execute_result"
    }
   ],
   "source": [
    "model"
   ]
  },
  {
   "cell_type": "code",
   "execution_count": null,
   "id": "eb81e6cd",
   "metadata": {},
   "outputs": [],
   "source": []
  }
 ],
 "metadata": {
  "kernelspec": {
   "display_name": "Python 3",
   "language": "python",
   "name": "python3"
  },
  "language_info": {
   "codemirror_mode": {
    "name": "ipython",
    "version": 3
   },
   "file_extension": ".py",
   "mimetype": "text/x-python",
   "name": "python",
   "nbconvert_exporter": "python",
   "pygments_lexer": "ipython3",
   "version": "3.8.6"
  },
  "toc": {
   "base_numbering": 1,
   "nav_menu": {},
   "number_sections": true,
   "sideBar": true,
   "skip_h1_title": false,
   "title_cell": "Table of Contents",
   "title_sidebar": "Contents",
   "toc_cell": false,
   "toc_position": {},
   "toc_section_display": true,
   "toc_window_display": false
  }
 },
 "nbformat": 4,
 "nbformat_minor": 5
}
