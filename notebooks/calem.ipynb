{
 "cells": [
  {
   "cell_type": "code",
   "execution_count": 1,
   "id": "06852b0f",
   "metadata": {},
   "outputs": [],
   "source": [
    "import pandas as pd\n",
    "import matplotlib.pyplot as plt"
   ]
  },
  {
   "cell_type": "markdown",
   "id": "362adb93",
   "metadata": {},
   "source": [
    "# Data"
   ]
  },
  {
   "cell_type": "code",
   "execution_count": 2,
   "id": "21866ac2",
   "metadata": {
    "scrolled": false
   },
   "outputs": [
    {
     "name": "stdout",
     "output_type": "stream",
     "text": [
      "<class 'pandas.core.frame.DataFrame'>\n",
      "Int64Index: 500 entries, 23585 to 12425\n",
      "Data columns (total 10 columns):\n",
      " #   Column       Non-Null Count  Dtype  \n",
      "---  ------       --------------  -----  \n",
      " 0   Unnamed: 0   500 non-null    int64  \n",
      " 1   id           500 non-null    int64  \n",
      " 2   title        500 non-null    object \n",
      " 3   publication  500 non-null    object \n",
      " 4   author       433 non-null    object \n",
      " 5   date         500 non-null    object \n",
      " 6   year         500 non-null    float64\n",
      " 7   month        500 non-null    float64\n",
      " 8   url          0 non-null      float64\n",
      " 9   content      500 non-null    object \n",
      "dtypes: float64(3), int64(2), object(5)\n",
      "memory usage: 43.0+ KB\n"
     ]
    }
   ],
   "source": [
    "raw_data = pd.read_csv(\"../raw_data/articles1.csv\").sample(frac = 0.01)\n",
    "raw_data.info()"
   ]
  },
  {
   "cell_type": "code",
   "execution_count": 3,
   "id": "fb10bf15",
   "metadata": {},
   "outputs": [
    {
     "data": {
      "text/html": [
       "<div>\n",
       "<style scoped>\n",
       "    .dataframe tbody tr th:only-of-type {\n",
       "        vertical-align: middle;\n",
       "    }\n",
       "\n",
       "    .dataframe tbody tr th {\n",
       "        vertical-align: top;\n",
       "    }\n",
       "\n",
       "    .dataframe thead th {\n",
       "        text-align: right;\n",
       "    }\n",
       "</style>\n",
       "<table border=\"1\" class=\"dataframe\">\n",
       "  <thead>\n",
       "    <tr style=\"text-align: right;\">\n",
       "      <th></th>\n",
       "      <th>topic</th>\n",
       "      <th>Size</th>\n",
       "    </tr>\n",
       "  </thead>\n",
       "  <tbody>\n",
       "    <tr>\n",
       "      <th>4</th>\n",
       "      <td>4</td>\n",
       "      <td>106</td>\n",
       "    </tr>\n",
       "    <tr>\n",
       "      <th>6</th>\n",
       "      <td>6</td>\n",
       "      <td>81</td>\n",
       "    </tr>\n",
       "    <tr>\n",
       "      <th>1</th>\n",
       "      <td>1</td>\n",
       "      <td>54</td>\n",
       "    </tr>\n",
       "    <tr>\n",
       "      <th>19</th>\n",
       "      <td>19</td>\n",
       "      <td>45</td>\n",
       "    </tr>\n",
       "    <tr>\n",
       "      <th>2</th>\n",
       "      <td>2</td>\n",
       "      <td>40</td>\n",
       "    </tr>\n",
       "    <tr>\n",
       "      <th>5</th>\n",
       "      <td>5</td>\n",
       "      <td>32</td>\n",
       "    </tr>\n",
       "    <tr>\n",
       "      <th>7</th>\n",
       "      <td>7</td>\n",
       "      <td>31</td>\n",
       "    </tr>\n",
       "    <tr>\n",
       "      <th>8</th>\n",
       "      <td>8</td>\n",
       "      <td>24</td>\n",
       "    </tr>\n",
       "    <tr>\n",
       "      <th>3</th>\n",
       "      <td>3</td>\n",
       "      <td>22</td>\n",
       "    </tr>\n",
       "    <tr>\n",
       "      <th>12</th>\n",
       "      <td>12</td>\n",
       "      <td>15</td>\n",
       "    </tr>\n",
       "    <tr>\n",
       "      <th>17</th>\n",
       "      <td>17</td>\n",
       "      <td>11</td>\n",
       "    </tr>\n",
       "    <tr>\n",
       "      <th>11</th>\n",
       "      <td>11</td>\n",
       "      <td>11</td>\n",
       "    </tr>\n",
       "    <tr>\n",
       "      <th>13</th>\n",
       "      <td>13</td>\n",
       "      <td>9</td>\n",
       "    </tr>\n",
       "    <tr>\n",
       "      <th>18</th>\n",
       "      <td>18</td>\n",
       "      <td>5</td>\n",
       "    </tr>\n",
       "    <tr>\n",
       "      <th>14</th>\n",
       "      <td>14</td>\n",
       "      <td>4</td>\n",
       "    </tr>\n",
       "    <tr>\n",
       "      <th>15</th>\n",
       "      <td>15</td>\n",
       "      <td>3</td>\n",
       "    </tr>\n",
       "    <tr>\n",
       "      <th>0</th>\n",
       "      <td>0</td>\n",
       "      <td>2</td>\n",
       "    </tr>\n",
       "    <tr>\n",
       "      <th>16</th>\n",
       "      <td>16</td>\n",
       "      <td>2</td>\n",
       "    </tr>\n",
       "    <tr>\n",
       "      <th>10</th>\n",
       "      <td>10</td>\n",
       "      <td>2</td>\n",
       "    </tr>\n",
       "    <tr>\n",
       "      <th>9</th>\n",
       "      <td>9</td>\n",
       "      <td>1</td>\n",
       "    </tr>\n",
       "  </tbody>\n",
       "</table>\n",
       "</div>"
      ],
      "text/plain": [
       "    topic  Size\n",
       "4       4   106\n",
       "6       6    81\n",
       "1       1    54\n",
       "19     19    45\n",
       "2       2    40\n",
       "5       5    32\n",
       "7       7    31\n",
       "8       8    24\n",
       "3       3    22\n",
       "12     12    15\n",
       "17     17    11\n",
       "11     11    11\n",
       "13     13     9\n",
       "18     18     5\n",
       "14     14     4\n",
       "15     15     3\n",
       "0       0     2\n",
       "16     16     2\n",
       "10     10     2\n",
       "9       9     1"
      ]
     },
     "execution_count": 3,
     "metadata": {},
     "output_type": "execute_result"
    }
   ],
   "source": [
    "from big_picture.clusters import *\n",
    "\n",
    "vectors = tf_idf(raw_data.content)\n",
    "clusters,sizes = kmeans(raw_data,'content',vectors,clusters=20, return_cluster_sizes=True)\n",
    "sizes"
   ]
  },
  {
   "cell_type": "code",
   "execution_count": 1,
   "id": "63369bd8",
   "metadata": {},
   "outputs": [],
   "source": [
    "from big_picture.clusters import *"
   ]
  },
  {
   "cell_type": "code",
   "execution_count": 3,
   "id": "4f335c6b",
   "metadata": {},
   "outputs": [],
   "source": [
    "vectors = tf_idf(raw_data.content)\n",
    "clusters = hdbscan(raw_data,'content',vectors,min_cluster_size=3)"
   ]
  },
  {
   "cell_type": "code",
   "execution_count": 5,
   "id": "8fa7e079",
   "metadata": {},
   "outputs": [
    {
     "data": {
      "text/plain": [
       "['hiv',\n",
       " 'couples',\n",
       " 'relationships',\n",
       " 'manage',\n",
       " 'relationship',\n",
       " 'protective',\n",
       " 'men',\n",
       " 'messaging',\n",
       " 'partner',\n",
       " 'sex']"
      ]
     },
     "execution_count": 5,
     "metadata": {},
     "output_type": "execute_result"
    }
   ],
   "source": [
    "clusters[0].topic"
   ]
  },
  {
   "cell_type": "code",
   "execution_count": 8,
   "id": "9f274adb",
   "metadata": {},
   "outputs": [
    {
     "data": {
      "text/plain": [
       "1611     A freight train slammed into a charter bus ful...\n",
       "32319     (CNN) White House press secretary Sean Spicer...\n",
       "1987     WASHINGTON  —   Senate Democrats on Thursday v...\n",
       "22111    Super Saturday was a disaster for Marco Rubio ...\n",
       "34837    Riyadh, Saudi Arabia (CNN) With his address in...\n",
       "Name: content, dtype: object"
      ]
     },
     "execution_count": 8,
     "metadata": {},
     "output_type": "execute_result"
    }
   ],
   "source": [
    "raw_content = raw_data.content\n",
    "raw_content.head()"
   ]
  },
  {
   "cell_type": "markdown",
   "id": "cc34be08",
   "metadata": {},
   "source": [
    "# TF-IDF"
   ]
  },
  {
   "cell_type": "code",
   "execution_count": 6,
   "id": "349737f9",
   "metadata": {},
   "outputs": [
    {
     "ename": "NameError",
     "evalue": "name 'raw_content' is not defined",
     "output_type": "error",
     "traceback": [
      "\u001b[0;31m---------------------------------------------------------------------------\u001b[0m",
      "\u001b[0;31mNameError\u001b[0m                                 Traceback (most recent call last)",
      "\u001b[0;32m<ipython-input-6-efd37c51f9a7>\u001b[0m in \u001b[0;36m<module>\u001b[0;34m\u001b[0m\n\u001b[1;32m      1\u001b[0m \u001b[0;32mfrom\u001b[0m \u001b[0msklearn\u001b[0m\u001b[0;34m.\u001b[0m\u001b[0mfeature_extraction\u001b[0m\u001b[0;34m.\u001b[0m\u001b[0mtext\u001b[0m \u001b[0;32mimport\u001b[0m \u001b[0mTfidfVectorizer\u001b[0m\u001b[0;34m\u001b[0m\u001b[0;34m\u001b[0m\u001b[0m\n\u001b[1;32m      2\u001b[0m \u001b[0;34m\u001b[0m\u001b[0m\n\u001b[0;32m----> 3\u001b[0;31m \u001b[0mtexts\u001b[0m \u001b[0;34m=\u001b[0m \u001b[0mraw_content\u001b[0m\u001b[0;34m\u001b[0m\u001b[0;34m\u001b[0m\u001b[0m\n\u001b[0m\u001b[1;32m      4\u001b[0m \u001b[0;34m\u001b[0m\u001b[0m\n\u001b[1;32m      5\u001b[0m \u001b[0mtf_idf_vectorizer\u001b[0m \u001b[0;34m=\u001b[0m \u001b[0mTfidfVectorizer\u001b[0m\u001b[0;34m(\u001b[0m\u001b[0;34m)\u001b[0m\u001b[0;34m\u001b[0m\u001b[0;34m\u001b[0m\u001b[0m\n",
      "\u001b[0;31mNameError\u001b[0m: name 'raw_content' is not defined"
     ]
    }
   ],
   "source": [
    "from sklearn.feature_extraction.text import TfidfVectorizer\n",
    "\n",
    "texts = raw_content\n",
    "\n",
    "tf_idf_vectorizer = TfidfVectorizer()\n",
    "\n",
    "X = tf_idf_vectorizer.fit_transform(texts)\n",
    "X"
   ]
  },
  {
   "cell_type": "code",
   "execution_count": 11,
   "id": "0fd90d08",
   "metadata": {},
   "outputs": [],
   "source": [
    "from sklearn.cluster import KMeans\n",
    "\n",
    "tf_idf_model = KMeans(n_clusters=10).fit(X)"
   ]
  },
  {
   "cell_type": "code",
   "execution_count": 12,
   "id": "e2dd01a0",
   "metadata": {
    "scrolled": false
   },
   "outputs": [
    {
     "data": {
      "text/plain": [
       "(10, 21341)"
      ]
     },
     "execution_count": 12,
     "metadata": {},
     "output_type": "execute_result"
    }
   ],
   "source": [
    "tf_idf_model.cluster_centers_.shape"
   ]
  },
  {
   "cell_type": "code",
   "execution_count": 16,
   "id": "6a24be2b",
   "metadata": {},
   "outputs": [],
   "source": [
    "topics = {}\n",
    "for i, topic in enumerate(tf_idf_model.cluster_centers_):\n",
    "        topics[i] = [tf_idf_vectorizer.get_feature_names()[i]\n",
    "                        for i in topic.argsort()[:-10 - 1:-1]]"
   ]
  },
  {
   "cell_type": "code",
   "execution_count": 17,
   "id": "17f00c43",
   "metadata": {},
   "outputs": [
    {
     "data": {
      "text/plain": [
       "{0: ['the',\n",
       "  'milo',\n",
       "  'to',\n",
       "  'event',\n",
       "  'of',\n",
       "  'university',\n",
       "  'students',\n",
       "  'security',\n",
       "  'berkeley',\n",
       "  'fees'],\n",
       " 1: ['the', 'to', 'and', 'of', 'in', 'that', 'on', 'you', 'is', 'it'],\n",
       " 2: ['the',\n",
       "  'of',\n",
       "  'to',\n",
       "  'in',\n",
       "  'and',\n",
       "  'syrian',\n",
       "  'israeli',\n",
       "  'syria',\n",
       "  'forces',\n",
       "  'isis'],\n",
       " 3: ['the', 'she', 'her', 'to', 'and', 'in', 'of', 'women', 'was', 'that'],\n",
       " 4: ['the', 'to', 'of', 'and', 'in', 'that', 'for', 'on', 'is', 'he'],\n",
       " 5: ['the',\n",
       "  'cosby',\n",
       "  'of',\n",
       "  'to',\n",
       "  'sexual',\n",
       "  'that',\n",
       "  'and',\n",
       "  'assault',\n",
       "  'was',\n",
       "  'ailes'],\n",
       " 6: ['the',\n",
       "  'clinton',\n",
       "  'sanders',\n",
       "  'to',\n",
       "  'her',\n",
       "  'of',\n",
       "  'in',\n",
       "  'and',\n",
       "  'she',\n",
       "  'mrs'],\n",
       " 7: ['the', 'trump', 'to', 'of', 'mr', 'and', 'that', 'in', 'he', 'his'],\n",
       " 8: ['cruz', 'the', 'rubio', 'trump', 'to', 'of', 'he', 'and', 'in', 'that'],\n",
       " 9: ['the',\n",
       "  'korea',\n",
       "  'north',\n",
       "  'korean',\n",
       "  'to',\n",
       "  'nuclear',\n",
       "  'of',\n",
       "  'kim',\n",
       "  'missile',\n",
       "  'russian']}"
      ]
     },
     "execution_count": 17,
     "metadata": {},
     "output_type": "execute_result"
    }
   ],
   "source": [
    "topics"
   ]
  },
  {
   "cell_type": "code",
   "execution_count": 19,
   "id": "6c2b0257",
   "metadata": {},
   "outputs": [
    {
     "data": {
      "text/html": [
       "<div>\n",
       "<style scoped>\n",
       "    .dataframe tbody tr th:only-of-type {\n",
       "        vertical-align: middle;\n",
       "    }\n",
       "\n",
       "    .dataframe tbody tr th {\n",
       "        vertical-align: top;\n",
       "    }\n",
       "\n",
       "    .dataframe thead th {\n",
       "        text-align: right;\n",
       "    }\n",
       "</style>\n",
       "<table border=\"1\" class=\"dataframe\">\n",
       "  <thead>\n",
       "    <tr style=\"text-align: right;\">\n",
       "      <th></th>\n",
       "      <th>Unnamed: 0</th>\n",
       "      <th>id</th>\n",
       "      <th>title</th>\n",
       "      <th>publication</th>\n",
       "      <th>author</th>\n",
       "      <th>date</th>\n",
       "      <th>year</th>\n",
       "      <th>month</th>\n",
       "      <th>url</th>\n",
       "      <th>content</th>\n",
       "      <th>topic</th>\n",
       "    </tr>\n",
       "  </thead>\n",
       "  <tbody>\n",
       "    <tr>\n",
       "      <th>1611</th>\n",
       "      <td>1611</td>\n",
       "      <td>19090</td>\n",
       "      <td>At Least 4 Killed as Train Barrels Into Charte...</td>\n",
       "      <td>New York Times</td>\n",
       "      <td>Matthew Haag</td>\n",
       "      <td>2017-03-08</td>\n",
       "      <td>2017.0</td>\n",
       "      <td>3.0</td>\n",
       "      <td>NaN</td>\n",
       "      <td>A freight train slammed into a charter bus ful...</td>\n",
       "      <td>4</td>\n",
       "    </tr>\n",
       "    <tr>\n",
       "      <th>32319</th>\n",
       "      <td>32455</td>\n",
       "      <td>51222</td>\n",
       "      <td>Spicer slams ’nitpicking’ of Holocaust statement</td>\n",
       "      <td>CNN</td>\n",
       "      <td>Eric Bradner</td>\n",
       "      <td>2017-01-30</td>\n",
       "      <td>2017.0</td>\n",
       "      <td>1.0</td>\n",
       "      <td>NaN</td>\n",
       "      <td>(CNN) White House press secretary Sean Spicer...</td>\n",
       "      <td>7</td>\n",
       "    </tr>\n",
       "    <tr>\n",
       "      <th>1987</th>\n",
       "      <td>1987</td>\n",
       "      <td>19516</td>\n",
       "      <td>Democrats Plan to Filibuster to Thwart Gorsuch...</td>\n",
       "      <td>New York Times</td>\n",
       "      <td>Matt Flegenheimer, Charlie Savage and Adam Liptak</td>\n",
       "      <td>2017-03-24</td>\n",
       "      <td>2017.0</td>\n",
       "      <td>3.0</td>\n",
       "      <td>NaN</td>\n",
       "      <td>WASHINGTON  —   Senate Democrats on Thursday v...</td>\n",
       "      <td>4</td>\n",
       "    </tr>\n",
       "    <tr>\n",
       "      <th>22111</th>\n",
       "      <td>22114</td>\n",
       "      <td>40861</td>\n",
       "      <td>The Theory of President Marco Rubio Breaks Aga...</td>\n",
       "      <td>Breitbart</td>\n",
       "      <td>Mike Flynn</td>\n",
       "      <td>2016-03-06</td>\n",
       "      <td>2016.0</td>\n",
       "      <td>3.0</td>\n",
       "      <td>NaN</td>\n",
       "      <td>Super Saturday was a disaster for Marco Rubio ...</td>\n",
       "      <td>8</td>\n",
       "    </tr>\n",
       "    <tr>\n",
       "      <th>34837</th>\n",
       "      <td>35530</td>\n",
       "      <td>54351</td>\n",
       "      <td>Trump’s speech to Muslim world a tough sell</td>\n",
       "      <td>CNN</td>\n",
       "      <td>Nic Robertson</td>\n",
       "      <td>2017-05-21</td>\n",
       "      <td>2017.0</td>\n",
       "      <td>5.0</td>\n",
       "      <td>NaN</td>\n",
       "      <td>Riyadh, Saudi Arabia (CNN) With his address in...</td>\n",
       "      <td>7</td>\n",
       "    </tr>\n",
       "  </tbody>\n",
       "</table>\n",
       "</div>"
      ],
      "text/plain": [
       "       Unnamed: 0     id                                              title  \\\n",
       "1611         1611  19090  At Least 4 Killed as Train Barrels Into Charte...   \n",
       "32319       32455  51222  Spicer slams ’nitpicking’ of Holocaust statement    \n",
       "1987         1987  19516  Democrats Plan to Filibuster to Thwart Gorsuch...   \n",
       "22111       22114  40861  The Theory of President Marco Rubio Breaks Aga...   \n",
       "34837       35530  54351        Trump’s speech to Muslim world a tough sell   \n",
       "\n",
       "          publication                                             author  \\\n",
       "1611   New York Times                                       Matthew Haag   \n",
       "32319             CNN                                       Eric Bradner   \n",
       "1987   New York Times  Matt Flegenheimer, Charlie Savage and Adam Liptak   \n",
       "22111       Breitbart                                         Mike Flynn   \n",
       "34837             CNN                                      Nic Robertson   \n",
       "\n",
       "             date    year  month  url  \\\n",
       "1611   2017-03-08  2017.0    3.0  NaN   \n",
       "32319  2017-01-30  2017.0    1.0  NaN   \n",
       "1987   2017-03-24  2017.0    3.0  NaN   \n",
       "22111  2016-03-06  2016.0    3.0  NaN   \n",
       "34837  2017-05-21  2017.0    5.0  NaN   \n",
       "\n",
       "                                                 content  topic  \n",
       "1611   A freight train slammed into a charter bus ful...      4  \n",
       "32319   (CNN) White House press secretary Sean Spicer...      7  \n",
       "1987   WASHINGTON  —   Senate Democrats on Thursday v...      4  \n",
       "22111  Super Saturday was a disaster for Marco Rubio ...      8  \n",
       "34837  Riyadh, Saudi Arabia (CNN) With his address in...      7  "
      ]
     },
     "execution_count": 19,
     "metadata": {},
     "output_type": "execute_result"
    }
   ],
   "source": [
    "raw_data['topic'] = tf_idf_model.labels_\n",
    "raw_data.head()"
   ]
  },
  {
   "cell_type": "code",
   "execution_count": 22,
   "id": "113ced5f",
   "metadata": {
    "scrolled": true
   },
   "outputs": [
    {
     "data": {
      "text/html": [
       "<div>\n",
       "<style scoped>\n",
       "    .dataframe tbody tr th:only-of-type {\n",
       "        vertical-align: middle;\n",
       "    }\n",
       "\n",
       "    .dataframe tbody tr th {\n",
       "        vertical-align: top;\n",
       "    }\n",
       "\n",
       "    .dataframe thead th {\n",
       "        text-align: right;\n",
       "    }\n",
       "</style>\n",
       "<table border=\"1\" class=\"dataframe\">\n",
       "  <thead>\n",
       "    <tr style=\"text-align: right;\">\n",
       "      <th></th>\n",
       "      <th>topic</th>\n",
       "      <th>content</th>\n",
       "    </tr>\n",
       "  </thead>\n",
       "  <tbody>\n",
       "    <tr>\n",
       "      <th>0</th>\n",
       "      <td>0</td>\n",
       "      <td>Students at George Washington University in Wa...</td>\n",
       "    </tr>\n",
       "    <tr>\n",
       "      <th>1</th>\n",
       "      <td>1</td>\n",
       "      <td>GOP frontrunner Donald Trump says the public s...</td>\n",
       "    </tr>\n",
       "    <tr>\n",
       "      <th>2</th>\n",
       "      <td>2</td>\n",
       "      <td>Istanbul (CNN)  Syria was living Friday throug...</td>\n",
       "    </tr>\n",
       "    <tr>\n",
       "      <th>3</th>\n",
       "      <td>3</td>\n",
       "      <td>(CNN) Billed as the grudge match of the year,...</td>\n",
       "    </tr>\n",
       "    <tr>\n",
       "      <th>4</th>\n",
       "      <td>4</td>\n",
       "      <td>A freight train slammed into a charter bus ful...</td>\n",
       "    </tr>\n",
       "    <tr>\n",
       "      <th>5</th>\n",
       "      <td>5</td>\n",
       "      <td>(CNN) Celebrities took to social media‪ Satur...</td>\n",
       "    </tr>\n",
       "    <tr>\n",
       "      <th>6</th>\n",
       "      <td>6</td>\n",
       "      <td>On Friday’s broadcast of PBS’ “Washington Week...</td>\n",
       "    </tr>\n",
       "    <tr>\n",
       "      <th>7</th>\n",
       "      <td>7</td>\n",
       "      <td>(CNN) White House press secretary Sean Spicer...</td>\n",
       "    </tr>\n",
       "    <tr>\n",
       "      <th>8</th>\n",
       "      <td>8</td>\n",
       "      <td>Super Saturday was a disaster for Marco Rubio ...</td>\n",
       "    </tr>\n",
       "    <tr>\n",
       "      <th>9</th>\n",
       "      <td>9</td>\n",
       "      <td>(CNN) For the second time in a month a Russia...</td>\n",
       "    </tr>\n",
       "  </tbody>\n",
       "</table>\n",
       "</div>"
      ],
      "text/plain": [
       "   topic                                            content\n",
       "0      0  Students at George Washington University in Wa...\n",
       "1      1  GOP frontrunner Donald Trump says the public s...\n",
       "2      2  Istanbul (CNN)  Syria was living Friday throug...\n",
       "3      3   (CNN) Billed as the grudge match of the year,...\n",
       "4      4  A freight train slammed into a charter bus ful...\n",
       "5      5   (CNN) Celebrities took to social media‪ Satur...\n",
       "6      6  On Friday’s broadcast of PBS’ “Washington Week...\n",
       "7      7   (CNN) White House press secretary Sean Spicer...\n",
       "8      8  Super Saturday was a disaster for Marco Rubio ...\n",
       "9      9   (CNN) For the second time in a month a Russia..."
      ]
     },
     "execution_count": 22,
     "metadata": {},
     "output_type": "execute_result"
    }
   ],
   "source": [
    "X = raw_data\n",
    "docs_per_topic = X.groupby(['topic'], as_index = False).agg({'content': ' '.join})\n",
    "docs_per_topic"
   ]
  },
  {
   "cell_type": "code",
   "execution_count": 26,
   "id": "9929b4d5",
   "metadata": {},
   "outputs": [
    {
     "data": {
      "text/plain": [
       "<2x2 sparse matrix of type '<class 'numpy.float64'>'\n",
       "\twith 2 stored elements in Compressed Sparse Row format>"
      ]
     },
     "execution_count": 26,
     "metadata": {},
     "output_type": "execute_result"
    }
   ],
   "source": [
    "result = tf_idf_vectorizer.fit_transform(docs_per_topic)\n",
    "result"
   ]
  },
  {
   "cell_type": "code",
   "execution_count": 203,
   "id": "c98ac151",
   "metadata": {
    "scrolled": true
   },
   "outputs": [
    {
     "data": {
      "text/plain": [
       "(       Unnamed: 0     id                                              title  \\\n",
       " 23555       23559  42310  Revealed: Brando’s \"Insatiable Sexual Appetite...   \n",
       " 20220       20223  38969  Palestinian Teenager Arrested Carrying Knife i...   \n",
       " 7420         7420  26020     Yes! Foods may fight acne - The New York Times   \n",
       " 14735       14736  33472  Starbucks CEO Howard Schultz to Step Down in A...   \n",
       " 11001       11001  29737  VIDEO: Fight Breaks Out on Southwest Airlines ...   \n",
       " 2201         2201  19741  Trump University Suit Settlement Approved by J...   \n",
       " 7124         7124  25636  Democrats and Feds in Dispute on Trump’s D.C. ...   \n",
       " 40897       42885  61831  Detroit Police find bodies of two children in ...   \n",
       " 16691       16692  35429             Texas Lights Up Blue to Support Police   \n",
       " 28906       28914  47676  Trump to ’Free NASA’ and Set Sights on Further...   \n",
       " 36823       37837  56678             Rebel coalition breaks siege of Aleppo   \n",
       " \n",
       "           publication                                             author  \\\n",
       " 23555       Breitbart                                     Breitbart News   \n",
       " 20220       Breitbart                                Breitbart Jerusalem   \n",
       " 7420   New York Times                                    Anahad O’Connor   \n",
       " 14735       Breitbart                                        Lucas Nolan   \n",
       " 11001       Breitbart                                Katherine Rodriguez   \n",
       " 2201   New York Times                     Steve Eder and Jennifer Medina   \n",
       " 7124   New York Times  Eric Lipton, Matthew Rosenberg and Nicholas Fa...   \n",
       " 40897             CNN                                  Stephanie Gallman   \n",
       " 16691       Breitbart                                          Bob Price   \n",
       " 28906       Breitbart                                       Charlie Nash   \n",
       " 36823             CNN                                                NaN   \n",
       " \n",
       "              date    year  month  url  \\\n",
       " 23555  2016-01-01  2016.0    1.0  NaN   \n",
       " 20220  2016-08-28  2016.0    8.0  NaN   \n",
       " 7420   2017-04-01  2017.0    4.0  NaN   \n",
       " 14735  2017-03-19  2017.0    3.0  NaN   \n",
       " 11001  2017-05-10  2017.0    5.0  NaN   \n",
       " 2201   2017-04-01  2017.0    4.0  NaN   \n",
       " 7124   2016-12-15  2016.0   12.0  NaN   \n",
       " 40897  2015-03-24  2015.0    3.0  NaN   \n",
       " 16691  2016-07-09  2016.0    7.0  NaN   \n",
       " 28906  2016-11-14  2016.0   11.0  NaN   \n",
       " 36823  2016-08-07  2016.0    8.0  NaN   \n",
       " \n",
       "                                                  content  topic  \n",
       " 23555  Chris Spargo reported the following in the Dai...    359  \n",
       " 20220  The Times of Israel reports: A    Palestinian ...    359  \n",
       " 7420   This article is part of a series aimed at help...    359  \n",
       " 14735  Starbucks CEO Howard Schultz will step down fr...    359  \n",
       " 11001  A fistfight broke out among several passengers...    359  \n",
       " 2201   A federal judge on Friday gave final approval ...    359  \n",
       " 7124   ■ The General Services Administration disputed...    359  \n",
       " 40897   (CNN) Police in Detroit made a gruesome disco...    359  \n",
       " 16691  The glow of the Texas Governor’s Mansion bathe...    359  \n",
       " 28906  Despite criticism from the media about his sta...    359  \n",
       " 36823   (CNN) After months of being pummeled from the...    359  ,\n",
       " 'espn, the, sports, to, and, of, that, network, schilling, brady')"
      ]
     },
     "execution_count": 203,
     "metadata": {},
     "output_type": "execute_result"
    }
   ],
   "source": [
    "output[0]"
   ]
  },
  {
   "cell_type": "code",
   "execution_count": 150,
   "id": "6bfe053b",
   "metadata": {
    "scrolled": true
   },
   "outputs": [
    {
     "name": "stdout",
     "output_type": "stream",
     "text": [
      "Topic 0:\n",
      "['brando', 'moreno', 'the', 'romance', 'she', 'oscar', 'her', 'tried', 'to', 'desire']\n",
      "0\n"
     ]
    }
   ],
   "source": [
    "def print_topics(model, vectorizer):\n",
    "    for idx, topic in enumerate(model):\n",
    "        print(\"Topic %d:\" % (idx))\n",
    "        print([vectorizer.get_feature_names()[i]\n",
    "                        for i in topic.argsort()[:-10 - 1:-1]])\n",
    "        print(model)\n",
    "        break\n",
    "        \n",
    "\n",
    "print_topics(tf_idf_model.cluster_centers_, tf_idf_vectorizer)"
   ]
  },
  {
   "cell_type": "code",
   "execution_count": 33,
   "id": "0cece82e",
   "metadata": {},
   "outputs": [],
   "source": [
    "from sklearn.decomposition import LatentDirichletAllocation\n",
    "\n",
    "lda_model = LatentDirichletAllocation(n_components=20).fit(X)\n",
    "\n",
    "print_topics(lda_model.components_, tf_idf_vectorizer)"
   ]
  },
  {
   "cell_type": "code",
   "execution_count": 36,
   "id": "c8eb7f3b",
   "metadata": {
    "collapsed": true
   },
   "outputs": [
    {
     "data": {
      "text/plain": [
       "array([[0.0034004 , 0.0034004 , 0.0034004 , 0.0034004 , 0.5353657 ,\n",
       "        0.0034004 , 0.0034004 , 0.0034004 , 0.0034004 , 0.0034004 ,\n",
       "        0.0034004 , 0.20329059, 0.0034004 , 0.0034004 , 0.07443649,\n",
       "        0.0034004 , 0.13250081, 0.0034004 , 0.0034004 , 0.0034004 ]])"
      ]
     },
     "execution_count": 36,
     "metadata": {},
     "output_type": "execute_result"
    }
   ],
   "source": [
    "lda_model.transform(X[0])"
   ]
  },
  {
   "cell_type": "code",
   "execution_count": 135,
   "id": "d03a96df",
   "metadata": {},
   "outputs": [],
   "source": [
    "from tensorflow.keras.preprocessing.text import text_to_word_sequence\n",
    "\n",
    "text_list = [text_to_word_sequence(sentence) for sentence in texts]"
   ]
  },
  {
   "cell_type": "markdown",
   "id": "00c6f93f",
   "metadata": {},
   "source": [
    "# Deep Learning"
   ]
  },
  {
   "cell_type": "code",
   "execution_count": 148,
   "id": "94ea3b02",
   "metadata": {},
   "outputs": [
    {
     "data": {
      "text/plain": [
       "array([ 0.2100628 ,  0.1537489 ,  0.87903917, -0.5523931 , -0.07621907,\n",
       "       -0.07617197,  0.4168468 ,  0.9264497 , -0.6768583 , -0.920836  ],\n",
       "      dtype=float32)"
      ]
     },
     "execution_count": 148,
     "metadata": {},
     "output_type": "execute_result"
    }
   ],
   "source": [
    "from gensim.models import Word2Vec\n",
    "\n",
    "word2vec = Word2Vec(sentences=text_list, vector_size=10)\n",
    "\n",
    "word2vec.wv[\"tesla\"]"
   ]
  },
  {
   "cell_type": "code",
   "execution_count": 151,
   "id": "e8d67a52",
   "metadata": {},
   "outputs": [],
   "source": [
    "from tensorflow.keras.preprocessing.sequence import pad_sequences\n",
    "import numpy as np\n",
    "\n",
    "# Function to convert a sentence (list of words) into a matrix representing the words in the embedding space\n",
    "def embed_sentence(word2vec, sentence):\n",
    "    embedded_sentence = []\n",
    "    for word in sentence:\n",
    "        if word in word2vec.wv:\n",
    "            embedded_sentence.append(word2vec.wv[word])\n",
    "        \n",
    "    return np.array(embedded_sentence)\n",
    "\n",
    "# Function that converts a list of sentences into a list of matrices\n",
    "def embedding(word2vec, sentences):\n",
    "    embed = []\n",
    "    \n",
    "    for sentence in sentences:\n",
    "        embedded_sentence = embed_sentence(word2vec, sentence.split(\" \"))\n",
    "        embed.append(embedded_sentence)\n",
    "        \n",
    "    return embed\n",
    "\n",
    "# Embed the training and test sentences\n",
    "X_embed = embedding(word2vec, texts)\n",
    "\n",
    "\n",
    "# Pad the training and test embedded sentences\n",
    "shape_output = max([array.size for array in X_embed])\n",
    "#X = pad_sequences(X_embed, dtype='float32', padding='post', maxlen=shape_output).reshape(1000,shape_output*10)"
   ]
  },
  {
   "cell_type": "code",
   "execution_count": null,
   "id": "8cd853fb",
   "metadata": {},
   "outputs": [],
   "source": [
    "X.shape"
   ]
  },
  {
   "cell_type": "code",
   "execution_count": 143,
   "id": "c11e7c82",
   "metadata": {},
   "outputs": [],
   "source": [
    "from scipy.sparse import csr_matrix\n",
    "\n",
    "X = csr_matrix(X)"
   ]
  },
  {
   "cell_type": "code",
   "execution_count": 149,
   "id": "842f8a17",
   "metadata": {},
   "outputs": [
    {
     "data": {
      "text/plain": [
       "[('clinton', 0.8887618780136108),\n",
       " ('trump’s', 0.8878629207611084),\n",
       " ('election', 0.8647207617759705),\n",
       " ('cruz', 0.8619100451469421),\n",
       " ('obama', 0.8521750569343567),\n",
       " ('ryan', 0.8442927598953247),\n",
       " ('candidate', 0.8231729865074158),\n",
       " ('unimatrixzeroone', 0.8141018152236938),\n",
       " ('’a', 0.8074794411659241),\n",
       " ('marc', 0.807149350643158)]"
      ]
     },
     "execution_count": 149,
     "metadata": {},
     "output_type": "execute_result"
    }
   ],
   "source": [
    "word2vec.wv.most_similar(\"trump\")"
   ]
  },
  {
   "cell_type": "code",
   "execution_count": 120,
   "id": "3b24b79a",
   "metadata": {},
   "outputs": [
    {
     "name": "stdout",
     "output_type": "stream",
     "text": [
      "Topic 0:\n"
     ]
    },
    {
     "ename": "TypeError",
     "evalue": "'numpy.float32' object is not iterable",
     "output_type": "error",
     "traceback": [
      "\u001b[0;31m---------------------------------------------------------------------------\u001b[0m",
      "\u001b[0;31mTypeError\u001b[0m                                 Traceback (most recent call last)",
      "\u001b[0;32m<ipython-input-120-725cbf11d905>\u001b[0m in \u001b[0;36m<module>\u001b[0;34m\u001b[0m\n\u001b[1;32m      3\u001b[0m \u001b[0;32mfor\u001b[0m \u001b[0midx\u001b[0m\u001b[0;34m,\u001b[0m \u001b[0mtopic\u001b[0m \u001b[0;32min\u001b[0m \u001b[0menumerate\u001b[0m\u001b[0;34m(\u001b[0m\u001b[0mtf_idf_model\u001b[0m\u001b[0;34m.\u001b[0m\u001b[0mcluster_centers_\u001b[0m\u001b[0;34m)\u001b[0m\u001b[0;34m:\u001b[0m\u001b[0;34m\u001b[0m\u001b[0;34m\u001b[0m\u001b[0m\n\u001b[1;32m      4\u001b[0m     \u001b[0mprint\u001b[0m\u001b[0;34m(\u001b[0m\u001b[0;34m\"Topic %d:\"\u001b[0m \u001b[0;34m%\u001b[0m \u001b[0;34m(\u001b[0m\u001b[0midx\u001b[0m\u001b[0;34m)\u001b[0m\u001b[0;34m)\u001b[0m\u001b[0;34m\u001b[0m\u001b[0;34m\u001b[0m\u001b[0m\n\u001b[0;32m----> 5\u001b[0;31m     print([word2vec.wv.most_similar(positive=topic[i], topn=1)\n\u001b[0m\u001b[1;32m      6\u001b[0m                     for i in topic.argsort()[:-10 - 1:-1]])\n",
      "\u001b[0;32m<ipython-input-120-725cbf11d905>\u001b[0m in \u001b[0;36m<listcomp>\u001b[0;34m(.0)\u001b[0m\n\u001b[1;32m      3\u001b[0m \u001b[0;32mfor\u001b[0m \u001b[0midx\u001b[0m\u001b[0;34m,\u001b[0m \u001b[0mtopic\u001b[0m \u001b[0;32min\u001b[0m \u001b[0menumerate\u001b[0m\u001b[0;34m(\u001b[0m\u001b[0mtf_idf_model\u001b[0m\u001b[0;34m.\u001b[0m\u001b[0mcluster_centers_\u001b[0m\u001b[0;34m)\u001b[0m\u001b[0;34m:\u001b[0m\u001b[0;34m\u001b[0m\u001b[0;34m\u001b[0m\u001b[0m\n\u001b[1;32m      4\u001b[0m     \u001b[0mprint\u001b[0m\u001b[0;34m(\u001b[0m\u001b[0;34m\"Topic %d:\"\u001b[0m \u001b[0;34m%\u001b[0m \u001b[0;34m(\u001b[0m\u001b[0midx\u001b[0m\u001b[0;34m)\u001b[0m\u001b[0;34m)\u001b[0m\u001b[0;34m\u001b[0m\u001b[0;34m\u001b[0m\u001b[0m\n\u001b[0;32m----> 5\u001b[0;31m     print([word2vec.wv.most_similar(positive=topic[i], topn=1)\n\u001b[0m\u001b[1;32m      6\u001b[0m                     for i in topic.argsort()[:-10 - 1:-1]])\n",
      "\u001b[0;32m~/.pyenv/versions/3.8.6/envs/lewagon/lib/python3.8/site-packages/gensim/models/keyedvectors.py\u001b[0m in \u001b[0;36mmost_similar\u001b[0;34m(self, positive, negative, topn, clip_start, clip_end, restrict_vocab, indexer)\u001b[0m\n\u001b[1;32m    745\u001b[0m \u001b[0;34m\u001b[0m\u001b[0m\n\u001b[1;32m    746\u001b[0m         \u001b[0;31m# add weights for each key, if not already present; default to 1.0 for positive and -1.0 for negative keys\u001b[0m\u001b[0;34m\u001b[0m\u001b[0;34m\u001b[0m\u001b[0;34m\u001b[0m\u001b[0m\n\u001b[0;32m--> 747\u001b[0;31m         positive = [\n\u001b[0m\u001b[1;32m    748\u001b[0m             \u001b[0;34m(\u001b[0m\u001b[0mitem\u001b[0m\u001b[0;34m,\u001b[0m \u001b[0;36m1.0\u001b[0m\u001b[0;34m)\u001b[0m \u001b[0;32mif\u001b[0m \u001b[0misinstance\u001b[0m\u001b[0;34m(\u001b[0m\u001b[0mitem\u001b[0m\u001b[0;34m,\u001b[0m \u001b[0mKEY_TYPES\u001b[0m \u001b[0;34m+\u001b[0m \u001b[0;34m(\u001b[0m\u001b[0mndarray\u001b[0m\u001b[0;34m,\u001b[0m\u001b[0;34m)\u001b[0m\u001b[0;34m)\u001b[0m\u001b[0;34m\u001b[0m\u001b[0;34m\u001b[0m\u001b[0m\n\u001b[1;32m    749\u001b[0m             \u001b[0;32melse\u001b[0m \u001b[0mitem\u001b[0m \u001b[0;32mfor\u001b[0m \u001b[0mitem\u001b[0m \u001b[0;32min\u001b[0m \u001b[0mpositive\u001b[0m\u001b[0;34m\u001b[0m\u001b[0;34m\u001b[0m\u001b[0m\n",
      "\u001b[0;31mTypeError\u001b[0m: 'numpy.float32' object is not iterable"
     ]
    }
   ],
   "source": [
    "tf_idf_model = KMeans(n_clusters=20).fit(X)\n",
    "\n",
    "for idx, topic in enumerate(tf_idf_model.cluster_centers_):\n",
    "    print(\"Topic %d:\" % (idx))\n",
    "    print([word2vec.wv.most_similar(positive=[topic[i]], topn=1)\n",
    "                    for i in topic.argsort()[:-10 - 1:-1]])"
   ]
  },
  {
   "cell_type": "code",
   "execution_count": 162,
   "id": "83e83c53",
   "metadata": {},
   "outputs": [
    {
     "name": "stdout",
     "output_type": "stream",
     "text": [
      "['and', 'document', 'first', 'is', 'one', 'second', 'the', 'third', 'this']\n"
     ]
    },
    {
     "data": {
      "text/plain": [
       "<4x9 sparse matrix of type '<class 'numpy.float64'>'\n",
       "\twith 21 stored elements in Compressed Sparse Row format>"
      ]
     },
     "execution_count": 162,
     "metadata": {},
     "output_type": "execute_result"
    }
   ],
   "source": [
    "from sklearn.feature_extraction.text import TfidfVectorizer\n",
    "corpus = [\n",
    "    'This is the first document.',\n",
    "    'This document is the second document.',\n",
    "    'And this is the third one.',\n",
    "    'Is this the first document?',\n",
    "]\n",
    "vectorizer = TfidfVectorizer()\n",
    "X = vectorizer.fit_transform(corpus)\n",
    "print(vectorizer.get_feature_names())\n",
    "\n",
    "X"
   ]
  },
  {
   "cell_type": "markdown",
   "id": "4f7dbc20",
   "metadata": {},
   "source": [
    "## Bert"
   ]
  },
  {
   "cell_type": "code",
   "execution_count": 75,
   "id": "03203c75",
   "metadata": {},
   "outputs": [
    {
     "data": {
      "application/vnd.jupyter.widget-view+json": {
       "model_id": "9d8b7483757c4f6f98f954360a54caed",
       "version_major": 2,
       "version_minor": 0
      },
      "text/plain": [
       "Batches:   0%|          | 0/157 [00:00<?, ?it/s]"
      ]
     },
     "metadata": {},
     "output_type": "display_data"
    }
   ],
   "source": [
    "from sentence_transformers import SentenceTransformer\n",
    "model = SentenceTransformer('distilbert-base-nli-mean-tokens')\n",
    "embeddings = model.encode(raw_content.tolist(), show_progress_bar=True)"
   ]
  },
  {
   "cell_type": "code",
   "execution_count": 76,
   "id": "9fb5ee01",
   "metadata": {},
   "outputs": [
    {
     "data": {
      "text/plain": [
       "(5000, 768)"
      ]
     },
     "execution_count": 76,
     "metadata": {},
     "output_type": "execute_result"
    }
   ],
   "source": [
    "embeddings.shape"
   ]
  },
  {
   "cell_type": "code",
   "execution_count": 77,
   "id": "8d95d297",
   "metadata": {},
   "outputs": [],
   "source": [
    "import umap\n",
    "umap_embeddings = umap.UMAP(n_neighbors=15, \n",
    "                            n_components=5, \n",
    "                            metric='cosine').fit_transform(embeddings)"
   ]
  },
  {
   "cell_type": "code",
   "execution_count": 78,
   "id": "8ff41cee",
   "metadata": {},
   "outputs": [
    {
     "data": {
      "text/plain": [
       "(5000, 5)"
      ]
     },
     "execution_count": 78,
     "metadata": {},
     "output_type": "execute_result"
    }
   ],
   "source": [
    "umap_embeddings.shape"
   ]
  },
  {
   "cell_type": "code",
   "execution_count": 106,
   "id": "6dfc41bb",
   "metadata": {},
   "outputs": [],
   "source": [
    "import hdbscan\n",
    "cluster = hdbscan.HDBSCAN(min_cluster_size=3,\n",
    "                          metric='euclidean',                      \n",
    "                          cluster_selection_method='eom').fit(umap_embeddings)"
   ]
  },
  {
   "cell_type": "code",
   "execution_count": 107,
   "id": "0272fc06",
   "metadata": {
    "scrolled": true
   },
   "outputs": [
    {
     "data": {
      "text/plain": [
       "<matplotlib.colorbar.Colorbar at 0x7f0457d6cc10>"
      ]
     },
     "execution_count": 107,
     "metadata": {},
     "output_type": "execute_result"
    },
    {
     "data": {
      "image/png": "[encoded data removed]",
      "text/plain": [
       "<Figure size 1440x720 with 2 Axes>"
      ]
     },
     "metadata": {
      "needs_background": "light"
     },
     "output_type": "display_data"
    }
   ],
   "source": [
    "import matplotlib.pyplot as plt\n",
    "\n",
    "# Prepare data\n",
    "umap_data = umap.UMAP(n_neighbors=15, n_components=2, min_dist=0.0, metric='cosine').fit_transform(embeddings)\n",
    "result = pd.DataFrame(umap_data, columns=['x', 'y'])\n",
    "result['labels'] = cluster.labels_\n",
    "\n",
    "# Visualize clusters\n",
    "fig, ax = plt.subplots(figsize=(20, 10))\n",
    "outliers = result.loc[result.labels == -1, :]\n",
    "clustered = result.loc[result.labels != -1, :]\n",
    "plt.scatter(outliers.x, outliers.y, color='#BDBDBD', s=0.05)\n",
    "plt.scatter(clustered.x, clustered.y, c=clustered.labels, s=0.05, cmap='hsv_r')\n",
    "plt.colorbar()"
   ]
  },
  {
   "cell_type": "code",
   "execution_count": 108,
   "id": "f166ff33",
   "metadata": {
    "scrolled": true
   },
   "outputs": [],
   "source": [
    "docs_df = pd.DataFrame(raw_content)\n",
    "docs_df['Topic'] = cluster.labels_\n",
    "docs_df['Doc_ID'] = range(len(docs_df))\n",
    "docs_per_topic = docs_df.groupby(['Topic'], as_index = False).agg({'content': ' '.join})"
   ]
  },
  {
   "cell_type": "code",
   "execution_count": 138,
   "id": "73cbe2b6",
   "metadata": {},
   "outputs": [
    {
     "name": "stdout",
     "output_type": "stream",
     "text": [
      "Law enforcement officials told CNN on Friday that, “barring new information that changes what they know,” charges will not be recommended against former National Security Adviser Michael Flynn over his telephone conversations with Russian Ambassador Sergey Kislyak. [Michael Flynn’s   calls to Kislyak became a controversy that ultimately resulted in his resignation, but even the final wave of media reports in the onslaught against him conceded that no illegal behavior occurred in the selected por\n",
      "_________\n",
      "Washington (CNN) There is ”absolutely not” any illness in Hillary Clinton’s medical records that hasn’t been disclosed, her campaign manager said Monday. Robby Mook told CNN’s Jake Tapper it was the fault of Clinton’s staff that the press wasn’t told for 90 minutes where the former secretary of state had gone when she left a   commemoration ceremony early after ”overheating” and having to be helped into a van after faltering Sunday. ”I wish we’d done that in a shorter amount of time. That’s on u\n",
      "_________\n",
      "Wednesday on MSNBC’s ”For the Record,” while discussing the statement from former FBI Director James Comey ahead of his congressional testimony scheduled for Thursday, House Speaker Rep. Paul Ryan ( ) said it was “obviously” not appropriate for President Donald Trump to ask for loyalty from an FBI director.  When asked if he believes it is appropriate for the president to ask for loyalty from the FBI director, Ryan said “Yeah, No. Obviously, I don’t think that is. I think Director Comey will pro\n",
      "_________\n",
      "Washington (CNN) The Pentagon considered, and then rejected, the idea of stopping routine intercepts of Russian military aircraft flying off the coast of Alaska, because the U. S. intercept flights appeared to have limited deterrent or intelligence value, according to two U. S. defense officials. While the Russian military flights, usually bomber aircraft, were entering a U. S. ”air defense identification zone,” they were not entering U. S. airspace, leading to the discussion about whether inter\n",
      "_________\n",
      "Washington (CNN) The most recent batch of Hillary Clinton’s private emails made public by the State Department per court order revealed no smoking guns on controversies surrounding Benghazi or her relationship with Sidney Blumenthal. But it did show some curious details of life at the State Department, including how hard it can be to work a fax machine or stay in the loop about Cabinet meetings.  Cabinet meeting? At one point, Clinton learns of a cabinet meeting from the radio    kind of. ”I hea\n",
      "_________\n",
      "Hillary Clinton did not turn over an important email about the problems caused by her use of a private email server for classified information.  “In November 2010, Secretary Clinton and her Deputy Chief of Staff for Operations discussed the fact that Secretary Clinton’s emails to Department employees were not being received,” according to the report. Clinton’s Deputy Chief of Staff told her that “we should talk about putting you on state email or releasing your email address to the department so\n",
      "_________\n",
      "WASHINGTON  —   U. S. and Australian troops advising Iraqi forces got caught up in a chemical weapons attack by the Islamic State (ISIS) in western Mosul during the weekend, a U. S. general confirmed Wednesday. [The chemical agent did not affect U. S. forces and is still undergoing testing, said Maj. Gen. Joseph Martin, the commander of U. S. and coalition ground forces in Iraq.  “Daesh has used chemicals in the vicinity of Mosul. The chemicals have had no impact on the Iraqi Security Forces. Th\n",
      "_________\n",
      "Washington (CNN) Hillary Clinton repeatedly told the FBI she couldn’t recall key details and events related to classified information procedures, according to notes the bureau released Friday of its July interview with the Democratic presidential nominee, along with a report on its investigation into her private email server.  Clinton told the FBI she ”could not recall any briefing or training by State related to the retention of federal records or handling classified information,” according to \n",
      "_________\n",
      " (CNN) The US Secret Service is investigating an informal adviser to Donald Trump’s presidential campaign after he called for Hillary Clinton’s execution. Al Baldasaro, a New Hampshire state representative, told radio host Jeff Kuhner Tuesday that Clinton ”should be put in the firing line and shot for treason.” ”The U. S. Secret Service is aware of this matter and will conduct the appropriate investigation,” said Shawn L. Holtzclaw, a spokesman for the Secret Service. Trump spokeswoman Hope Hick\n",
      "_________\n",
      " (CNN) Two government officials told CNN Friday evening that the classified report the Justice Department delivered to House and Senate investigators does not confirm President Donald Trump’s allegations that President Barack Obama wiretapped him during the campaign. The sources, speaking on condition of anonymity, spoke with knowledge of the classified report’s contents. When asked if the DOJ’s documents would confirm Trump’s as of yet wholly unsubstantiated allegations, House Intelligence Chai\n",
      "_________\n",
      "White House press secretary Sean Spicer told reporters Wednesday that  an alleged draft executive order titled “Detention and Interrogation of Enemy Combatants” “is not a White House document. ”[“I have no idea where it came from,” stressed Spicer.  Various mainstream media outlets, including the New York Times (NYT) and the Washington Post (WaPo) published the contents of this document, suggesting it was a legitimate draft from White House officials. The alleged draft directs national security \n",
      "_________\n",
      " (CNN) A Republican congressman said Wednesday night that Attorney General Jeff Sessions should have known better than to fail to disclose meetings with Russian officials when he applied for his security clearance. The Justice Department told CNN that Sessions, who met with Russian Ambassador Sergey Kislyak at least two times last year, didn’t note those interactions the application form, which required him to list ”any contact” he or his family had with a ”foreign government” or its ”representa\n",
      "_________\n",
      "’  ’ ’   Attorney General Jeff Sessions reportedly did not disclose his   meeting with Russian officials last year when he applied for his   security clearance, according to a Justice Department official   Wednesday. ’ ’   Sessions did not note on his security clearance forms that he had   met with Russian ambassador Sergey Kislyak at least twice that   year, . The form required Sessions to include any contact he   or his family made with a foreign government or its   representatives during a sp\n",
      "_________\n",
      " (CNN) Is it typical to target specific media outlets and exclude them from attending a White House briefing? The short answer is no. I spent almost eight years working for the Obama administration, in the White House as the deputy press secretary, deputy communications director, communications director, and as the spokesperson at the State Department.  We were not always perfect about how we handled media relations. We had our fair share of disagreements with reporters and even with entire medi\n",
      "_________\n",
      " (CNN) Acting FBI Director Andrew McCabe said President Donald Trump hasn’t made any effort to impede the investigation into possible ties between his campaign and Russia    but a top House Democrat disagrees. ”I don’t think you can say so categorically he’s made no effort to interfere,” Rep. Adam Schiff, the top Democrat on the House Intelligence Committee, said in an interview with CNN’s ”Erin Burnett Outfront” Thursday night. ”I think that the firing was all about the Russia investigation,” h\n",
      "_________\n",
      "FBI Director James Comey went against Attorney General Loretta Lynch’s advice on Friday when he sent a letter to Congress announcing that he is reopening the investigation into Hillary Clinton’s private email server after new evidence was discovered, according to the New Yorker. [“Coming less than two weeks before the Presidential election, Comey’s decision to make public new evidence that may raise additional legal questions about Clinton was contrary to the views of the Attorney General, accor\n",
      "_________\n",
      "On Thursday’s broadcast of CNN’s “Wolf,” Chuck Hagel, who served as Defense Secretary under President Obama and as a Republican Senator from Nebraska stated that he doesn’t believed claims from the US government about how many ISIS fighters have been killed.  Hagel responded to a question about whether he believed numbers from US officials about the number of ISIS fighters who have been killed with, “No, I don’t, because first of all, what’s the veracity, the credibility you collect those number\n",
      "_________\n",
      "Washington (CNN) The state lawmaker who received an   voicemail from Maine Gov. Paul LePage said Friday he did not call LePage a racist, as the governor claims. ”I’ve never received a voicemail like that before,” Democratic State Rep. Drew Gattine told CNN’s Jim Scuitto on ”OutFront.” ”Every time you think he’s crossed a line    you think he can’t go any further    but then he draws a different line, and he crosses it.” LePage left a message goading Gattine to ”prove that I’m a racist” after a s\n",
      "_________\n",
      "Following the receipt of a retraction demand, NBC News has quietly edited the Internet edition of a segment that aired on the   “Today Show” in which anchor Andrea Mitchell claimed Juanita Broaddrick’s rape accusation against Bill Clinton had been “discredited. ”[After receiving the legal letter, penned by Broaddrick’s attorney and son, Kevin L. Hickey, NBC removed the word “discredited” from the network’s Internet version of Mitchell’s video report, Broaddrick and Hickey told this reporter. How\n",
      "_________\n",
      "’  ’ ’   FBI Director James Comey informed Congress on Sunday that a   review of new emails found in relation to the bureau’s   investigation into Hillary Clinton’s use of a private email   server had not yielded any reason for charges against the   Democratic presidential nominee. ’ ’   “Based on our review, we have not changed our conclusions that we   expressed in July with respect to Secretary Clinton,” Comey wrote   in a short letter. ’ ’   In July, Comey characterized Clinton and her team \n",
      "_________\n",
      "Washington (CNN) House Speaker Paul Ryan’s attempt to block Hillary Clinton from receiving intelligence briefings once she’s formally nominated by Democrats    given her use of a private email server    has failed. Director of National Intelligence James Clapper told Ryan in a latter obtained Monday by CNN that he ”does not intend to withhold briefings from any officially nominated, eligible candidate.”  How to watch CNN’s town hall with Paul Ryan, Ryan made the request after Clinton was severel\n",
      "_________\n",
      "David Bossie, chairman of the Super PAC Defeat Crooked Hillary, is responding to FBI director James Comey’s announcement that the FBI won’t recommend criminal charges against presumptive Democratic nominee Hillary Clinton’s for her use of a private email server during her time as Secretary of State. [“Despite an extensive investigation acknowledging Secretary Clinton was ‘careless’ and ‘reckless’ in her use of a private email server as Secretary of State, the F. B. I. has recommended not pursuin\n",
      "_________\n",
      " (CNN) Democratic presidential candidate Hillary Clinton on Saturday said she did not send classified emails from her private server while she was secretary of state. ”I am confident that I never sent nor received any information that was classified at the time it was sent and received,” Clinton told reporters in Winterset, Iowa. She added that the latest controversy is an example of disagreement among various parts of the government about what should or should not be publicly released. Clinton’\n",
      "_________\n",
      "FOX News pundit Dana Perino, who is set to meet Facebook representatives alongside Glenn Beck and other conservatives, has said that none of her social media followers are particularly concerned by the social media platform’s ongoing Trending News scandal. [Speaking on The Five Tuesday, Perino said people “are really mad at Facebook for a lot of reasons, but none of them seem to have to do with this news trends, which is the issue. ”   The FOX pundit said that her followers were concerned with “\n",
      "_________\n",
      " (CNN) President Barack Obama did not record private meetings in the White House, a former White House official tells CNN. ”We obviously didn’t record private meetings,” the former official said. ”The Obama White House didn’t secretly record private meetings” The White House press office had a stenographer in meetings with journalists in order to have an independent transcript of the interviews, a common practice, the former official said. ”None of that was hidden,” the former official said. ”Th\n",
      "_________\n",
      "Documents released Friday by the Federal Bureau of Investigation reveal that Hillary Clinton told the agency she could not recall all of the briefings she received on preserving sensitive materials during her transition out of her job as Secretary of State after a concussion she sustained in 2012. [According to the documents  —   which detail the FBI’s   investigation into Clinton’s use of a private email server during her tenure at the State Department  —   Clinton told investigators during an \n",
      "_________\n",
      "Washington (CNN)  Donald Trump downplayed Russia’s role in the election after a briefing with top US intelligence officials, even as a declassified report of their conclusions pointed definitively at Vladimir Putin.  ”While Russia, China, other countries, outside groups and people are consistently trying to break through the cyber infrastructure of our governmental institutions, businesses and organizations, including the Democrat National Committee, there was absolutely no effect on the outcome\n",
      "_________\n",
      "During a press conference on Thursday, Attorney General Jeff Sessions stated, “I never had meetings with Russian operatives or Russian intermediaries about the Trump campaign,” and “no such things were discussed” during his meeting with the Russian ambassador, and “my reply to the question of Senator Franken was honest and correct as I understood it at the time. I appreciate that some have taken the view that this was a false comment. That is not my intent. That is not correct. ”  Sessions said,\n",
      "_________\n",
      "The Department of Justice issued a prompt response to CNN’s Wednesday accusation of impropriety against Attorney General Jeff Sessions. [CNN used the two already reported meetings between Sessions and Russian Ambassador Sergei Kislyac as the basis for a news story on the Attorney General.  Sessions did not mention the meetings, which took place as part of Sessions’ official duties as a United States Senator, on his   the disclosure form for those applying for “top secret” clearance. This fact wa\n",
      "_________\n"
     ]
    }
   ],
   "source": [
    "for article in docs_df[docs_df.Topic==97].content:\n",
    "    print(article[:500])\n",
    "    print(\"_________\")"
   ]
  },
  {
   "cell_type": "code",
   "execution_count": 110,
   "id": "3900be32",
   "metadata": {},
   "outputs": [
    {
     "data": {
      "text/html": [
       "<div>\n",
       "<style scoped>\n",
       "    .dataframe tbody tr th:only-of-type {\n",
       "        vertical-align: middle;\n",
       "    }\n",
       "\n",
       "    .dataframe tbody tr th {\n",
       "        vertical-align: top;\n",
       "    }\n",
       "\n",
       "    .dataframe thead th {\n",
       "        text-align: right;\n",
       "    }\n",
       "</style>\n",
       "<table border=\"1\" class=\"dataframe\">\n",
       "  <thead>\n",
       "    <tr style=\"text-align: right;\">\n",
       "      <th></th>\n",
       "      <th>Topic</th>\n",
       "      <th>content</th>\n",
       "    </tr>\n",
       "  </thead>\n",
       "  <tbody>\n",
       "    <tr>\n",
       "      <th>0</th>\n",
       "      <td>-1</td>\n",
       "      <td>CAIRO  —   Unidentified gunmen sprayed bullets...</td>\n",
       "    </tr>\n",
       "    <tr>\n",
       "      <th>1</th>\n",
       "      <td>0</td>\n",
       "      <td>(CNN) Here’s a look at the life of Donald Tru...</td>\n",
       "    </tr>\n",
       "    <tr>\n",
       "      <th>2</th>\n",
       "      <td>1</td>\n",
       "      <td>advertisement advertisement advertisement adve...</td>\n",
       "    </tr>\n",
       "    <tr>\n",
       "      <th>3</th>\n",
       "      <td>2</td>\n",
       "      <td>’’ ’’ ’’ ’’ ’’ ’’ ’The     business is. ..’ ad...</td>\n",
       "    </tr>\n",
       "    <tr>\n",
       "      <th>4</th>\n",
       "      <td>3</td>\n",
       "      <td>’  ’ ’   ’ ’  ’ ’ ’ ’  ’ ’  ’ ’  ’ ’   ’ ’  ’ ...</td>\n",
       "    </tr>\n",
       "    <tr>\n",
       "      <th>...</th>\n",
       "      <td>...</td>\n",
       "      <td>...</td>\n",
       "    </tr>\n",
       "    <tr>\n",
       "      <th>297</th>\n",
       "      <td>296</td>\n",
       "      <td>In fairness, we Trump supporters don’t want to...</td>\n",
       "    </tr>\n",
       "    <tr>\n",
       "      <th>298</th>\n",
       "      <td>297</td>\n",
       "      <td>(CNN) National security analyst KT McFarland ...</td>\n",
       "    </tr>\n",
       "    <tr>\n",
       "      <th>299</th>\n",
       "      <td>298</td>\n",
       "      <td>(CNN) Former President Barack Obama made his ...</td>\n",
       "    </tr>\n",
       "    <tr>\n",
       "      <th>300</th>\n",
       "      <td>299</td>\n",
       "      <td>Ted Cruz wrapped up the remaining 13 Colorado ...</td>\n",
       "    </tr>\n",
       "    <tr>\n",
       "      <th>301</th>\n",
       "      <td>300</td>\n",
       "      <td>A new poll released by Maine People’s Resource...</td>\n",
       "    </tr>\n",
       "  </tbody>\n",
       "</table>\n",
       "<p>302 rows × 2 columns</p>\n",
       "</div>"
      ],
      "text/plain": [
       "     Topic                                            content\n",
       "0       -1  CAIRO  —   Unidentified gunmen sprayed bullets...\n",
       "1        0   (CNN) Here’s a look at the life of Donald Tru...\n",
       "2        1  advertisement advertisement advertisement adve...\n",
       "3        2  ’’ ’’ ’’ ’’ ’’ ’’ ’The     business is. ..’ ad...\n",
       "4        3  ’  ’ ’   ’ ’  ’ ’ ’ ’  ’ ’  ’ ’  ’ ’   ’ ’  ’ ...\n",
       "..     ...                                                ...\n",
       "297    296  In fairness, we Trump supporters don’t want to...\n",
       "298    297   (CNN) National security analyst KT McFarland ...\n",
       "299    298   (CNN) Former President Barack Obama made his ...\n",
       "300    299  Ted Cruz wrapped up the remaining 13 Colorado ...\n",
       "301    300  A new poll released by Maine People’s Resource...\n",
       "\n",
       "[302 rows x 2 columns]"
      ]
     },
     "execution_count": 110,
     "metadata": {},
     "output_type": "execute_result"
    }
   ],
   "source": [
    "docs_per_topic"
   ]
  },
  {
   "cell_type": "code",
   "execution_count": 27,
   "id": "5bc8d6f6",
   "metadata": {},
   "outputs": [],
   "source": [
    "import numpy as np\n",
    "from sklearn.feature_extraction.text import CountVectorizer\n",
    "\n",
    "def c_tf_idf(documents, m, ngram_range=(1, 1)):\n",
    "    count = CountVectorizer(ngram_range=ngram_range, stop_words=\"english\").fit(documents)\n",
    "    t = count.transform(documents).toarray()\n",
    "    w = t.sum(axis=1)\n",
    "    tf = np.divide(t.T, w)\n",
    "    sum_t = t.sum(axis=0)\n",
    "    idf = np.log(np.divide(m, sum_t)).reshape(-1, 1)\n",
    "    tf_idf = np.multiply(tf, idf)\n",
    "\n",
    "    return tf_idf, count\n",
    "  \n",
    "tf_idf, count = c_tf_idf(docs_per_topic.content.values, m=len(raw_content))"
   ]
  },
  {
   "cell_type": "code",
   "execution_count": 32,
   "id": "c3d930ec",
   "metadata": {
    "scrolled": true
   },
   "outputs": [
    {
     "data": {
      "text/html": [
       "<div>\n",
       "<style scoped>\n",
       "    .dataframe tbody tr th:only-of-type {\n",
       "        vertical-align: middle;\n",
       "    }\n",
       "\n",
       "    .dataframe tbody tr th {\n",
       "        vertical-align: top;\n",
       "    }\n",
       "\n",
       "    .dataframe thead th {\n",
       "        text-align: right;\n",
       "    }\n",
       "</style>\n",
       "<table border=\"1\" class=\"dataframe\">\n",
       "  <thead>\n",
       "    <tr style=\"text-align: right;\">\n",
       "      <th></th>\n",
       "      <th>topic</th>\n",
       "      <th>Size</th>\n",
       "    </tr>\n",
       "  </thead>\n",
       "  <tbody>\n",
       "    <tr>\n",
       "      <th>4</th>\n",
       "      <td>4</td>\n",
       "      <td>222</td>\n",
       "    </tr>\n",
       "    <tr>\n",
       "      <th>1</th>\n",
       "      <td>1</td>\n",
       "      <td>105</td>\n",
       "    </tr>\n",
       "    <tr>\n",
       "      <th>7</th>\n",
       "      <td>7</td>\n",
       "      <td>65</td>\n",
       "    </tr>\n",
       "    <tr>\n",
       "      <th>3</th>\n",
       "      <td>3</td>\n",
       "      <td>32</td>\n",
       "    </tr>\n",
       "    <tr>\n",
       "      <th>6</th>\n",
       "      <td>6</td>\n",
       "      <td>20</td>\n",
       "    </tr>\n",
       "    <tr>\n",
       "      <th>8</th>\n",
       "      <td>8</td>\n",
       "      <td>16</td>\n",
       "    </tr>\n",
       "    <tr>\n",
       "      <th>2</th>\n",
       "      <td>2</td>\n",
       "      <td>12</td>\n",
       "    </tr>\n",
       "    <tr>\n",
       "      <th>5</th>\n",
       "      <td>5</td>\n",
       "      <td>11</td>\n",
       "    </tr>\n",
       "    <tr>\n",
       "      <th>9</th>\n",
       "      <td>9</td>\n",
       "      <td>10</td>\n",
       "    </tr>\n",
       "    <tr>\n",
       "      <th>0</th>\n",
       "      <td>0</td>\n",
       "      <td>7</td>\n",
       "    </tr>\n",
       "  </tbody>\n",
       "</table>\n",
       "</div>"
      ],
      "text/plain": [
       "   topic  Size\n",
       "4      4   222\n",
       "1      1   105\n",
       "7      7    65\n",
       "3      3    32\n",
       "6      6    20\n",
       "8      8    16\n",
       "2      2    12\n",
       "5      5    11\n",
       "9      9    10\n",
       "0      0     7"
      ]
     },
     "execution_count": 32,
     "metadata": {},
     "output_type": "execute_result"
    }
   ],
   "source": [
    "def extract_top_n_words_per_topic(tf_idf, count, docs_per_topic, n=20):\n",
    "    words = count.get_feature_names()\n",
    "    labels = list(docs_per_topic.topic)\n",
    "    tf_idf_transposed = tf_idf.T\n",
    "    indices = tf_idf_transposed.argsort()[:, -n:]\n",
    "    top_n_words = {label: [(words[j], tf_idf_transposed[i][j]) for j in indices[i]][::-1] for i, label in enumerate(labels)}\n",
    "    return top_n_words\n",
    "\n",
    "def extract_topic_sizes(df):\n",
    "    topic_sizes = (df.groupby(['topic'])\n",
    "                     .content\n",
    "                     .count()\n",
    "                     .reset_index()\n",
    "                     .rename({\"topic\": \"topic\", \"content\": \"Size\"}, axis='columns')\n",
    "                     .sort_values(\"Size\", ascending=False))\n",
    "    return topic_sizes\n",
    "\n",
    "top_n_words = extract_top_n_words_per_topic(tf_idf, count, docs_per_topic, n=20)\n",
    "topic_sizes = extract_topic_sizes(raw_data); topic_sizes.head(10)"
   ]
  },
  {
   "cell_type": "code",
   "execution_count": 34,
   "id": "4a730001",
   "metadata": {},
   "outputs": [
    {
     "data": {
      "text/plain": [
       "{0: [('berkeley', 0.03790399436411166),\n",
       "  ('milo', 0.03452270839997035),\n",
       "  ('bcr', 0.033793136490376435),\n",
       "  ('event', 0.03329955344309578),\n",
       "  ('fees', 0.02497548359914517),\n",
       "  ('university', 0.022554546991616724),\n",
       "  ('college', 0.021830192099443445),\n",
       "  ('students', 0.020191842585142967),\n",
       "  ('campus', 0.017824492909852857),\n",
       "  ('uc', 0.017671651951890414),\n",
       "  ('fee', 0.01575088543160305),\n",
       "  ('sponsors', 0.01575088543160305),\n",
       "  ('dirks', 0.01375587959345385),\n",
       "  ('security', 0.013593313738962897),\n",
       "  ('kew', 0.012161532619278858),\n",
       "  ('ben_kew', 0.012161532619278858),\n",
       "  ('free', 0.01166768553685739),\n",
       "  ('riots', 0.011445537097111033),\n",
       "  ('letter', 0.011243970769085822),\n",
       "  ('ucpd', 0.010931614978107015)],\n",
       " 1: [('14', 0.00722446293500642),\n",
       "  ('june', 0.006985449843423584),\n",
       "  ('pm', 0.006879888484055263),\n",
       "  ('orlando', 0.006584593711736108),\n",
       "  ('mateen', 0.006524528353843606),\n",
       "  ('https', 0.005162131461129256),\n",
       "  ('facebook', 0.004713970498174715),\n",
       "  ('pic', 0.004448411815540205),\n",
       "  ('tire', 0.003718695361743698),\n",
       "  ('kellogg', 0.0035138231115771613),\n",
       "  ('pulse', 0.003272451918334454),\n",
       "  ('yiannopoulos', 0.0031904245794643657),\n",
       "  ('ross', 0.0031107714931343676),\n",
       "  ('omar', 0.003083829537169205),\n",
       "  ('shooting', 0.00298150166988552),\n",
       "  ('twitter', 0.0029622199181991715),\n",
       "  ('rolling', 0.002961513591598084),\n",
       "  ('follow', 0.0028821665002108144),\n",
       "  ('espn', 0.0027979682973808062),\n",
       "  ('gay', 0.0027864132118632042)],\n",
       " 2: [('israeli', 0.022309006260425486),\n",
       "  ('israel', 0.02037284287610249),\n",
       "  ('syrian', 0.02005147800713786),\n",
       "  ('syria', 0.018494490936753774),\n",
       "  ('forces', 0.017001767151959342),\n",
       "  ('resolution', 0.01700105033444347),\n",
       "  ('palestinian', 0.016883145255377062),\n",
       "  ('isis', 0.014264273869120048),\n",
       "  ('palestinians', 0.01342889100224772),\n",
       "  ('peace', 0.011475515212002567),\n",
       "  ('ceasefire', 0.010862249387073367),\n",
       "  ('war', 0.010587023971279667),\n",
       "  ('maliki', 0.010357487438252967),\n",
       "  ('official', 0.010261605597931663),\n",
       "  ('council', 0.009306620681152901),\n",
       "  ('troops', 0.00895259400149848),\n",
       "  ('sadat', 0.008758626543272134),\n",
       "  ('iraq', 0.008525337633519911),\n",
       "  ('mustard', 0.008509152281887153),\n",
       "  ('conflict', 0.00839460933828882)],\n",
       " 3: [('sharapova', 0.010024581924185538),\n",
       "  ('women', 0.009471687332475033),\n",
       "  ('bouchard', 0.005914864404680066),\n",
       "  ('woman', 0.005896540162323393),\n",
       "  ('ms', 0.005021267936825796),\n",
       "  ('uconn', 0.004673333492652131),\n",
       "  ('meldonium', 0.004587320359194683),\n",
       "  ('orchestra', 0.004465632743386233),\n",
       "  ('dolezal', 0.004447597580035279),\n",
       "  ('bond', 0.004444311029263232),\n",
       "  ('men', 0.004437945130822311),\n",
       "  ('william', 0.0042529258698169705),\n",
       "  ('gender', 0.0042529258698169705),\n",
       "  ('girl', 0.004249487533089348),\n",
       "  ('philharmonic', 0.004215509874054955),\n",
       "  ('negotiate', 0.0041629040138567875),\n",
       "  ('cox', 0.004103661327178644),\n",
       "  ('borda', 0.003976580842613087),\n",
       "  ('davis', 0.003885377079599668),\n",
       "  ('mildronate', 0.00373023910100951)],\n",
       " 4: [('percent', 0.0018116570318634458),\n",
       "  ('county', 0.0015986283591347642),\n",
       "  ('nawaz', 0.0015772950767711533),\n",
       "  ('sears', 0.0015721861088093198),\n",
       "  ('data', 0.0015691838343167568),\n",
       "  ('court', 0.0015225197164713802),\n",
       "  ('health', 0.0015131218290820698),\n",
       "  ('federal', 0.0014894642934859526),\n",
       "  ('city', 0.0014858443013278455),\n",
       "  ('illegal', 0.0014857448712542773),\n",
       "  ('number', 0.0014655663314912402),\n",
       "  ('lampert', 0.0014646903112624312),\n",
       "  ('program', 0.0014424900801543981),\n",
       "  ('officers', 0.0014299622763316428),\n",
       "  ('refugees', 0.0014225374374273478),\n",
       "  ('food', 0.0014172689597827482),\n",
       "  ('company', 0.0013735000891971231),\n",
       "  ('border', 0.0013684871334817452),\n",
       "  ('public', 0.0013604559054788013),\n",
       "  ('government', 0.0013604233810189507)],\n",
       " 5: [('cosby', 0.032640048069208366),\n",
       "  ('ailes', 0.028933338876038314),\n",
       "  ('sexual', 0.023866976282257688),\n",
       "  ('assault', 0.018382302946435305),\n",
       "  ('drudge', 0.015540300906134771),\n",
       "  ('sherman', 0.013679984940436325),\n",
       "  ('19', 0.013459199917443503),\n",
       "  ('robinson', 0.012450477510882008),\n",
       "  ('fox', 0.011939738448285093),\n",
       "  ('kelly', 0.011185598917513218),\n",
       "  ('gabriel', 0.011145364687829477),\n",
       "  ('july', 0.011122098127526361),\n",
       "  ('columbia', 0.010876613515575383),\n",
       "  ('roger', 0.010873825714027981),\n",
       "  ('gabrielsherman', 0.010472090045564687),\n",
       "  ('unc', 0.010472090045564687),\n",
       "  ('constand', 0.010472090045564687),\n",
       "  ('jimrutenberg', 0.010472090045564687),\n",
       "  ('update', 0.010193162469707093),\n",
       "  ('allegations', 0.009994640683631841)],\n",
       " 6: [('sanders', 0.021635418309648047),\n",
       "  ('mrs', 0.012968702964402274),\n",
       "  ('bernie', 0.01179433095035877),\n",
       "  ('emails', 0.00817307355252714),\n",
       "  ('hillary', 0.007868497924316964),\n",
       "  ('democratic', 0.007486247738699863),\n",
       "  ('pennsylvania', 0.007114518785176229),\n",
       "  ('husband', 0.006768907428548464),\n",
       "  ('fallon', 0.006636479445968312),\n",
       "  ('foundation', 0.006561215453390916),\n",
       "  ('trade', 0.006399445150574745),\n",
       "  ('platform', 0.0063228765691649225),\n",
       "  ('clintons', 0.006063213804717972),\n",
       "  ('democrat', 0.005789307752991985),\n",
       "  ('secretary', 0.005511965680703143),\n",
       "  ('primary', 0.005491825573861447),\n",
       "  ('supporters', 0.00495787604458405),\n",
       "  ('2008', 0.004911928612219744),\n",
       "  ('vermont', 0.004548962252928147),\n",
       "  ('progressive', 0.00454741035353848)],\n",
       " 7: [('kushner', 0.0040933779905480425),\n",
       "  ('comey', 0.0038844283547167717),\n",
       "  ('ryan', 0.0038627810873560313),\n",
       "  ('intelligence', 0.0031465025352766505),\n",
       "  ('strategy', 0.0025553123251642286),\n",
       "  ('investigation', 0.002452636805468158),\n",
       "  ('mueller', 0.002433032794984592),\n",
       "  ('mrs', 0.002325950070844953),\n",
       "  ('flynn', 0.0023195676688219044),\n",
       "  ('russia', 0.002317691203224881),\n",
       "  ('foreign', 0.0022955279872511575),\n",
       "  ('election', 0.002262179813565171),\n",
       "  ('russian', 0.0022131529068528688),\n",
       "  ('nunes', 0.0021988746472492507),\n",
       "  ('nuclear', 0.00219491825380306),\n",
       "  ('republican', 0.0021455459855674918),\n",
       "  ('administration', 0.0021403781905865145),\n",
       "  ('counsel', 0.0021322938165177717),\n",
       "  ('bannon', 0.0021170170405534713),\n",
       "  ('office', 0.002079959047037863)],\n",
       " 8: [('rubio', 0.02417618208505892),\n",
       "  ('cruz', 0.020441752702036506),\n",
       "  ('26', 0.019476837642240633),\n",
       "  ('february', 0.015299431719677544),\n",
       "  ('christie', 0.015136599251617726),\n",
       "  ('marco', 0.01229381266293965),\n",
       "  ('ted', 0.011031200709191533),\n",
       "  ('realdonaldtrump', 0.009677989913151431),\n",
       "  ('kasich', 0.009315060071614546),\n",
       "  ('marcorubio', 0.009085484267578178),\n",
       "  ('delegates', 0.008048501347072542),\n",
       "  ('endorsement', 0.007099331277465614),\n",
       "  ('tillerson', 0.006894500443244708),\n",
       "  ('jeb', 0.006539175041079722),\n",
       "  ('chris', 0.006251220219613984),\n",
       "  ('pm', 0.006142118590277048),\n",
       "  ('sen', 0.006053576191866719),\n",
       "  ('debate', 0.005990912620189551),\n",
       "  ('poll', 0.005980088371619839),\n",
       "  ('super', 0.005670036565330594)],\n",
       " 9: [('korea', 0.04866726539574161),\n",
       "  ('north', 0.03863694581137653),\n",
       "  ('korean', 0.036097950041518355),\n",
       "  ('missile', 0.034947985610424316),\n",
       "  ('kim', 0.029599531898417478),\n",
       "  ('nuclear', 0.020805427051564365),\n",
       "  ('test', 0.019289035432570874),\n",
       "  ('launch', 0.016946494834748336),\n",
       "  ('japan', 0.01669409750353021),\n",
       "  ('sea', 0.01629160784387853),\n",
       "  ('musudan', 0.015941998099547508),\n",
       "  ('aircraft', 0.015642918308998464),\n",
       "  ('south', 0.015457691654827263),\n",
       "  ('missiles', 0.015242672169367774),\n",
       "  ('ship', 0.014381484322516992),\n",
       "  ('pyongyang', 0.014170664977375564),\n",
       "  ('jong', 0.013174993670885428),\n",
       "  ('miles', 0.012628127003332294),\n",
       "  ('flew', 0.012612172024010345),\n",
       "  ('porter', 0.012612172024010345)]}"
      ]
     },
     "execution_count": 34,
     "metadata": {},
     "output_type": "execute_result"
    }
   ],
   "source": [
    "top_n_words"
   ]
  },
  {
   "cell_type": "code",
   "execution_count": 33,
   "id": "553492ca",
   "metadata": {},
   "outputs": [
    {
     "data": {
      "text/plain": [
       "[('percent', 0.0018116570318634458),\n",
       " ('county', 0.0015986283591347642),\n",
       " ('nawaz', 0.0015772950767711533),\n",
       " ('sears', 0.0015721861088093198),\n",
       " ('data', 0.0015691838343167568),\n",
       " ('court', 0.0015225197164713802),\n",
       " ('health', 0.0015131218290820698),\n",
       " ('federal', 0.0014894642934859526),\n",
       " ('city', 0.0014858443013278455),\n",
       " ('illegal', 0.0014857448712542773),\n",
       " ('number', 0.0014655663314912402),\n",
       " ('lampert', 0.0014646903112624312),\n",
       " ('program', 0.0014424900801543981),\n",
       " ('officers', 0.0014299622763316428),\n",
       " ('refugees', 0.0014225374374273478),\n",
       " ('food', 0.0014172689597827482),\n",
       " ('company', 0.0013735000891971231),\n",
       " ('border', 0.0013684871334817452),\n",
       " ('public', 0.0013604559054788013),\n",
       " ('government', 0.0013604233810189507)]"
      ]
     },
     "execution_count": 33,
     "metadata": {},
     "output_type": "execute_result"
    }
   ],
   "source": [
    "top_n_words[4][:20]"
   ]
  },
  {
   "cell_type": "markdown",
   "id": "6b108e9e",
   "metadata": {},
   "source": [
    "## Kmeans"
   ]
  },
  {
   "cell_type": "code",
   "execution_count": 129,
   "id": "570657ca",
   "metadata": {},
   "outputs": [],
   "source": [
    "from sklearn.cluster import KMeans\n",
    "\n",
    "bert_kmean_model = KMeans(n_clusters=400).fit(umap_embeddings)"
   ]
  },
  {
   "cell_type": "code",
   "execution_count": 130,
   "id": "88c32e5a",
   "metadata": {},
   "outputs": [
    {
     "data": {
      "text/plain": [
       "<matplotlib.colorbar.Colorbar at 0x7f0415e6ff40>"
      ]
     },
     "execution_count": 130,
     "metadata": {},
     "output_type": "execute_result"
    },
    {
     "data": {
      "image/png": "[encoded data removed]",
      "text/plain": [
       "<Figure size 1440x720 with 2 Axes>"
      ]
     },
     "metadata": {
      "needs_background": "light"
     },
     "output_type": "display_data"
    }
   ],
   "source": [
    "import matplotlib.pyplot as plt\n",
    "\n",
    "# Prepare data\n",
    "umap_data = umap.UMAP(n_neighbors=15, n_components=2, min_dist=0.0, metric='cosine').fit_transform(embeddings)\n",
    "result = pd.DataFrame(umap_data, columns=['x', 'y'])\n",
    "result['labels'] = bert_kmean_model.labels_\n",
    "\n",
    "# Visualize clusters\n",
    "fig, ax = plt.subplots(figsize=(20, 10))\n",
    "outliers = result.loc[result.labels == -1, :]\n",
    "clustered = result.loc[result.labels != -1, :]\n",
    "plt.scatter(outliers.x, outliers.y, color='#BDBDBD', s=0.05)\n",
    "plt.scatter(clustered.x, clustered.y, c=clustered.labels, s=0.05, cmap='hsv_r')\n",
    "plt.colorbar()"
   ]
  },
  {
   "cell_type": "code",
   "execution_count": 131,
   "id": "9a74804a",
   "metadata": {},
   "outputs": [],
   "source": [
    "docs_df = pd.DataFrame(raw_content)\n",
    "docs_df['Topic'] = bert_kmean_model.labels_\n",
    "docs_df['Doc_ID'] = range(len(docs_df))\n",
    "docs_per_topic = docs_df.groupby(['Topic'], as_index = False).agg({'content': ' '.join})"
   ]
  },
  {
   "cell_type": "code",
   "execution_count": 151,
   "id": "74cde62a",
   "metadata": {},
   "outputs": [
    {
     "data": {
      "text/html": [
       "<div>\n",
       "<style scoped>\n",
       "    .dataframe tbody tr th:only-of-type {\n",
       "        vertical-align: middle;\n",
       "    }\n",
       "\n",
       "    .dataframe tbody tr th {\n",
       "        vertical-align: top;\n",
       "    }\n",
       "\n",
       "    .dataframe thead th {\n",
       "        text-align: right;\n",
       "    }\n",
       "</style>\n",
       "<table border=\"1\" class=\"dataframe\">\n",
       "  <thead>\n",
       "    <tr style=\"text-align: right;\">\n",
       "      <th></th>\n",
       "      <th>content</th>\n",
       "      <th>Topic</th>\n",
       "      <th>Doc_ID</th>\n",
       "    </tr>\n",
       "  </thead>\n",
       "  <tbody>\n",
       "    <tr>\n",
       "      <th>2713</th>\n",
       "      <td>CAIRO  —   Unidentified gunmen sprayed bullets...</td>\n",
       "      <td>58</td>\n",
       "      <td>0</td>\n",
       "    </tr>\n",
       "    <tr>\n",
       "      <th>22146</th>\n",
       "      <td>On December 20, the BBC pointed out that the “...</td>\n",
       "      <td>236</td>\n",
       "      <td>1</td>\n",
       "    </tr>\n",
       "    <tr>\n",
       "      <th>17282</th>\n",
       "      <td>A new poll released by Maine People’s Resource...</td>\n",
       "      <td>12</td>\n",
       "      <td>2</td>\n",
       "    </tr>\n",
       "    <tr>\n",
       "      <th>6447</th>\n",
       "      <td>WASHINGTON  —     Donald J. Trump on Wednesday...</td>\n",
       "      <td>271</td>\n",
       "      <td>3</td>\n",
       "    </tr>\n",
       "    <tr>\n",
       "      <th>24136</th>\n",
       "      <td>Breitbart Tech editor Milo Yiannopoulos told B...</td>\n",
       "      <td>164</td>\n",
       "      <td>4</td>\n",
       "    </tr>\n",
       "    <tr>\n",
       "      <th>...</th>\n",
       "      <td>...</td>\n",
       "      <td>...</td>\n",
       "      <td>...</td>\n",
       "    </tr>\n",
       "    <tr>\n",
       "      <th>9481</th>\n",
       "      <td>Failed presidential candidate Hillary Clinton ...</td>\n",
       "      <td>272</td>\n",
       "      <td>4995</td>\n",
       "    </tr>\n",
       "    <tr>\n",
       "      <th>37766</th>\n",
       "      <td>(CNN) It was a   attempt to show the disturbi...</td>\n",
       "      <td>262</td>\n",
       "      <td>4996</td>\n",
       "    </tr>\n",
       "    <tr>\n",
       "      <th>31219</th>\n",
       "      <td>On Friday’s “PBS NewsHour,” New York Times col...</td>\n",
       "      <td>191</td>\n",
       "      <td>4997</td>\n",
       "    </tr>\n",
       "    <tr>\n",
       "      <th>45050</th>\n",
       "      <td>’  ’ ”   Environmental Protection Agency Admin...</td>\n",
       "      <td>61</td>\n",
       "      <td>4998</td>\n",
       "    </tr>\n",
       "    <tr>\n",
       "      <th>22766</th>\n",
       "      <td>Outgoing Secretary of State John Kerry placed ...</td>\n",
       "      <td>130</td>\n",
       "      <td>4999</td>\n",
       "    </tr>\n",
       "  </tbody>\n",
       "</table>\n",
       "<p>5000 rows × 3 columns</p>\n",
       "</div>"
      ],
      "text/plain": [
       "                                                 content  Topic  Doc_ID\n",
       "2713   CAIRO  —   Unidentified gunmen sprayed bullets...     58       0\n",
       "22146  On December 20, the BBC pointed out that the “...    236       1\n",
       "17282  A new poll released by Maine People’s Resource...     12       2\n",
       "6447   WASHINGTON  —     Donald J. Trump on Wednesday...    271       3\n",
       "24136  Breitbart Tech editor Milo Yiannopoulos told B...    164       4\n",
       "...                                                  ...    ...     ...\n",
       "9481   Failed presidential candidate Hillary Clinton ...    272    4995\n",
       "37766   (CNN) It was a   attempt to show the disturbi...    262    4996\n",
       "31219  On Friday’s “PBS NewsHour,” New York Times col...    191    4997\n",
       "45050  ’  ’ ”   Environmental Protection Agency Admin...     61    4998\n",
       "22766  Outgoing Secretary of State John Kerry placed ...    130    4999\n",
       "\n",
       "[5000 rows x 3 columns]"
      ]
     },
     "execution_count": 151,
     "metadata": {},
     "output_type": "execute_result"
    }
   ],
   "source": []
  },
  {
   "cell_type": "code",
   "execution_count": null,
   "id": "47bb16a0",
   "metadata": {},
   "outputs": [],
   "source": []
  }
 ],
 "metadata": {
  "kernelspec": {
   "display_name": "Python 3",
   "language": "python",
   "name": "python3"
  },
  "language_info": {
   "codemirror_mode": {
    "name": "ipython",
    "version": 3
   },
   "file_extension": ".py",
   "mimetype": "text/x-python",
   "name": "python",
   "nbconvert_exporter": "python",
   "pygments_lexer": "ipython3",
   "version": "3.8.6"
  },
  "toc": {
   "base_numbering": 1,
   "nav_menu": {},
   "number_sections": true,
   "sideBar": true,
   "skip_h1_title": false,
   "title_cell": "Table of Contents",
   "title_sidebar": "Contents",
   "toc_cell": false,
   "toc_position": {},
   "toc_section_display": true,
   "toc_window_display": false
  }
 },
 "nbformat": 4,
 "nbformat_minor": 5
}
